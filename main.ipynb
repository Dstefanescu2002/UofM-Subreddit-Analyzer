{
 "cells": [
  {
   "attachments": {},
   "cell_type": "markdown",
   "metadata": {},
   "source": [
    "*This notebook bring everything together, we attempt to compare the sentiment data off reddit with the atlas data which we collect*"
   ]
  },
  {
   "cell_type": "code",
   "execution_count": 2,
   "metadata": {},
   "outputs": [],
   "source": [
    "%load_ext autoreload\n",
    "%autoreload 2"
   ]
  },
  {
   "cell_type": "code",
   "execution_count": 3,
   "metadata": {},
   "outputs": [
    {
     "name": "stderr",
     "output_type": "stream",
     "text": [
      "/Library/Frameworks/Python.framework/Versions/3.9/lib/python3.9/site-packages/IPython/core/interactiveshell.py:3441: DtypeWarning: Columns (5) have mixed types.Specify dtype option on import or set low_memory=False.\n",
      "  exec(code_obj, self.user_global_ns, self.user_ns)\n"
     ]
    }
   ],
   "source": [
    "import os \n",
    "import pandas as pd\n",
    "\n",
    "text_bodies = []\n",
    "data_directory = './Labeled_Sentiment'\n",
    "for filename in os.listdir(data_directory):\n",
    "    f = os.path.join(data_directory, filename)\n",
    "    if os.path.isfile(f):\n",
    "        parser_df = pd.read_csv(f, keep_default_na=False, sep=',')\n",
    "        for index, row in parser_df.iterrows():\n",
    "            if 'body' in row:\n",
    "                text_bodies.append(row['body'])\n",
    "            elif 'title_text_combined' in row:\n",
    "                text_bodies.append(row['title_text_combined'])\n",
    "            else:\n",
    "                print (f'Row {index} has no body or title_text_combined row!')\n",
    "            if not isinstance(text_bodies[-1], str):\n",
    "                print (row)\n",
    "                print (len(text_bodies))"
   ]
  },
  {
   "attachments": {},
   "cell_type": "markdown",
   "metadata": {},
   "source": [
    "We will not parse the files in the data directory, and store the resulting text bodies in text_bodies. For comments, we add the column 'body' and for posts we add the column 'title_text_combined'"
   ]
  },
  {
   "cell_type": "code",
   "execution_count": 143,
   "metadata": {},
   "outputs": [
    {
     "name": "stdout",
     "output_type": "stream",
     "text": [
      "Failed on 712 sentiment labels.\n",
      "Length of dataset: 239422\n"
     ]
    }
   ],
   "source": [
    "import pandas as pd\n",
    "from Sentiment_Analysis.sentiment_enum import LABEL_TO_NUM\n",
    "import math\n",
    "\n",
    "data = pd.read_csv('./labeled_sentiment/comments_with_sentiment.csv')\n",
    "\n",
    "sentiment_labels = []\n",
    "failed = 0\n",
    "for i in range(len(data)):\n",
    "    try:\n",
    "        pred_label = LABEL_TO_NUM[data['predicted_label'][i]]\n",
    "        # if float(data['score'][i] == 0):\n",
    "        #     log_val = 0\n",
    "        # else:\n",
    "        #     log_val = math.log(abs(float(data['score'][i])))\n",
    "\n",
    "        # if float(data['score'][i]) < 0:\n",
    "        #     sentiment_label =  - log_val * pred_label\n",
    "        # elif float(data['score'][i]) > 0:\n",
    "        #     sentiment_label =  log_val * pred_label\n",
    "        # else:\n",
    "        #     sentiment_label = 0\n",
    "        \n",
    "        sentiment_labels.append(pred_label + float(data['score'][i]) * 0.1 * pred_label)\n",
    "    except Exception as e:\n",
    "        sentiment_labels.append(0)\n",
    "        failed += 1\n",
    "\n",
    "print (f'Failed on {failed} sentiment labels.')\n",
    "print (f'Length of dataset: {len(sentiment_labels)}')"
   ]
  },
  {
   "attachments": {},
   "cell_type": "markdown",
   "metadata": {},
   "source": [
    "We will now run entity extraction on the text_bodies list, and store the entities for each post/comment into entity_labels"
   ]
  },
  {
   "cell_type": "code",
   "execution_count": 110,
   "metadata": {},
   "outputs": [
    {
     "ename": "ModuleNotFoundError",
     "evalue": "No module named 'department_names'",
     "output_type": "error",
     "traceback": [
      "\u001b[0;31m---------------------------------------------------------------------------\u001b[0m",
      "\u001b[0;31mModuleNotFoundError\u001b[0m                       Traceback (most recent call last)",
      "\u001b[0;32m/var/folders/gv/cjn8_2s549df90kjnvs84nmc0000gn/T/ipykernel_72591/166230287.py\u001b[0m in \u001b[0;36m<module>\u001b[0;34m\u001b[0m\n\u001b[0;32m----> 1\u001b[0;31m \u001b[0;32mfrom\u001b[0m \u001b[0mEntity_Extraction\u001b[0m\u001b[0;34m.\u001b[0m\u001b[0mentity_extraction\u001b[0m \u001b[0;32mimport\u001b[0m \u001b[0mEntityExtractor\u001b[0m\u001b[0;34m\u001b[0m\u001b[0;34m\u001b[0m\u001b[0m\n\u001b[0m\u001b[1;32m      2\u001b[0m \u001b[0mentityExtractor\u001b[0m \u001b[0;34m=\u001b[0m \u001b[0mEntityExtractor\u001b[0m\u001b[0;34m(\u001b[0m\u001b[0;34m)\u001b[0m\u001b[0;34m\u001b[0m\u001b[0;34m\u001b[0m\u001b[0m\n\u001b[1;32m      3\u001b[0m \u001b[0mentity_labels\u001b[0m \u001b[0;34m=\u001b[0m \u001b[0mentityExtractor\u001b[0m\u001b[0;34m.\u001b[0m\u001b[0mbatch_extract\u001b[0m\u001b[0;34m(\u001b[0m\u001b[0mtext_bodies\u001b[0m\u001b[0;34m)\u001b[0m\u001b[0;34m\u001b[0m\u001b[0;34m\u001b[0m\u001b[0m\n",
      "\u001b[0;32m~/Desktop/EECS-448/EECS448-final-project/Entity_Extraction/entity_extraction.py\u001b[0m in \u001b[0;36m<module>\u001b[0;34m\u001b[0m\n\u001b[0;32m----> 1\u001b[0;31m \u001b[0;32mfrom\u001b[0m \u001b[0mdepartment_names\u001b[0m \u001b[0;32mimport\u001b[0m \u001b[0mDEPARTMENT_NAMES\u001b[0m\u001b[0;34m\u001b[0m\u001b[0;34m\u001b[0m\u001b[0m\n\u001b[0m\u001b[1;32m      2\u001b[0m \u001b[0;32mimport\u001b[0m \u001b[0mre\u001b[0m\u001b[0;34m\u001b[0m\u001b[0;34m\u001b[0m\u001b[0m\n\u001b[1;32m      3\u001b[0m \u001b[0;34m\u001b[0m\u001b[0m\n\u001b[1;32m      4\u001b[0m \u001b[0;32mclass\u001b[0m \u001b[0mEntityExtractor\u001b[0m\u001b[0;34m:\u001b[0m\u001b[0;34m\u001b[0m\u001b[0;34m\u001b[0m\u001b[0m\n\u001b[1;32m      5\u001b[0m \u001b[0;34m\u001b[0m\u001b[0m\n",
      "\u001b[0;31mModuleNotFoundError\u001b[0m: No module named 'department_names'"
     ]
    }
   ],
   "source": [
    "from Entity_Extraction.entity_extraction import EntityExtractor\n",
    "entityExtractor = EntityExtractor()\n",
    "entity_labels = entityExtractor.batch_extract(text_bodies)"
   ]
  },
  {
   "cell_type": "code",
   "execution_count": 144,
   "metadata": {},
   "outputs": [
    {
     "name": "stdout",
     "output_type": "stream",
     "text": [
      "Length of dataset: 239422\n"
     ]
    }
   ],
   "source": [
    "import pandas as pd\n",
    "\n",
    "data = pd.read_csv('./Entity_Extraction/entities.csv')\n",
    "\n",
    "entity_labels = []\n",
    "failed = 0\n",
    "for i in range(len(data)):\n",
    "    entity_label = data['entity'][i]\n",
    "    if entity_label == 'NONE':\n",
    "        entity_labels.append([])\n",
    "    else:\n",
    "        entity_labels.append([entity_label])\n",
    "\n",
    "print (f'Length of dataset: {len(entity_labels)}')"
   ]
  },
  {
   "attachments": {},
   "cell_type": "markdown",
   "metadata": {},
   "source": [
    "Now, we will assign average sentiment to each entity. We first match each entity with the sentiment of all posts it is seen in. Then, we calculate an average for the sentiment of that label."
   ]
  },
  {
   "cell_type": "code",
   "execution_count": 145,
   "metadata": {},
   "outputs": [],
   "source": [
    "entity_sentiment_dict = dict()\n",
    "for index in range(len(sentiment_labels)):\n",
    "    temp_entities = entity_labels[index]\n",
    "    temp_sentiment = sentiment_labels[index]\n",
    "\n",
    "    for e in temp_entities:\n",
    "        if e not in entity_sentiment_dict:\n",
    "            entity_sentiment_dict[e] = []\n",
    "        entity_sentiment_dict[e].append(temp_sentiment)\n",
    "\n",
    "to_del = []\n",
    "for e in entity_sentiment_dict:\n",
    "    new_e_s = []\n",
    "    for x in entity_sentiment_dict[e]:\n",
    "        if x != 0:\n",
    "            new_e_s.append(x)\n",
    "    if len(new_e_s) == 0:\n",
    "        to_del.append(e)\n",
    "    else:\n",
    "        entity_sentiment_dict[e] = \\\n",
    "            (len(new_e_s), sum(new_e_s)/len(new_e_s))\n",
    "for i in to_del:\n",
    "    del entity_sentiment_dict[i]"
   ]
  },
  {
   "attachments": {},
   "cell_type": "markdown",
   "metadata": {},
   "source": [
    "Run the following two cells to get some summaries of the data and a sense of what they contain"
   ]
  },
  {
   "cell_type": "code",
   "execution_count": 146,
   "metadata": {},
   "outputs": [
    {
     "data": {
      "text/plain": [
       "[('EECS 496', (57, -1.9070175438596493)),\n",
       " ('CHEM 216', (16, -1.6)),\n",
       " ('BE 100', (34, -1.2088235294117649)),\n",
       " ('EECS 477', (16, -0.7625000000000001)),\n",
       " ('PHYSICS 235', (25, -0.7080000000000001)),\n",
       " ('EECS 484', (35, -0.5685714285714286)),\n",
       " ('ECON 251', (15, -0.5666666666666667)),\n",
       " ('MATH 216', (105, -0.5647619047619048)),\n",
       " ('MATH 215', (201, -0.551741293532338)),\n",
       " ('ASTRO 102', (22, -0.5045454545454549)),\n",
       " ('EECS 376', (320, -0.35468750000000004)),\n",
       " ('STATS 280', (16, -0.33125000000000004)),\n",
       " ('EECS 370', (391, -0.3153452685421997)),\n",
       " ('EECS 381', (25, -0.2879999999999999)),\n",
       " ('CHEM 215', (73, -0.28493150684931523)),\n",
       " ('MATH 105', (21, -0.27619047619047626)),\n",
       " ('MATH 465', (15, -0.2000000000000001)),\n",
       " ('ECON 102', (29, -0.17931034482758623)),\n",
       " ('EECS 467', (18, -0.1777777777777777)),\n",
       " ('ECON 401', (61, -0.17704918032786893)),\n",
       " ('STATS 250', (524, -0.14866412213740451)),\n",
       " ('SPANISH 231', (12, -0.12499999999999996)),\n",
       " ('BIO 305', (17, -0.08235294117647053)),\n",
       " ('STATS 306', (13, -0.07692307692307689)),\n",
       " ('SPANISH 232', (35, -0.06857142857142856)),\n",
       " ('EECS 203', (1103, -0.06618313689936553)),\n",
       " ('PHYSICS 135', (40, -0.06499999999999999)),\n",
       " ('EECS 280', (785, -0.061910828025477926)),\n",
       " ('STATS 412', (88, -0.061363636363636315)),\n",
       " ('EECS 482', (182, -0.05109890109890118)),\n",
       " ('MATH 115', (208, -0.03798076923076921)),\n",
       " ('MATH 451', (21, -0.014285714285714266)),\n",
       " ('EECS 281', (1211, -0.009083402146986205)),\n",
       " ('BIO 173', (42, -0.007142857142857165)),\n",
       " ('CHEM 351', (22, 0.00454545454545453)),\n",
       " ('CHEM 130', (133, 0.00977443609022564)),\n",
       " ('MATH 214', (185, 0.018378378378378354)),\n",
       " ('BIO 171', (23, 0.0304347826086957)),\n",
       " ('ENGR 101', (78, 0.04230769230769227)),\n",
       " ('PHYSICS 340', (27, 0.05555555555555558)),\n",
       " ('STATS 425', (15, 0.06666666666666667)),\n",
       " ('CHEM 125', (35, 0.07142857142857142)),\n",
       " ('EECS 215', (40, 0.07250000000000001)),\n",
       " ('BIO 172', (31, 0.07419354838709677)),\n",
       " ('EECS 216', (35, 0.07428571428571429)),\n",
       " ('EECS 489', (27, 0.07777777777777777)),\n",
       " ('CHEM 210', (183, 0.0814207650273224)),\n",
       " ('PSYCH 240', (23, 0.08695652173913042)),\n",
       " ('ANTHRCUL 101', (34, 0.08823529411764706)),\n",
       " ('MATH 116', (147, 0.0993197278911566)),\n",
       " ('MATH 217', (186, 0.10752688172043015)),\n",
       " ('EECS 492', (59, 0.123728813559322)),\n",
       " ('CHEM 230', (15, 0.12666666666666665)),\n",
       " ('PHYSICS 240', (95, 0.13684210526315788)),\n",
       " ('MATH 412', (18, 0.15000000000000002)),\n",
       " ('CHEM 211', (18, 0.15555555555555559)),\n",
       " ('EECS 388', (141, 0.15673758865248233)),\n",
       " ('MATH 316', (18, 0.16666666666666674)),\n",
       " ('EECS 445', (118, 0.1754237288135593)),\n",
       " ('ENGLISH 125', (35, 0.19714285714285723)),\n",
       " ('EECS 442', (60, 0.1999999999999999)),\n",
       " ('ENGR 110', (13, 0.2153846153846153)),\n",
       " ('EECS 485', (178, 0.23033707865168554)),\n",
       " ('MATH 185', (21, 0.24285714285714294)),\n",
       " ('ANTHRO 101', (18, 0.25555555555555565)),\n",
       " ('EECS 494', (41, 0.2609756097560976)),\n",
       " ('ECON 101', (233, 0.27253218884120184)),\n",
       " ('EECS 301', (17, 0.2882352941176471)),\n",
       " ('CHEM 260', (10, 0.29)),\n",
       " ('STATS 426', (11, 0.3)),\n",
       " ('PSYCH 230', (12, 0.30000000000000004)),\n",
       " ('MATH 285', (11, 0.3181818181818182)),\n",
       " ('EECS 490', (58, 0.3258620689655172)),\n",
       " ('BIO 207', (15, 0.33333333333333337)),\n",
       " ('ENGR 151', (12, 0.3416666666666666)),\n",
       " ('EECS 183', (313, 0.3511182108626194)),\n",
       " ('EECS 491', (27, 0.3518518518518518)),\n",
       " ('ASTRO 106', (16, 0.38124999999999987)),\n",
       " ('IOE 265', (11, 0.38181818181818183)),\n",
       " ('SI 106', (11, 0.38181818181818183)),\n",
       " ('SI 110', (29, 0.38620689655172413)),\n",
       " ('PHIL 340', (11, 0.40000000000000013)),\n",
       " ('ENGR 100', (110, 0.4200000000000001)),\n",
       " ('PHYSICS 140', (217, 0.4235023041474651)),\n",
       " ('MATH 425', (54, 0.46851851851851856)),\n",
       " ('EECS 493', (91, 0.49120879120879124)),\n",
       " ('EECS 486', (46, 0.5217391304347826)),\n",
       " ('MCDB 310', (46, 0.5347826086956523)),\n",
       " ('EECS 285', (73, 0.5383561643835617)),\n",
       " ('BIO 225', (22, 0.5454545454545454)),\n",
       " ('EECS 270', (19, 0.5684210526315788)),\n",
       " ('MATH 295', (34, 0.5705882352941176)),\n",
       " ('PSYCH 111', (40, 0.5874999999999998)),\n",
       " ('EECS 201', (33, 0.6121212121212123)),\n",
       " ('EECS 475', (25, 0.66)),\n",
       " ('SI 410', (10, 0.72)),\n",
       " ('EARTH 100', (12, 0.7416666666666666)),\n",
       " ('ASTRO 101', (30, 0.7566666666666664)),\n",
       " ('MATH 120', (12, 0.7583333333333334)),\n",
       " ('CLCIV 385', (20, 0.805)),\n",
       " ('SI 206', (11, 0.8181818181818182)),\n",
       " ('GERMAN 386', (21, 0.819047619047619)),\n",
       " ('PHYSICS 360', (12, 0.8416666666666667)),\n",
       " ('ARCH 357', (10, 0.8699999999999999)),\n",
       " ('SOC 100', (14, 0.9214285714285715)),\n",
       " ('EECS 481', (16, 0.9624999999999997)),\n",
       " ('MATH 201', (14, 1.0000000000000002)),\n",
       " ('SPACE 101', (16, 1.0312500000000002)),\n",
       " ('ENGLISH 325', (13, 1.0846153846153845)),\n",
       " ('SLAVIC 312', (24, 1.1041666666666667)),\n",
       " ('LING 111', (12, 1.2916666666666665)),\n",
       " ('POLSCI 101', (11, 1.3454545454545455)),\n",
       " ('MATH 156', (13, 1.3461538461538463)),\n",
       " ('EARTH 113', (17, 1.4588235294117649)),\n",
       " ('PAT 305', (16, 1.625)),\n",
       " ('PHIL 183', (14, 1.7000000000000004)),\n",
       " ('HISTORY 244', (11, 1.7545454545454546))]"
      ]
     },
     "execution_count": 146,
     "metadata": {},
     "output_type": "execute_result"
    }
   ],
   "source": [
    "entity_sentiment_arr = sorted(entity_sentiment_dict.items(), key=lambda x:x[1][1])\n",
    "[x for x in entity_sentiment_arr if x[1][0] >= 10]"
   ]
  },
  {
   "cell_type": "code",
   "execution_count": 147,
   "metadata": {},
   "outputs": [
    {
     "data": {
      "text/plain": [
       "[('HISTORY 244', (11, 1.7545454545454546)),\n",
       " ('PHIL 183', (14, 1.7000000000000004)),\n",
       " ('PAT 305', (16, 1.625)),\n",
       " ('EARTH 113', (17, 1.4588235294117649)),\n",
       " ('MATH 156', (13, 1.3461538461538463)),\n",
       " ('POLSCI 101', (11, 1.3454545454545455)),\n",
       " ('LING 111', (12, 1.2916666666666665)),\n",
       " ('SLAVIC 312', (24, 1.1041666666666667)),\n",
       " ('ENGLISH 325', (13, 1.0846153846153845)),\n",
       " ('SPACE 101', (16, 1.0312500000000002)),\n",
       " ('MATH 201', (14, 1.0000000000000002)),\n",
       " ('EECS 481', (16, 0.9624999999999997)),\n",
       " ('SOC 100', (14, 0.9214285714285715)),\n",
       " ('ARCH 357', (10, 0.8699999999999999)),\n",
       " ('PHYSICS 360', (12, 0.8416666666666667)),\n",
       " ('GERMAN 386', (21, 0.819047619047619)),\n",
       " ('SI 206', (11, 0.8181818181818182)),\n",
       " ('CLCIV 385', (20, 0.805)),\n",
       " ('MATH 120', (12, 0.7583333333333334)),\n",
       " ('ASTRO 101', (30, 0.7566666666666664)),\n",
       " ('EARTH 100', (12, 0.7416666666666666)),\n",
       " ('SI 410', (10, 0.72)),\n",
       " ('EECS 475', (25, 0.66)),\n",
       " ('EECS 201', (33, 0.6121212121212123)),\n",
       " ('PSYCH 111', (40, 0.5874999999999998)),\n",
       " ('MATH 295', (34, 0.5705882352941176)),\n",
       " ('EECS 270', (19, 0.5684210526315788)),\n",
       " ('BIO 225', (22, 0.5454545454545454)),\n",
       " ('EECS 285', (73, 0.5383561643835617)),\n",
       " ('MCDB 310', (46, 0.5347826086956523)),\n",
       " ('EECS 486', (46, 0.5217391304347826)),\n",
       " ('EECS 493', (91, 0.49120879120879124)),\n",
       " ('MATH 425', (54, 0.46851851851851856)),\n",
       " ('PHYSICS 140', (217, 0.4235023041474651)),\n",
       " ('ENGR 100', (110, 0.4200000000000001)),\n",
       " ('PHIL 340', (11, 0.40000000000000013)),\n",
       " ('SI 110', (29, 0.38620689655172413)),\n",
       " ('IOE 265', (11, 0.38181818181818183)),\n",
       " ('SI 106', (11, 0.38181818181818183)),\n",
       " ('ASTRO 106', (16, 0.38124999999999987)),\n",
       " ('EECS 491', (27, 0.3518518518518518)),\n",
       " ('EECS 183', (313, 0.3511182108626194)),\n",
       " ('ENGR 151', (12, 0.3416666666666666)),\n",
       " ('BIO 207', (15, 0.33333333333333337)),\n",
       " ('EECS 490', (58, 0.3258620689655172)),\n",
       " ('MATH 285', (11, 0.3181818181818182)),\n",
       " ('PSYCH 230', (12, 0.30000000000000004)),\n",
       " ('STATS 426', (11, 0.3)),\n",
       " ('CHEM 260', (10, 0.29)),\n",
       " ('EECS 301', (17, 0.2882352941176471)),\n",
       " ('ECON 101', (233, 0.27253218884120184)),\n",
       " ('EECS 494', (41, 0.2609756097560976)),\n",
       " ('ANTHRO 101', (18, 0.25555555555555565)),\n",
       " ('MATH 185', (21, 0.24285714285714294)),\n",
       " ('EECS 485', (178, 0.23033707865168554)),\n",
       " ('ENGR 110', (13, 0.2153846153846153)),\n",
       " ('EECS 442', (60, 0.1999999999999999)),\n",
       " ('ENGLISH 125', (35, 0.19714285714285723)),\n",
       " ('EECS 445', (118, 0.1754237288135593)),\n",
       " ('MATH 316', (18, 0.16666666666666674)),\n",
       " ('EECS 388', (141, 0.15673758865248233)),\n",
       " ('CHEM 211', (18, 0.15555555555555559)),\n",
       " ('MATH 412', (18, 0.15000000000000002)),\n",
       " ('PHYSICS 240', (95, 0.13684210526315788)),\n",
       " ('CHEM 230', (15, 0.12666666666666665)),\n",
       " ('EECS 492', (59, 0.123728813559322)),\n",
       " ('MATH 217', (186, 0.10752688172043015)),\n",
       " ('MATH 116', (147, 0.0993197278911566)),\n",
       " ('ANTHRCUL 101', (34, 0.08823529411764706)),\n",
       " ('PSYCH 240', (23, 0.08695652173913042)),\n",
       " ('CHEM 210', (183, 0.0814207650273224)),\n",
       " ('EECS 489', (27, 0.07777777777777777)),\n",
       " ('EECS 216', (35, 0.07428571428571429)),\n",
       " ('BIO 172', (31, 0.07419354838709677)),\n",
       " ('EECS 215', (40, 0.07250000000000001)),\n",
       " ('CHEM 125', (35, 0.07142857142857142)),\n",
       " ('STATS 425', (15, 0.06666666666666667)),\n",
       " ('PHYSICS 340', (27, 0.05555555555555558)),\n",
       " ('ENGR 101', (78, 0.04230769230769227)),\n",
       " ('BIO 171', (23, 0.0304347826086957)),\n",
       " ('MATH 214', (185, 0.018378378378378354)),\n",
       " ('CHEM 130', (133, 0.00977443609022564)),\n",
       " ('CHEM 351', (22, 0.00454545454545453)),\n",
       " ('BIO 173', (42, -0.007142857142857165)),\n",
       " ('EECS 281', (1211, -0.009083402146986205)),\n",
       " ('MATH 451', (21, -0.014285714285714266)),\n",
       " ('MATH 115', (208, -0.03798076923076921)),\n",
       " ('EECS 482', (182, -0.05109890109890118)),\n",
       " ('STATS 412', (88, -0.061363636363636315)),\n",
       " ('EECS 280', (785, -0.061910828025477926)),\n",
       " ('PHYSICS 135', (40, -0.06499999999999999)),\n",
       " ('EECS 203', (1103, -0.06618313689936553)),\n",
       " ('SPANISH 232', (35, -0.06857142857142856)),\n",
       " ('STATS 306', (13, -0.07692307692307689)),\n",
       " ('BIO 305', (17, -0.08235294117647053)),\n",
       " ('SPANISH 231', (12, -0.12499999999999996)),\n",
       " ('STATS 250', (524, -0.14866412213740451)),\n",
       " ('ECON 401', (61, -0.17704918032786893)),\n",
       " ('EECS 467', (18, -0.1777777777777777)),\n",
       " ('ECON 102', (29, -0.17931034482758623)),\n",
       " ('MATH 465', (15, -0.2000000000000001)),\n",
       " ('MATH 105', (21, -0.27619047619047626)),\n",
       " ('CHEM 215', (73, -0.28493150684931523)),\n",
       " ('EECS 381', (25, -0.2879999999999999)),\n",
       " ('EECS 370', (391, -0.3153452685421997)),\n",
       " ('STATS 280', (16, -0.33125000000000004)),\n",
       " ('EECS 376', (320, -0.35468750000000004)),\n",
       " ('ASTRO 102', (22, -0.5045454545454549)),\n",
       " ('MATH 215', (201, -0.551741293532338)),\n",
       " ('MATH 216', (105, -0.5647619047619048)),\n",
       " ('ECON 251', (15, -0.5666666666666667)),\n",
       " ('EECS 484', (35, -0.5685714285714286)),\n",
       " ('PHYSICS 235', (25, -0.7080000000000001)),\n",
       " ('EECS 477', (16, -0.7625000000000001)),\n",
       " ('BE 100', (34, -1.2088235294117649)),\n",
       " ('CHEM 216', (16, -1.6)),\n",
       " ('EECS 496', (57, -1.9070175438596493))]"
      ]
     },
     "execution_count": 147,
     "metadata": {},
     "output_type": "execute_result"
    }
   ],
   "source": [
    "entity_sentiment_arr = sorted(entity_sentiment_dict.items(), key=lambda x:x[1][1], reverse=True)\n",
    "([x for x in entity_sentiment_arr if x[1][0] >= 10])"
   ]
  },
  {
   "attachments": {},
   "cell_type": "markdown",
   "metadata": {},
   "source": [
    "Find the list of courses with at least 50 appearances"
   ]
  },
  {
   "cell_type": "code",
   "execution_count": 181,
   "metadata": {},
   "outputs": [
    {
     "name": "stdout",
     "output_type": "stream",
     "text": [
      "['HISTORY 244', 'PHIL 183', 'PAT 305', 'EARTH 113', 'MATH 156', 'POLSCI 101', 'LING 111', 'SLAVIC 312', 'ENGLISH 325', 'SPACE 101', 'MATH 201', 'EECS 481', 'SOC 100', 'ARCH 357', 'PHYSICS 360', 'GERMAN 386', 'SI 206', 'CLCIV 385', 'MATH 120', 'ASTRO 101', 'EARTH 100', 'SI 410', 'EECS 475', 'EECS 201', 'PSYCH 111', 'MATH 295', 'EECS 270', 'BIO 225', 'EECS 285', 'MCDB 310', 'EECS 486', 'EECS 493', 'MATH 425', 'PHYSICS 140', 'ENGR 100', 'PHIL 340', 'SI 110', 'IOE 265', 'SI 106', 'ASTRO 106', 'EECS 491', 'EECS 183', 'ENGR 151', 'BIO 207', 'EECS 490', 'MATH 285', 'PSYCH 230', 'STATS 426', 'CHEM 260', 'EECS 301', 'ECON 101', 'EECS 494', 'ANTHRO 101', 'MATH 185', 'EECS 485', 'ENGR 110', 'EECS 442', 'ENGLISH 125', 'EECS 445', 'MATH 316', 'EECS 388', 'CHEM 211', 'MATH 412', 'PHYSICS 240', 'CHEM 230', 'EECS 492', 'MATH 217', 'MATH 116', 'ANTHRCUL 101', 'PSYCH 240', 'CHEM 210', 'EECS 489', 'EECS 216', 'BIO 172', 'EECS 215', 'CHEM 125', 'STATS 425', 'PHYSICS 340', 'ENGR 101', 'BIO 171', 'MATH 214', 'CHEM 130', 'CHEM 351', 'BIO 173', 'EECS 281', 'MATH 451', 'MATH 115', 'EECS 482', 'STATS 412', 'EECS 280', 'PHYSICS 135', 'EECS 203', 'SPANISH 232', 'STATS 306', 'BIO 305', 'SPANISH 231', 'STATS 250', 'ECON 401', 'EECS 467', 'ECON 102', 'MATH 465', 'MATH 105', 'CHEM 215', 'EECS 381', 'EECS 370', 'STATS 280', 'EECS 376', 'ASTRO 102', 'MATH 215', 'MATH 216', 'ECON 251', 'EECS 484', 'PHYSICS 235', 'EECS 477', 'BE 100', 'CHEM 216', 'EECS 496']\n",
      "117\n"
     ]
    }
   ],
   "source": [
    "print([x[0] for x in entity_sentiment_arr if x[1][0] >= 10])\n",
    "print(len([x[0] for x in entity_sentiment_arr if x[1][0] >= 10]))"
   ]
  },
  {
   "attachments": {},
   "cell_type": "markdown",
   "metadata": {},
   "source": [
    "Test the sentiment against increased interest"
   ]
  },
  {
   "cell_type": "code",
   "execution_count": 249,
   "metadata": {},
   "outputs": [],
   "source": [
    "import json\n",
    " \n",
    "with open('Atlas/Atlas_Data_2.json') as json_file:\n",
    "    atlas_data_json = json.load(json_file)\n",
    "\n",
    "class_order = list(atlas_data_json.keys())\n",
    "combined_data = {'expectations':[], 'desire':[], 'increased-interest':[], 'understanding':[], 'average':[], 'workload':[],'sentiment':[]}\n",
    "for c in class_order:\n",
    "    if entity_sentiment_dict[c][0] >= 10:\n",
    "        temp_av = 0\n",
    "        for dt in atlas_data_json[c]:\n",
    "            if dt in ['desire', 'increased-interest', 'understanding']:\n",
    "                temp_av += atlas_data_json[c][dt] * 0.01\n",
    "            combined_data[dt].append(0.01 * atlas_data_json[c][dt])\n",
    "        combined_data['average'].append(temp_av)\n",
    "        combined_data['sentiment'].append(entity_sentiment_dict[c][1])"
   ]
  },
  {
   "cell_type": "code",
   "execution_count": 250,
   "metadata": {},
   "outputs": [
    {
     "data": {
      "image/png": "[encoded data removed]",
      "text/plain": [
       "<Figure size 432x288 with 2 Axes>"
      ]
     },
     "metadata": {
      "needs_background": "light"
     },
     "output_type": "display_data"
    }
   ],
   "source": [
    "import pandas as pd\n",
    "import seaborn as sn\n",
    "import matplotlib.pyplot as plt\n",
    "\n",
    "df = pd.DataFrame(combined_data)\n",
    "corr_matrix = df.corr()\n",
    "sn.heatmap(corr_matrix, annot=True)\n",
    "plt.show()"
   ]
  },
  {
   "cell_type": "code",
   "execution_count": 251,
   "metadata": {},
   "outputs": [
    {
     "name": "stdout",
     "output_type": "stream",
     "text": [
      "0.23170974258029275\n",
      "(0.05673185865410193, 0.8721638952105877)\n"
     ]
    },
    {
     "data": {
      "image/png": "[encoded data removed]",
      "text/plain": [
       "<Figure size 432x288 with 1 Axes>"
      ]
     },
     "metadata": {
      "needs_background": "light"
     },
     "output_type": "display_data"
    }
   ],
   "source": [
    "import matplotlib.pyplot as plt\n",
    "import numpy as np\n",
    "from sklearn import linear_model\n",
    "\n",
    "x_points = np.array(combined_data['sentiment'])\n",
    "y_points = np.array(combined_data['understanding'])\n",
    "x_new = x_points.reshape(-1, 1)\n",
    "y_new = y_points.reshape(-1, 1)\n",
    "\n",
    "plt.plot(x_points, y_points, 'o')\n",
    "\n",
    "# reg = linear_model.RANSACRegressor(random_state=0).fit(x_new, y_new)\n",
    "# line_X = np.arange(x_new.min(), x_new.max())[:, np.newaxis]\n",
    "# line_y_ransac = reg.predict(line_X)\n",
    "# plt.plot(\n",
    "#     line_X,\n",
    "#     line_y_ransac,\n",
    "#     color=\"red\",\n",
    "#     label=\"RANSAC regressor\",\n",
    "# )\n",
    "# reg2 = linear_model.LogisticRegression(random_state=0).fit(x_new, y_points)\n",
    "# ys = np.array([reg2.predict(x) for x in range(0,1,0.01)])\n",
    "# plt.plot(x_points, reg2.predict(x_points))\n",
    "m, b = np.polyfit(x_points, y_points, 1)\n",
    "plt.plot(x_points, m*x_points+b)\n",
    "from sklearn.metrics import r2_score\n",
    "print(r2_score(y_points, np.poly1d((m, b))(x_points)))\n",
    "print ((m,b))\n",
    "plt.show()\n"
   ]
  },
  {
   "cell_type": "code",
   "execution_count": null,
   "metadata": {},
   "outputs": [],
   "source": []
  },
  {
   "cell_type": "code",
   "execution_count": 189,
   "metadata": {},
   "outputs": [
    {
     "data": {
      "text/plain": [
       "array([0.94417248, 0.94490037, 0.94543247, 0.9447908 , 0.94303446,\n",
       "       0.94302044, 0.94183099, 0.93607896, 0.93534557, 0.93322498,\n",
       "       0.9319051 , 0.93024811, 0.92834515, 0.92583823, 0.92440076,\n",
       "       0.92322559, 0.92318013, 0.92248373, 0.91986331, 0.91902938,\n",
       "       0.91780814, 0.91432798, 0.91145366, 0.90994422, 0.90889569,\n",
       "       0.90876065, 0.90687194, 0.90664559, 0.90581613, 0.90385525,\n",
       "       0.90238106, 0.89941667, 0.89918394, 0.89784944, 0.89662842,\n",
       "       0.89662842, 0.89659015, 0.89460064, 0.89455077, 0.8939073 ,\n",
       "       0.89282751, 0.89230111, 0.89105081, 0.89105081, 0.89036074,\n",
       "       0.8902388 , 0.88915149, 0.88834888, 0.88708665, 0.88621181,\n",
       "       0.88516438, 0.88408388, 0.88388292, 0.88235246, 0.88173406,\n",
       "       0.88103204, 0.88094841, 0.88055518, 0.87962286, 0.87890096,\n",
       "       0.8786924 , 0.8775412 , 0.87695745, 0.87616849, 0.87568316,\n",
       "       0.87542362, 0.87517478, 0.87504752, 0.87497115, 0.8746317 ,\n",
       "       0.87383935, 0.87289417, 0.87118608, 0.87057178, 0.87019844,\n",
       "       0.86922537, 0.86885397, 0.86716288, 0.8662272 , 0.86549543,\n",
       "       0.86545643, 0.86523629, 0.86515198, 0.86498183, 0.86438699,\n",
       "       0.86097022, 0.85929439, 0.85729082, 0.85723949, 0.85713156,\n",
       "       0.85567692, 0.85036747, 0.84976384, 0.84767371, 0.84658734,\n",
       "       0.8449954 , 0.8351155 , 0.83213053, 0.83131926, 0.83120104,\n",
       "       0.83108294, 0.8227874 , 0.81975193, 0.79508777])"
      ]
     },
     "execution_count": 189,
     "metadata": {},
     "output_type": "execute_result"
    }
   ],
   "source": [
    "import numpy as np\n",
    "s = np.array(combined_data['sentiment'])\n",
    "a = np.array(combined_data['understanding'])\n",
    "fit = np.polyfit(s, a, 3)\n",
    "np.polyval(fit, s)"
   ]
  },
  {
   "cell_type": "code",
   "execution_count": 190,
   "metadata": {},
   "outputs": [
    {
     "data": {
      "text/plain": [
       "array([[1.        , 0.48287651],\n",
       "       [0.48287651, 1.        ]])"
      ]
     },
     "execution_count": 190,
     "metadata": {},
     "output_type": "execute_result"
    }
   ],
   "source": [
    "np.corrcoef(s, a)"
   ]
  }
 ],
 "metadata": {
  "kernelspec": {
   "display_name": "Python 3",
   "language": "python",
   "name": "python3"
  },
  "language_info": {
   "codemirror_mode": {
    "name": "ipython",
    "version": 3
   },
   "file_extension": ".py",
   "mimetype": "text/x-python",
   "name": "python",
   "nbconvert_exporter": "python",
   "pygments_lexer": "ipython3",
   "version": "3.9.6"
  },
  "orig_nbformat": 4,
  "vscode": {
   "interpreter": {
    "hash": "aee8b7b246df8f9039afb4144a1f6fd8d2ca17a180786b69acc140d282b71a49"
   }
  }
 },
 "nbformat": 4,
 "nbformat_minor": 2
}

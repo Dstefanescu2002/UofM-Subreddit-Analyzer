{
 "cells": [
  {
   "attachments": {},
   "cell_type": "markdown",
   "metadata": {},
   "source": [
    "*This notebook bring everything together, we attempt to compare the sentiment data off reddit with the atlas data which we collect*"
   ]
  },
  {
   "cell_type": "code",
   "execution_count": 201,
   "metadata": {},
   "outputs": [
    {
     "name": "stdout",
     "output_type": "stream",
     "text": [
      "The autoreload extension is already loaded. To reload it, use:\n",
      "  %reload_ext autoreload\n"
     ]
    }
   ],
   "source": [
    "%load_ext autoreload\n",
    "%autoreload 2"
   ]
  },
  {
   "cell_type": "code",
   "execution_count": 202,
   "metadata": {},
   "outputs": [
    {
     "name": "stderr",
     "output_type": "stream",
     "text": [
      "/Library/Frameworks/Python.framework/Versions/3.9/lib/python3.9/site-packages/IPython/core/interactiveshell.py:3441: DtypeWarning: Columns (5) have mixed types.Specify dtype option on import or set low_memory=False.\n",
      "  exec(code_obj, self.user_global_ns, self.user_ns)\n"
     ]
    }
   ],
   "source": [
    "import os \n",
    "import pandas as pd\n",
    "\n",
    "text_bodies = []\n",
    "data_directory = './Labeled_Sentiment'\n",
    "for filename in os.listdir(data_directory):\n",
    "    f = os.path.join(data_directory, filename)\n",
    "    if os.path.isfile(f):\n",
    "        parser_df = pd.read_csv(f, keep_default_na=False, sep=',')\n",
    "        for index, row in parser_df.iterrows():\n",
    "            if 'body' in row:\n",
    "                text_bodies.append(row['body'])\n",
    "            elif 'title_text_combined' in row:\n",
    "                text_bodies.append(row['title_text_combined'])\n",
    "            else:\n",
    "                print (f'Row {index} has no body or title_text_combined row!')\n",
    "            if not isinstance(text_bodies[-1], str):\n",
    "                print (row)\n",
    "                print (len(text_bodies))"
   ]
  },
  {
   "attachments": {},
   "cell_type": "markdown",
   "metadata": {},
   "source": [
    "We will not parse the files in the data directory, and store the resulting text bodies in text_bodies. For comments, we add the column 'body' and for posts we add the column 'title_text_combined'"
   ]
  },
  {
   "cell_type": "code",
   "execution_count": 203,
   "metadata": {},
   "outputs": [
    {
     "name": "stdout",
     "output_type": "stream",
     "text": [
      "Failed on 712 sentiment labels.\n",
      "Length of dataset: 239422\n"
     ]
    }
   ],
   "source": [
    "import pandas as pd\n",
    "from Sentiment_Analysis.sentiment_enum import LABEL_TO_NUM\n",
    "\n",
    "data = pd.read_csv('./labeled_sentiment/comments_with_sentiment.csv')\n",
    "\n",
    "sentiment_labels = []\n",
    "failed = 0\n",
    "for i in range(len(data)):\n",
    "    try:\n",
    "        sentiment_label = data['predicted_label'][i]\n",
    "        sentiment_labels.append(LABEL_TO_NUM[sentiment_label])\n",
    "    except:\n",
    "        sentiment_labels.append(0)\n",
    "        failed += 1\n",
    "\n",
    "print (f'Failed on {failed} sentiment labels.')\n",
    "print (f'Length of dataset: {len(sentiment_labels)}')"
   ]
  },
  {
   "attachments": {},
   "cell_type": "markdown",
   "metadata": {},
   "source": [
    "We will now run entity extraction on the text_bodies list, and store the entities for each post/comment into entity_labels"
   ]
  },
  {
   "cell_type": "code",
   "execution_count": 204,
   "metadata": {},
   "outputs": [
    {
     "ename": "KeyboardInterrupt",
     "evalue": "",
     "output_type": "error",
     "traceback": [
      "\u001b[0;31m---------------------------------------------------------------------------\u001b[0m",
      "\u001b[0;31mKeyboardInterrupt\u001b[0m                         Traceback (most recent call last)",
      "\u001b[0;32m/var/folders/gv/cjn8_2s549df90kjnvs84nmc0000gn/T/ipykernel_42127/166230287.py\u001b[0m in \u001b[0;36m<module>\u001b[0;34m\u001b[0m\n\u001b[1;32m      1\u001b[0m \u001b[0;32mfrom\u001b[0m \u001b[0mEntity_Extraction\u001b[0m\u001b[0;34m.\u001b[0m\u001b[0mentity_extraction\u001b[0m \u001b[0;32mimport\u001b[0m \u001b[0mEntityExtractor\u001b[0m\u001b[0;34m\u001b[0m\u001b[0;34m\u001b[0m\u001b[0m\n\u001b[1;32m      2\u001b[0m \u001b[0mentityExtractor\u001b[0m \u001b[0;34m=\u001b[0m \u001b[0mEntityExtractor\u001b[0m\u001b[0;34m(\u001b[0m\u001b[0;34m)\u001b[0m\u001b[0;34m\u001b[0m\u001b[0;34m\u001b[0m\u001b[0m\n\u001b[0;32m----> 3\u001b[0;31m \u001b[0mentity_labels\u001b[0m \u001b[0;34m=\u001b[0m \u001b[0mentityExtractor\u001b[0m\u001b[0;34m.\u001b[0m\u001b[0mbatch_extract\u001b[0m\u001b[0;34m(\u001b[0m\u001b[0mtext_bodies\u001b[0m\u001b[0;34m)\u001b[0m\u001b[0;34m\u001b[0m\u001b[0;34m\u001b[0m\u001b[0m\n\u001b[0m",
      "\u001b[0;32m~/Desktop/EECS-448/EECS448-final-project/Entity_Extraction/entity_extraction.py\u001b[0m in \u001b[0;36mbatch_extract\u001b[0;34m(self, posts, first_only, stats_enabled)\u001b[0m\n\u001b[1;32m     32\u001b[0m         \u001b[0mtotal_with_entity\u001b[0m \u001b[0;34m=\u001b[0m \u001b[0;36m0\u001b[0m\u001b[0;34m\u001b[0m\u001b[0;34m\u001b[0m\u001b[0m\n\u001b[1;32m     33\u001b[0m         \u001b[0;32mfor\u001b[0m \u001b[0mpost\u001b[0m \u001b[0;32min\u001b[0m \u001b[0mposts\u001b[0m\u001b[0;34m:\u001b[0m\u001b[0;34m\u001b[0m\u001b[0;34m\u001b[0m\u001b[0m\n\u001b[0;32m---> 34\u001b[0;31m             \u001b[0mfound_entities\u001b[0m \u001b[0;34m=\u001b[0m \u001b[0mself\u001b[0m\u001b[0;34m.\u001b[0m\u001b[0mextract\u001b[0m\u001b[0;34m(\u001b[0m\u001b[0mpost\u001b[0m\u001b[0;34m)\u001b[0m\u001b[0;34m\u001b[0m\u001b[0;34m\u001b[0m\u001b[0m\n\u001b[0m\u001b[1;32m     35\u001b[0m             \u001b[0;32mif\u001b[0m \u001b[0;32mnot\u001b[0m \u001b[0mfound_entities\u001b[0m\u001b[0;34m:\u001b[0m\u001b[0;34m\u001b[0m\u001b[0;34m\u001b[0m\u001b[0m\n\u001b[1;32m     36\u001b[0m                 \u001b[0mfound_entities\u001b[0m \u001b[0;34m=\u001b[0m \u001b[0;34m[\u001b[0m\u001b[0;34m\"NONE\"\u001b[0m\u001b[0;34m]\u001b[0m\u001b[0;34m\u001b[0m\u001b[0;34m\u001b[0m\u001b[0m\n",
      "\u001b[0;32m~/Desktop/EECS-448/EECS448-final-project/Entity_Extraction/entity_extraction.py\u001b[0m in \u001b[0;36mextract\u001b[0;34m(self, text)\u001b[0m\n\u001b[1;32m     22\u001b[0m         \u001b[0mdn_text\u001b[0m \u001b[0;34m=\u001b[0m \u001b[0;34m'|'\u001b[0m\u001b[0;34m.\u001b[0m\u001b[0mjoin\u001b[0m\u001b[0;34m(\u001b[0m\u001b[0mDEPARTMENT_NAMES\u001b[0m\u001b[0;34m)\u001b[0m\u001b[0;34m\u001b[0m\u001b[0;34m\u001b[0m\u001b[0m\n\u001b[1;32m     23\u001b[0m         \u001b[0mpattern\u001b[0m \u001b[0;34m=\u001b[0m \u001b[0mre\u001b[0m\u001b[0;34m.\u001b[0m\u001b[0mcompile\u001b[0m\u001b[0;34m(\u001b[0m\u001b[0;34mf'\\\\b({dn_text}).?.?([1-9]\\d{{2}})\\\\b'\u001b[0m\u001b[0;34m)\u001b[0m\u001b[0;34m\u001b[0m\u001b[0;34m\u001b[0m\u001b[0m\n\u001b[0;32m---> 24\u001b[0;31m         \u001b[0mre_output\u001b[0m \u001b[0;34m=\u001b[0m \u001b[0mpattern\u001b[0m\u001b[0;34m.\u001b[0m\u001b[0mfindall\u001b[0m\u001b[0;34m(\u001b[0m\u001b[0mtext\u001b[0m\u001b[0;34m)\u001b[0m\u001b[0;34m\u001b[0m\u001b[0;34m\u001b[0m\u001b[0m\n\u001b[0m\u001b[1;32m     25\u001b[0m         \u001b[0mentities\u001b[0m \u001b[0;34m=\u001b[0m \u001b[0;34m[\u001b[0m\u001b[0;34m' '\u001b[0m\u001b[0;34m.\u001b[0m\u001b[0mjoin\u001b[0m\u001b[0;34m(\u001b[0m\u001b[0mx\u001b[0m\u001b[0;34m)\u001b[0m \u001b[0;32mfor\u001b[0m \u001b[0mx\u001b[0m \u001b[0;32min\u001b[0m \u001b[0mre_output\u001b[0m\u001b[0;34m]\u001b[0m\u001b[0;34m\u001b[0m\u001b[0;34m\u001b[0m\u001b[0m\n\u001b[1;32m     26\u001b[0m         \u001b[0mentities\u001b[0m \u001b[0;34m+=\u001b[0m \u001b[0mself\u001b[0m\u001b[0;34m.\u001b[0m\u001b[0m__extract_cs_classes\u001b[0m\u001b[0;34m(\u001b[0m\u001b[0mtext\u001b[0m\u001b[0;34m,\u001b[0m \u001b[0mentities\u001b[0m\u001b[0;34m)\u001b[0m\u001b[0;34m\u001b[0m\u001b[0;34m\u001b[0m\u001b[0m\n",
      "\u001b[0;31mKeyboardInterrupt\u001b[0m: "
     ]
    }
   ],
   "source": [
    "from Entity_Extraction.entity_extraction import EntityExtractor\n",
    "entityExtractor = EntityExtractor()\n",
    "entity_labels = entityExtractor.batch_extract(text_bodies)"
   ]
  },
  {
   "cell_type": "code",
   "execution_count": 207,
   "metadata": {},
   "outputs": [
    {
     "name": "stdout",
     "output_type": "stream",
     "text": [
      "Length of dataset: 239422\n"
     ]
    }
   ],
   "source": [
    "import pandas as pd\n",
    "\n",
    "data = pd.read_csv('./Entity_Extraction/entities.csv')\n",
    "\n",
    "entity_labels = []\n",
    "failed = 0\n",
    "for i in range(len(data)):\n",
    "    entity_label = data['entity'][i]\n",
    "    if entity_label == 'NONE':\n",
    "        entity_labels.append([])\n",
    "    else:\n",
    "        entity_labels.append([entity_label])\n",
    "\n",
    "print (f'Length of dataset: {len(entity_labels)}')"
   ]
  },
  {
   "attachments": {},
   "cell_type": "markdown",
   "metadata": {},
   "source": [
    "Now, we will assign average sentiment to each entity. We first match each entity with the sentiment of all posts it is seen in. Then, we calculate an average for the sentiment of that label."
   ]
  },
  {
   "cell_type": "code",
   "execution_count": 208,
   "metadata": {},
   "outputs": [],
   "source": [
    "entity_sentiment_dict = dict()\n",
    "for index in range(len(sentiment_labels)):\n",
    "    temp_entities = entity_labels[index]\n",
    "    temp_sentiment = sentiment_labels[index]\n",
    "\n",
    "    for e in temp_entities:\n",
    "        if e not in entity_sentiment_dict:\n",
    "            entity_sentiment_dict[e] = []\n",
    "        entity_sentiment_dict[e].append(temp_sentiment)\n",
    "\n",
    "to_del = []\n",
    "for e in entity_sentiment_dict:\n",
    "    new_e_s = []\n",
    "    for x in entity_sentiment_dict[e]:\n",
    "        if x != 0:\n",
    "            new_e_s.append(x)\n",
    "    if len(new_e_s) == 0:\n",
    "        to_del.append(e)\n",
    "    else:\n",
    "        entity_sentiment_dict[e] = \\\n",
    "            (len(new_e_s), sum(new_e_s)/len(new_e_s))\n",
    "for i in to_del:\n",
    "    del entity_sentiment_dict[i]"
   ]
  },
  {
   "attachments": {},
   "cell_type": "markdown",
   "metadata": {},
   "source": [
    "Run the following two cells to get some summaries of the data and a sense of what they contain"
   ]
  },
  {
   "cell_type": "code",
   "execution_count": 209,
   "metadata": {},
   "outputs": [
    {
     "data": {
      "text/plain": [
       "[('EECS 496', (57, -0.6491228070175439)),\n",
       " ('CHEM 216', (16, -0.625)),\n",
       " ('EECS 477', (16, -0.625)),\n",
       " ('PHYSICS 235', (25, -0.6)),\n",
       " ('ECON 251', (15, -0.4666666666666667)),\n",
       " ('BE 100', (34, -0.35294117647058826)),\n",
       " ('STATS 280', (16, -0.25)),\n",
       " ('MATH 215', (201, -0.23383084577114427)),\n",
       " ('EECS 484', (35, -0.14285714285714285)),\n",
       " ('EECS 381', (25, -0.12)),\n",
       " ('CHEM 351', (22, -0.09090909090909091)),\n",
       " ('MATH 216', (105, -0.08571428571428572)),\n",
       " ('EECS 370', (391, -0.0792838874680307)),\n",
       " ('STATS 306', (13, -0.07692307692307693)),\n",
       " ('CHEM 215', (73, -0.0684931506849315)),\n",
       " ('BIO 305', (17, -0.058823529411764705)),\n",
       " ('EECS 376', (320, -0.0375)),\n",
       " ('ECON 102', (29, -0.034482758620689655)),\n",
       " ('ECON 401', (61, -0.01639344262295082)),\n",
       " ('SPANISH 232', (36, 0.0)),\n",
       " ('SPANISH 231', (12, 0.0)),\n",
       " ('ASTRO 102', (22, 0.0)),\n",
       " ('EECS 482', (182, 0.03296703296703297)),\n",
       " ('EECS 489', (27, 0.037037037037037035)),\n",
       " ('EECS 215', (40, 0.05)),\n",
       " ('STATS 425', (15, 0.06666666666666667)),\n",
       " ('CHEM 230', (15, 0.06666666666666667)),\n",
       " ('MATH 465', (15, 0.06666666666666667)),\n",
       " ('EECS 281', (1213, 0.06842539159109645)),\n",
       " ('STATS 250', (524, 0.08396946564885496)),\n",
       " ('CHEM 125', (35, 0.08571428571428572)),\n",
       " ('EECS 216', (35, 0.08571428571428572)),\n",
       " ('EECS 203', (1104, 0.08695652173913043)),\n",
       " ('ENGR 101', (79, 0.08860759493670886)),\n",
       " ('BIO 173', (42, 0.09523809523809523)),\n",
       " ('BIO 172', (31, 0.0967741935483871)),\n",
       " ('MATH 316', (18, 0.1111111111111111)),\n",
       " ('MATH 412', (18, 0.1111111111111111)),\n",
       " ('EECS 467', (18, 0.1111111111111111)),\n",
       " ('CHEM 130', (133, 0.11278195488721804)),\n",
       " ('EECS 280', (786, 0.11450381679389313)),\n",
       " ('ANTHRCUL 101', (34, 0.11764705882352941)),\n",
       " ('EECS 388', (141, 0.12056737588652482)),\n",
       " ('MATH 214', (185, 0.12432432432432433)),\n",
       " ('PSYCH 240', (23, 0.13043478260869565)),\n",
       " ('MATH 451', (21, 0.14285714285714285)),\n",
       " ('MATH 105', (21, 0.14285714285714285)),\n",
       " ('EECS 492', (59, 0.15254237288135594)),\n",
       " ('MATH 115', (208, 0.16346153846153846)),\n",
       " ('ENGR 151', (12, 0.16666666666666666)),\n",
       " ('CHEM 210', (183, 0.16939890710382513)),\n",
       " ('EECS 490', (59, 0.1864406779661017)),\n",
       " ('EECS 485', (178, 0.19101123595505617)),\n",
       " ('EECS 442', (60, 0.2)),\n",
       " ('PHYSICS 135', (40, 0.2)),\n",
       " ('CHEM 260', (10, 0.2)),\n",
       " ('MATH 116', (147, 0.2108843537414966)),\n",
       " ('CHEM 211', (18, 0.2222222222222222)),\n",
       " ('MATH 217', (186, 0.22580645161290322)),\n",
       " ('STATS 412', (88, 0.22727272727272727)),\n",
       " ('MATH 185', (21, 0.23809523809523808)),\n",
       " ('PHYSICS 240', (95, 0.24210526315789474)),\n",
       " ('ASTRO 106', (16, 0.25)),\n",
       " ('PHYSICS 140', (217, 0.2534562211981567)),\n",
       " ('ECON 101', (233, 0.26180257510729615)),\n",
       " ('EECS 494', (41, 0.2682926829268293)),\n",
       " ('EECS 445', (118, 0.2711864406779661)),\n",
       " ('STATS 426', (11, 0.2727272727272727)),\n",
       " ('IOE 265', (11, 0.2727272727272727)),\n",
       " ('SI 106', (11, 0.2727272727272727)),\n",
       " ('PHIL 340', (11, 0.2727272727272727)),\n",
       " ('MATH 285', (11, 0.2727272727272727)),\n",
       " ('EECS 301', (17, 0.29411764705882354)),\n",
       " ('EECS 183', (313, 0.3035143769968051)),\n",
       " ('SI 110', (29, 0.3103448275862069)),\n",
       " ('ENGLISH 125', (35, 0.3142857142857143)),\n",
       " ('ANTHRO 101', (18, 0.3333333333333333)),\n",
       " ('BIO 207', (15, 0.3333333333333333)),\n",
       " ('PSYCH 230', (12, 0.3333333333333333)),\n",
       " ('EECS 475', (25, 0.36)),\n",
       " ('ENGR 100', (110, 0.38181818181818183)),\n",
       " ('BIO 171', (23, 0.391304347826087)),\n",
       " ('ARCH 357', (10, 0.4)),\n",
       " ('PHYSICS 340', (27, 0.4074074074074074)),\n",
       " ('EECS 491', (27, 0.4074074074074074)),\n",
       " ('MATH 425', (54, 0.4444444444444444)),\n",
       " ('EECS 486', (47, 0.44680851063829785)),\n",
       " ('EECS 493', (91, 0.45054945054945056)),\n",
       " ('EECS 285', (73, 0.4520547945205479)),\n",
       " ('EECS 201', (33, 0.45454545454545453)),\n",
       " ('BIO 225', (22, 0.45454545454545453)),\n",
       " ('MATH 295', (34, 0.47058823529411764)),\n",
       " ('EECS 270', (19, 0.47368421052631576)),\n",
       " ('MCDB 310', (46, 0.4782608695652174)),\n",
       " ('PSYCH 111', (40, 0.5)),\n",
       " ('CLCIV 385', (20, 0.5)),\n",
       " ('MATH 120', (12, 0.5)),\n",
       " ('EARTH 100', (12, 0.5)),\n",
       " ('GERMAN 386', (21, 0.5238095238095238)),\n",
       " ('ASTRO 101', (30, 0.5333333333333333)),\n",
       " ('MATH 156', (13, 0.5384615384615384)),\n",
       " ('SI 410', (10, 0.6)),\n",
       " ('EECS 481', (16, 0.625)),\n",
       " ('SI 206', (11, 0.6363636363636364)),\n",
       " ('PHYSICS 360', (12, 0.6666666666666666)),\n",
       " ('ENGR 110', (13, 0.6923076923076923)),\n",
       " ('PHIL 183', (14, 0.7142857142857143)),\n",
       " ('MATH 201', (14, 0.7142857142857143)),\n",
       " ('SOC 100', (14, 0.7142857142857143)),\n",
       " ('SLAVIC 312', (24, 0.75)),\n",
       " ('SPACE 101', (16, 0.75)),\n",
       " ('HISTORY 244', (11, 0.8181818181818182)),\n",
       " ('POLSCI 101', (11, 0.8181818181818182)),\n",
       " ('ENGLISH 325', (13, 0.8461538461538461)),\n",
       " ('PAT 305', (16, 1.0)),\n",
       " ('EARTH 113', (17, 1.0)),\n",
       " ('LING 111', (12, 1.0))]"
      ]
     },
     "execution_count": 209,
     "metadata": {},
     "output_type": "execute_result"
    }
   ],
   "source": [
    "entity_sentiment_arr = sorted(entity_sentiment_dict.items(), key=lambda x:x[1][1])\n",
    "[x for x in entity_sentiment_arr if x[1][0] >= 10]"
   ]
  },
  {
   "cell_type": "code",
   "execution_count": 210,
   "metadata": {},
   "outputs": [
    {
     "data": {
      "text/plain": [
       "[('PAT 305', (16, 1.0)),\n",
       " ('EARTH 113', (17, 1.0)),\n",
       " ('LING 111', (12, 1.0)),\n",
       " ('ENGLISH 325', (13, 0.8461538461538461)),\n",
       " ('HISTORY 244', (11, 0.8181818181818182)),\n",
       " ('POLSCI 101', (11, 0.8181818181818182)),\n",
       " ('SLAVIC 312', (24, 0.75)),\n",
       " ('SPACE 101', (16, 0.75)),\n",
       " ('PHIL 183', (14, 0.7142857142857143)),\n",
       " ('MATH 201', (14, 0.7142857142857143)),\n",
       " ('SOC 100', (14, 0.7142857142857143)),\n",
       " ('ENGR 110', (13, 0.6923076923076923)),\n",
       " ('PHYSICS 360', (12, 0.6666666666666666)),\n",
       " ('SI 206', (11, 0.6363636363636364)),\n",
       " ('EECS 481', (16, 0.625)),\n",
       " ('SI 410', (10, 0.6)),\n",
       " ('MATH 156', (13, 0.5384615384615384)),\n",
       " ('ASTRO 101', (30, 0.5333333333333333)),\n",
       " ('GERMAN 386', (21, 0.5238095238095238)),\n",
       " ('PSYCH 111', (40, 0.5)),\n",
       " ('CLCIV 385', (20, 0.5)),\n",
       " ('MATH 120', (12, 0.5)),\n",
       " ('EARTH 100', (12, 0.5)),\n",
       " ('MCDB 310', (46, 0.4782608695652174)),\n",
       " ('EECS 270', (19, 0.47368421052631576)),\n",
       " ('MATH 295', (34, 0.47058823529411764)),\n",
       " ('EECS 201', (33, 0.45454545454545453)),\n",
       " ('BIO 225', (22, 0.45454545454545453)),\n",
       " ('EECS 285', (73, 0.4520547945205479)),\n",
       " ('EECS 493', (91, 0.45054945054945056)),\n",
       " ('EECS 486', (47, 0.44680851063829785)),\n",
       " ('MATH 425', (54, 0.4444444444444444)),\n",
       " ('PHYSICS 340', (27, 0.4074074074074074)),\n",
       " ('EECS 491', (27, 0.4074074074074074)),\n",
       " ('ARCH 357', (10, 0.4)),\n",
       " ('BIO 171', (23, 0.391304347826087)),\n",
       " ('ENGR 100', (110, 0.38181818181818183)),\n",
       " ('EECS 475', (25, 0.36)),\n",
       " ('ANTHRO 101', (18, 0.3333333333333333)),\n",
       " ('BIO 207', (15, 0.3333333333333333)),\n",
       " ('PSYCH 230', (12, 0.3333333333333333)),\n",
       " ('ENGLISH 125', (35, 0.3142857142857143)),\n",
       " ('SI 110', (29, 0.3103448275862069)),\n",
       " ('EECS 183', (313, 0.3035143769968051)),\n",
       " ('EECS 301', (17, 0.29411764705882354)),\n",
       " ('STATS 426', (11, 0.2727272727272727)),\n",
       " ('IOE 265', (11, 0.2727272727272727)),\n",
       " ('SI 106', (11, 0.2727272727272727)),\n",
       " ('PHIL 340', (11, 0.2727272727272727)),\n",
       " ('MATH 285', (11, 0.2727272727272727)),\n",
       " ('EECS 445', (118, 0.2711864406779661)),\n",
       " ('EECS 494', (41, 0.2682926829268293)),\n",
       " ('ECON 101', (233, 0.26180257510729615)),\n",
       " ('PHYSICS 140', (217, 0.2534562211981567)),\n",
       " ('ASTRO 106', (16, 0.25)),\n",
       " ('PHYSICS 240', (95, 0.24210526315789474)),\n",
       " ('MATH 185', (21, 0.23809523809523808)),\n",
       " ('STATS 412', (88, 0.22727272727272727)),\n",
       " ('MATH 217', (186, 0.22580645161290322)),\n",
       " ('CHEM 211', (18, 0.2222222222222222)),\n",
       " ('MATH 116', (147, 0.2108843537414966)),\n",
       " ('EECS 442', (60, 0.2)),\n",
       " ('PHYSICS 135', (40, 0.2)),\n",
       " ('CHEM 260', (10, 0.2)),\n",
       " ('EECS 485', (178, 0.19101123595505617)),\n",
       " ('EECS 490', (59, 0.1864406779661017)),\n",
       " ('CHEM 210', (183, 0.16939890710382513)),\n",
       " ('ENGR 151', (12, 0.16666666666666666)),\n",
       " ('MATH 115', (208, 0.16346153846153846)),\n",
       " ('EECS 492', (59, 0.15254237288135594)),\n",
       " ('MATH 451', (21, 0.14285714285714285)),\n",
       " ('MATH 105', (21, 0.14285714285714285)),\n",
       " ('PSYCH 240', (23, 0.13043478260869565)),\n",
       " ('MATH 214', (185, 0.12432432432432433)),\n",
       " ('EECS 388', (141, 0.12056737588652482)),\n",
       " ('ANTHRCUL 101', (34, 0.11764705882352941)),\n",
       " ('EECS 280', (786, 0.11450381679389313)),\n",
       " ('CHEM 130', (133, 0.11278195488721804)),\n",
       " ('MATH 316', (18, 0.1111111111111111)),\n",
       " ('MATH 412', (18, 0.1111111111111111)),\n",
       " ('EECS 467', (18, 0.1111111111111111)),\n",
       " ('BIO 172', (31, 0.0967741935483871)),\n",
       " ('BIO 173', (42, 0.09523809523809523)),\n",
       " ('ENGR 101', (79, 0.08860759493670886)),\n",
       " ('EECS 203', (1104, 0.08695652173913043)),\n",
       " ('CHEM 125', (35, 0.08571428571428572)),\n",
       " ('EECS 216', (35, 0.08571428571428572)),\n",
       " ('STATS 250', (524, 0.08396946564885496)),\n",
       " ('EECS 281', (1213, 0.06842539159109645)),\n",
       " ('STATS 425', (15, 0.06666666666666667)),\n",
       " ('CHEM 230', (15, 0.06666666666666667)),\n",
       " ('MATH 465', (15, 0.06666666666666667)),\n",
       " ('EECS 215', (40, 0.05)),\n",
       " ('EECS 489', (27, 0.037037037037037035)),\n",
       " ('EECS 482', (182, 0.03296703296703297)),\n",
       " ('SPANISH 232', (36, 0.0)),\n",
       " ('SPANISH 231', (12, 0.0)),\n",
       " ('ASTRO 102', (22, 0.0)),\n",
       " ('ECON 401', (61, -0.01639344262295082)),\n",
       " ('ECON 102', (29, -0.034482758620689655)),\n",
       " ('EECS 376', (320, -0.0375)),\n",
       " ('BIO 305', (17, -0.058823529411764705)),\n",
       " ('CHEM 215', (73, -0.0684931506849315)),\n",
       " ('STATS 306', (13, -0.07692307692307693)),\n",
       " ('EECS 370', (391, -0.0792838874680307)),\n",
       " ('MATH 216', (105, -0.08571428571428572)),\n",
       " ('CHEM 351', (22, -0.09090909090909091)),\n",
       " ('EECS 381', (25, -0.12)),\n",
       " ('EECS 484', (35, -0.14285714285714285)),\n",
       " ('MATH 215', (201, -0.23383084577114427)),\n",
       " ('STATS 280', (16, -0.25)),\n",
       " ('BE 100', (34, -0.35294117647058826)),\n",
       " ('ECON 251', (15, -0.4666666666666667)),\n",
       " ('PHYSICS 235', (25, -0.6)),\n",
       " ('CHEM 216', (16, -0.625)),\n",
       " ('EECS 477', (16, -0.625)),\n",
       " ('EECS 496', (57, -0.6491228070175439))]"
      ]
     },
     "execution_count": 210,
     "metadata": {},
     "output_type": "execute_result"
    }
   ],
   "source": [
    "entity_sentiment_arr = sorted(entity_sentiment_dict.items(), key=lambda x:x[1][1], reverse=True)\n",
    "([x for x in entity_sentiment_arr if x[1][0] >= 10])"
   ]
  },
  {
   "attachments": {},
   "cell_type": "markdown",
   "metadata": {},
   "source": [
    "Find the list of courses with at least 50 appearances"
   ]
  },
  {
   "cell_type": "code",
   "execution_count": 219,
   "metadata": {},
   "outputs": [
    {
     "name": "stdout",
     "output_type": "stream",
     "text": [
      "['ASTRO 101', 'PSYCH 111', 'MCDB 310', 'MATH 295', 'EECS 201', 'EECS 285', 'EECS 493', 'EECS 486', 'MATH 425', 'PHYSICS 340', 'EECS 491', 'ENGR 100', 'EECS 475', 'ENGLISH 125', 'SI 110', 'EECS 183', 'EECS 445', 'EECS 494', 'ECON 101', 'PHYSICS 140', 'PHYSICS 240', 'STATS 412', 'MATH 217', 'MATH 116', 'EECS 442', 'PHYSICS 135', 'EECS 485', 'EECS 490', 'CHEM 210', 'MATH 115', 'EECS 492', 'MATH 214', 'EECS 388', 'ANTHRCUL 101', 'EECS 280', 'CHEM 130', 'BIO 172', 'BIO 173', 'ENGR 101', 'EECS 203', 'CHEM 125', 'EECS 216', 'STATS 250', 'EECS 281', 'EECS 215', 'EECS 489', 'EECS 482', 'SPANISH 232', 'ECON 401', 'ECON 102', 'EECS 376', 'CHEM 215', 'EECS 370', 'MATH 216', 'EECS 381', 'EECS 484', 'MATH 215', 'BE 100', 'PHYSICS 235', 'EECS 496']\n",
      "60\n"
     ]
    }
   ],
   "source": [
    "print([x[0] for x in entity_sentiment_arr if x[1][0] >= 25])\n",
    "print(len([x[0] for x in entity_sentiment_arr if x[1][0] >= 25]))"
   ]
  },
  {
   "attachments": {},
   "cell_type": "markdown",
   "metadata": {},
   "source": [
    "Test the sentiment against increased interest"
   ]
  },
  {
   "cell_type": "code",
   "execution_count": 236,
   "metadata": {},
   "outputs": [],
   "source": [
    "import json\n",
    " \n",
    "with open('Atlas/Atlas_Data_2.json') as json_file:\n",
    "    atlas_data_json = json.load(json_file)\n",
    "\n",
    "class_order = list(atlas_data_json.keys())\n",
    "combined_data = {'expectations':[], 'desire':[], 'increased-interest':[], 'understanding':[], 'average':[], 'workload':[],'sentiment':[]}\n",
    "for c in class_order:\n",
    "    if entity_sentiment_dict[c][0] >= 25:\n",
    "        temp_av = 0\n",
    "        for dt in atlas_data_json[c]:\n",
    "            if dt in ['desire', 'increased-interest', 'understanding']:\n",
    "                temp_av += atlas_data_json[c][dt] * 0.01\n",
    "            combined_data[dt].append(0.01 * atlas_data_json[c][dt])\n",
    "        combined_data['average'].append(temp_av)\n",
    "        combined_data['sentiment'].append(entity_sentiment_dict[c][1])"
   ]
  },
  {
   "cell_type": "code",
   "execution_count": 237,
   "metadata": {},
   "outputs": [
    {
     "data": {
      "image/png": "[encoded data removed]",
      "text/plain": [
       "<Figure size 432x288 with 2 Axes>"
      ]
     },
     "metadata": {
      "needs_background": "light"
     },
     "output_type": "display_data"
    }
   ],
   "source": [
    "import pandas as pd\n",
    "import seaborn as sn\n",
    "import matplotlib.pyplot as plt\n",
    "\n",
    "df = pd.DataFrame(combined_data)\n",
    "corr_matrix = df.corr()\n",
    "sn.heatmap(corr_matrix, annot=True)\n",
    "plt.show()"
   ]
  },
  {
   "cell_type": "code",
   "execution_count": 238,
   "metadata": {},
   "outputs": [
    {
     "data": {
      "image/png": "[encoded data removed]",
      "text/plain": [
       "<Figure size 432x288 with 1 Axes>"
      ]
     },
     "metadata": {
      "needs_background": "light"
     },
     "output_type": "display_data"
    }
   ],
   "source": [
    "import matplotlib.pyplot as plt\n",
    "\n",
    "x_points = combined_data['sentiment']\n",
    "y_points = combined_data['understanding']\n",
    "\n",
    "plt.plot(x_points, y_points, 'o')\n",
    "plt.show()"
   ]
  },
  {
   "cell_type": "code",
   "execution_count": null,
   "metadata": {},
   "outputs": [],
   "source": []
  },
  {
   "cell_type": "code",
   "execution_count": 231,
   "metadata": {},
   "outputs": [
    {
     "data": {
      "text/plain": [
       "0.0032421532793572043"
      ]
     },
     "execution_count": 231,
     "metadata": {},
     "output_type": "execute_result"
    }
   ],
   "source": [
    "import numpy as np\n",
    "s = np.array(combined_data['sentiment'])\n",
    "a = np.array(combined_data['understanding'])\n",
    "fit = np.polyfit(s, a, 3)\n",
    "v = np.polyval(fit, s)\n",
    "np.mean(np.square(a - v))"
   ]
  },
  {
   "cell_type": "code",
   "execution_count": 232,
   "metadata": {},
   "outputs": [
    {
     "data": {
      "text/plain": [
       "array([[1.        , 0.58831316],\n",
       "       [0.58831316, 1.        ]])"
      ]
     },
     "execution_count": 232,
     "metadata": {},
     "output_type": "execute_result"
    }
   ],
   "source": [
    "np.corrcoef(s, a)"
   ]
  }
 ],
 "metadata": {
  "kernelspec": {
   "display_name": "Python 3",
   "language": "python",
   "name": "python3"
  },
  "language_info": {
   "codemirror_mode": {
    "name": "ipython",
    "version": 3
   },
   "file_extension": ".py",
   "mimetype": "text/x-python",
   "name": "python",
   "nbconvert_exporter": "python",
   "pygments_lexer": "ipython3",
   "version": "3.9.6"
  },
  "orig_nbformat": 4,
  "vscode": {
   "interpreter": {
    "hash": "aee8b7b246df8f9039afb4144a1f6fd8d2ca17a180786b69acc140d282b71a49"
   }
  }
 },
 "nbformat": 4,
 "nbformat_minor": 2
}

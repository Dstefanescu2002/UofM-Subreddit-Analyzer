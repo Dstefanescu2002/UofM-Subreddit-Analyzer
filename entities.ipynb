{
 "cells": [
  {
   "cell_type": "code",
   "execution_count": 85,
   "metadata": {},
   "outputs": [
    {
     "name": "stdout",
     "output_type": "stream",
     "text": [
      "The autoreload extension is already loaded. To reload it, use:\n",
      "  %reload_ext autoreload\n"
     ]
    }
   ],
   "source": [
    "%load_ext autoreload\n",
    "%autoreload 2"
   ]
  },
  {
   "cell_type": "code",
   "execution_count": 88,
   "metadata": {},
   "outputs": [
    {
     "name": "stderr",
     "output_type": "stream",
     "text": [
      "150it [00:00, 49640.65it/s]<?, ?it/s]\n",
      "150it [00:00, 48877.07it/s]\n",
      "150it [00:00, 45912.98it/s]\n",
      "100%|██████████| 3/3 [00:00<00:00, 120.05it/s]\n"
     ]
    }
   ],
   "source": [
    "import os\n",
    "from tqdm import tqdm\n",
    "import pandas as pd\n",
    "directory = 'Labelled_Data'\n",
    " \n",
    "posts = []\n",
    "entities = []\n",
    "for filename in tqdm(os.listdir(directory)):\n",
    "    f = os.path.join(directory, filename)\n",
    "    if os.path.isfile(f):\n",
    "        parser_df = pd.read_csv(f)\n",
    "        parser_df['entities'] = parser_df['entities'].fillna('')\n",
    "        for index, row in tqdm(parser_df.iterrows()):\n",
    "            posts.append(row['title_text_combined'])\n",
    "            entities.append(row['entities'] if row['entities'] else '()')"
   ]
  },
  {
   "cell_type": "code",
   "execution_count": 105,
   "metadata": {},
   "outputs": [],
   "source": [
    "from entity_extraction import EntityExtractor\n",
    "entity_extractor = EntityExtractor()\n",
    "pred_entities = entity_extractor.batch_extract(posts)\n"
   ]
  },
  {
   "cell_type": "code",
   "execution_count": 106,
   "metadata": {},
   "outputs": [
    {
     "name": "stdout",
     "output_type": "stream",
     "text": [
      "['EECS 505', '545', '551', '553'] ['EECS 505']\n",
      "[] ['EECS 496']\n",
      "['ME 501', 'Math 216'] ['MATH 216']\n",
      "['216'] []\n",
      "['gen chem'] []\n",
      "['UROP'] []\n",
      "Charlie Accuracy: 0.9333333333333333\n",
      "[] ['MATH 115', 'PHYSICS 140']\n",
      "['ME211', 'ME250'] []\n",
      "['EECS425', 'EECS438'] []\n",
      "[] ['ALA 223']\n",
      "['EECS280', 'EECS281'] []\n",
      "['EECS370'] []\n",
      "['STRATEGY302'] []\n",
      "['MATH354', 'MATH351', 'MATH451'] ['MATH 354']\n",
      "['MATH115'] ['ECON 101', 'ECON 102', 'MATH 115']\n",
      "['STATS306', 'STATS406'] ['STATS 250', 'MATH 215', 'STATS 306', 'ECON 451', 'STATS 406', 'EECS 280', 'EECS 183']\n",
      "['CLCIV385'] []\n",
      "['TCHNCLCM300'] []\n",
      "['ENTR390'] []\n",
      "Daniel Accuracy: 0.7733333333333333\n",
      "[] ['CLCIV 385']\n",
      "['bio 173', 'bio 173'] ['BIO 173']\n",
      "['mth197'] []\n",
      "['EECS 545', 'SI 630', 'EECS 545', 'SI 630', 'EECS 501', 'EECS 551', 'SI 664'] ['EECS 551', 'EECS 501', 'SI 664', 'EECS 545', 'SI 630']\n",
      "[] ['ALA 223']\n",
      "[] ['ECON 401']\n",
      "['CLCIV: greek mythology'] []\n",
      "[] ['SOC 300']\n",
      "['Eng 101', 'EECS280', 'EECS200'] ['EECS 200', 'EECS 280']\n",
      "['WGS 150', 'WGS 150'] ['WGS 150']\n",
      "['281', '376', '276', '281'] []\n",
      "[] ['SPANISH 231']\n",
      "['EECS 482', 'EECS482'] ['EECS 482']\n",
      "[] ['PSYCH 223']\n",
      "Dillan Accuract: 0.88\n",
      "['EECS 505', '545', '551', '553'] ['EECS 505']\n",
      "[] ['EECS 496']\n",
      "['ME 501', 'Math 216'] ['MATH 216']\n",
      "['216'] []\n",
      "['gen chem'] []\n",
      "['UROP'] []\n",
      "[] ['MATH 115', 'PHYSICS 140']\n",
      "['ME211', 'ME250'] []\n",
      "['EECS425', 'EECS438'] []\n",
      "[] ['ALA 223']\n",
      "['EECS280', 'EECS281'] []\n",
      "['EECS370'] []\n",
      "['STRATEGY302'] []\n",
      "['MATH354', 'MATH351', 'MATH451'] ['MATH 354']\n",
      "['MATH115'] ['ECON 101', 'ECON 102', 'MATH 115']\n",
      "['STATS306', 'STATS406'] ['STATS 250', 'MATH 215', 'STATS 306', 'ECON 451', 'STATS 406', 'EECS 280', 'EECS 183']\n",
      "['CLCIV385'] []\n",
      "['TCHNCLCM300'] []\n",
      "['ENTR390'] []\n",
      "[] ['CLCIV 385']\n",
      "['bio 173', 'bio 173'] ['BIO 173']\n",
      "['mth197'] []\n",
      "['EECS 545', 'SI 630', 'EECS 545', 'SI 630', 'EECS 501', 'EECS 551', 'SI 664'] ['EECS 551', 'EECS 501', 'SI 664', 'EECS 545', 'SI 630']\n",
      "[] ['ALA 223']\n",
      "[] ['ECON 401']\n",
      "['CLCIV: greek mythology'] []\n",
      "[] ['SOC 300']\n",
      "['Eng 101', 'EECS280', 'EECS200'] ['EECS 200', 'EECS 280']\n",
      "['WGS 150', 'WGS 150'] ['WGS 150']\n",
      "['281', '376', '276', '281'] []\n",
      "[] ['SPANISH 231']\n",
      "['EECS 482', 'EECS482'] ['EECS 482']\n",
      "[] ['PSYCH 223']\n",
      "Overall Accuracy: 0.8622222222222222\n"
     ]
    }
   ],
   "source": [
    "print (\"Charlie Accuracy:\", entity_extractor.calculate_accuracy(pred_entities[:150], entities[:150]))\n",
    "print (\"Daniel Accuracy:\", entity_extractor.calculate_accuracy(pred_entities[150:300], entities[150:300]))\n",
    "print (\"Dillan Accuract:\", entity_extractor.calculate_accuracy(pred_entities[300:], entities[300:]))\n",
    "\n",
    "print (\"Overall Accuracy:\", entity_extractor.calculate_accuracy(pred_entities, entities))"
   ]
  }
 ],
 "metadata": {
  "kernelspec": {
   "display_name": "base",
   "language": "python",
   "name": "python3"
  },
  "language_info": {
   "codemirror_mode": {
    "name": "ipython",
    "version": 3
   },
   "file_extension": ".py",
   "mimetype": "text/x-python",
   "name": "python",
   "nbconvert_exporter": "python",
   "pygments_lexer": "ipython3",
   "version": "3.10.6"
  },
  "orig_nbformat": 4,
  "vscode": {
   "interpreter": {
    "hash": "c0131f037897c358a9a268dfd2e11505808df673ecd6e283ac185a0b749caaaf"
   }
  }
 },
 "nbformat": 4,
 "nbformat_minor": 2
}

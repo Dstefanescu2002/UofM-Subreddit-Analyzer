{
 "cells": [
  {
   "cell_type": "code",
   "execution_count": 6,
   "id": "e75f3ae2",
   "metadata": {},
   "outputs": [
    {
     "name": "stderr",
     "output_type": "stream",
     "text": [
      "2023-03-13 19:29:17.702574: I tensorflow/core/platform/cpu_feature_guard.cc:193] This TensorFlow binary is optimized with oneAPI Deep Neural Network Library (oneDNN) to use the following CPU instructions in performance-critical operations:  AVX2 FMA\n",
      "To enable them in other operations, rebuild TensorFlow with the appropriate compiler flags.\n"
     ]
    }
   ],
   "source": [
    "import os\n",
    "import pandas as pd\n",
    "from sentiment_analysis import SentimentAnalyzer"
   ]
  },
  {
   "cell_type": "code",
   "execution_count": 7,
   "id": "db3141fc",
   "metadata": {},
   "outputs": [],
   "source": [
    "comments_df = pd.read_csv('comments.csv')\n",
    "texts = comments_df.body"
   ]
  },
  {
   "cell_type": "code",
   "execution_count": 10,
   "id": "4dd72cf5",
   "metadata": {
    "collapsed": true
   },
   "outputs": [
    {
     "name": "stderr",
     "output_type": "stream",
     "text": [
      "All model checkpoint layers were used when initializing TFRobertaForSequenceClassification.\n",
      "\n",
      "Some layers of TFRobertaForSequenceClassification were not initialized from the model checkpoint at cardiffnlp/twitter-roberta-base-sentiment-latest and are newly initialized: ['classifier']\n",
      "You should probably TRAIN this model on a down-stream task to be able to use it for predictions and inference.\n",
      "459it [01:20,  6.23it/s]"
     ]
    },
    {
     "name": "stdout",
     "output_type": "stream",
     "text": [
      "Sentiment Analysis Failed on post #459\n"
     ]
    },
    {
     "name": "stderr",
     "output_type": "stream",
     "text": [
      "472it [01:22,  8.28it/s]"
     ]
    },
    {
     "name": "stdout",
     "output_type": "stream",
     "text": [
      "Sentiment Analysis Failed on post #470\n"
     ]
    },
    {
     "name": "stderr",
     "output_type": "stream",
     "text": [
      "503it [01:27,  5.96it/s]"
     ]
    },
    {
     "name": "stdout",
     "output_type": "stream",
     "text": [
      "Sentiment Analysis Failed on post #503\n"
     ]
    },
    {
     "name": "stderr",
     "output_type": "stream",
     "text": [
      "554it [01:35,  7.96it/s]"
     ]
    },
    {
     "name": "stdout",
     "output_type": "stream",
     "text": [
      "Sentiment Analysis Failed on post #552\n"
     ]
    },
    {
     "name": "stderr",
     "output_type": "stream",
     "text": [
      "1107it [03:10,  7.94it/s]"
     ]
    },
    {
     "name": "stdout",
     "output_type": "stream",
     "text": [
      "Sentiment Analysis Failed on post #1105\n"
     ]
    },
    {
     "name": "stderr",
     "output_type": "stream",
     "text": [
      "2281it [06:35,  4.65it/s]"
     ]
    },
    {
     "name": "stdout",
     "output_type": "stream",
     "text": [
      "Sentiment Analysis Failed on post #2281\n"
     ]
    },
    {
     "name": "stderr",
     "output_type": "stream",
     "text": [
      "2336it [06:44,  6.18it/s]"
     ]
    },
    {
     "name": "stdout",
     "output_type": "stream",
     "text": [
      "Sentiment Analysis Failed on post #2334\n"
     ]
    },
    {
     "name": "stderr",
     "output_type": "stream",
     "text": [
      "2549it [07:29,  7.15it/s]"
     ]
    },
    {
     "name": "stdout",
     "output_type": "stream",
     "text": [
      "Sentiment Analysis Failed on post #2547\n"
     ]
    },
    {
     "name": "stderr",
     "output_type": "stream",
     "text": [
      "3404it [10:03,  7.51it/s]"
     ]
    },
    {
     "name": "stdout",
     "output_type": "stream",
     "text": [
      "Sentiment Analysis Failed on post #3402\n"
     ]
    },
    {
     "name": "stderr",
     "output_type": "stream",
     "text": [
      "4723it [13:57,  4.57it/s]"
     ]
    },
    {
     "name": "stdout",
     "output_type": "stream",
     "text": [
      "Sentiment Analysis Failed on post #4721\n"
     ]
    },
    {
     "name": "stderr",
     "output_type": "stream",
     "text": [
      "4790it [14:10,  6.57it/s]"
     ]
    },
    {
     "name": "stdout",
     "output_type": "stream",
     "text": [
      "Sentiment Analysis Failed on post #4788\n"
     ]
    },
    {
     "name": "stderr",
     "output_type": "stream",
     "text": [
      "5294it [15:39,  7.56it/s]"
     ]
    },
    {
     "name": "stdout",
     "output_type": "stream",
     "text": [
      "Sentiment Analysis Failed on post #5292\n"
     ]
    },
    {
     "name": "stderr",
     "output_type": "stream",
     "text": [
      "6022it [17:40,  7.38it/s]"
     ]
    },
    {
     "name": "stdout",
     "output_type": "stream",
     "text": [
      "Sentiment Analysis Failed on post #6020\n"
     ]
    },
    {
     "name": "stderr",
     "output_type": "stream",
     "text": [
      "6416it [18:49,  6.18it/s]"
     ]
    },
    {
     "name": "stdout",
     "output_type": "stream",
     "text": [
      "Sentiment Analysis Failed on post #6416\n"
     ]
    },
    {
     "name": "stderr",
     "output_type": "stream",
     "text": [
      "7043it [20:49,  4.66it/s]"
     ]
    },
    {
     "name": "stdout",
     "output_type": "stream",
     "text": [
      "Sentiment Analysis Failed on post #7041\n"
     ]
    },
    {
     "name": "stderr",
     "output_type": "stream",
     "text": [
      "9197it [27:14,  2.37it/s]"
     ]
    },
    {
     "name": "stdout",
     "output_type": "stream",
     "text": [
      "Sentiment Analysis Failed on post #9197\n"
     ]
    },
    {
     "name": "stderr",
     "output_type": "stream",
     "text": [
      "9218it [27:19,  5.27it/s]"
     ]
    },
    {
     "name": "stdout",
     "output_type": "stream",
     "text": [
      "Sentiment Analysis Failed on post #9216\n"
     ]
    },
    {
     "name": "stderr",
     "output_type": "stream",
     "text": [
      "9283it [27:33,  4.89it/s]"
     ]
    },
    {
     "name": "stdout",
     "output_type": "stream",
     "text": [
      "Sentiment Analysis Failed on post #9283\n"
     ]
    },
    {
     "name": "stderr",
     "output_type": "stream",
     "text": [
      "9608it [28:30,  7.61it/s]"
     ]
    },
    {
     "name": "stdout",
     "output_type": "stream",
     "text": [
      "Sentiment Analysis Failed on post #9606\n"
     ]
    },
    {
     "name": "stderr",
     "output_type": "stream",
     "text": [
      "9670it [28:42,  5.40it/s]"
     ]
    },
    {
     "name": "stdout",
     "output_type": "stream",
     "text": [
      "Sentiment Analysis Failed on post #9668\n"
     ]
    },
    {
     "name": "stderr",
     "output_type": "stream",
     "text": [
      "10162it [30:08,  8.39it/s]"
     ]
    },
    {
     "name": "stdout",
     "output_type": "stream",
     "text": [
      "Sentiment Analysis Failed on post #10160\n"
     ]
    },
    {
     "name": "stderr",
     "output_type": "stream",
     "text": [
      "10346it [30:41,  5.70it/s]"
     ]
    },
    {
     "name": "stdout",
     "output_type": "stream",
     "text": [
      "Sentiment Analysis Failed on post #10346\n"
     ]
    },
    {
     "name": "stderr",
     "output_type": "stream",
     "text": [
      "10376it [30:47,  5.76it/s]"
     ]
    },
    {
     "name": "stdout",
     "output_type": "stream",
     "text": [
      "Sentiment Analysis Failed on post #10374\n"
     ]
    },
    {
     "name": "stderr",
     "output_type": "stream",
     "text": [
      "10711it [31:51,  5.90it/s]"
     ]
    },
    {
     "name": "stdout",
     "output_type": "stream",
     "text": [
      "Sentiment Analysis Failed on post #10709\n"
     ]
    },
    {
     "name": "stderr",
     "output_type": "stream",
     "text": [
      "11296it [33:32,  5.21it/s]"
     ]
    },
    {
     "name": "stdout",
     "output_type": "stream",
     "text": [
      "Sentiment Analysis Failed on post #11296\n"
     ]
    },
    {
     "name": "stderr",
     "output_type": "stream",
     "text": [
      "11344it [33:43,  4.02it/s]"
     ]
    },
    {
     "name": "stdout",
     "output_type": "stream",
     "text": [
      "Sentiment Analysis Failed on post #11344\n"
     ]
    },
    {
     "name": "stderr",
     "output_type": "stream",
     "text": [
      "11396it [33:52,  8.23it/s]"
     ]
    },
    {
     "name": "stdout",
     "output_type": "stream",
     "text": [
      "Sentiment Analysis Failed on post #11394\n"
     ]
    },
    {
     "name": "stderr",
     "output_type": "stream",
     "text": [
      "11911it [35:29,  6.89it/s]"
     ]
    },
    {
     "name": "stdout",
     "output_type": "stream",
     "text": [
      "Sentiment Analysis Failed on post #11911\n"
     ]
    },
    {
     "name": "stderr",
     "output_type": "stream",
     "text": [
      "11931it [35:34,  4.89it/s]"
     ]
    },
    {
     "name": "stdout",
     "output_type": "stream",
     "text": [
      "Sentiment Analysis Failed on post #11931\n"
     ]
    },
    {
     "name": "stderr",
     "output_type": "stream",
     "text": [
      "12830it [38:22,  3.14it/s]"
     ]
    },
    {
     "name": "stdout",
     "output_type": "stream",
     "text": [
      "Sentiment Analysis Failed on post #12830\n"
     ]
    },
    {
     "name": "stderr",
     "output_type": "stream",
     "text": [
      "12921it [38:42,  6.79it/s]"
     ]
    },
    {
     "name": "stdout",
     "output_type": "stream",
     "text": [
      "Sentiment Analysis Failed on post #12919\n"
     ]
    },
    {
     "name": "stderr",
     "output_type": "stream",
     "text": [
      "13187it [39:29,  5.57it/s]\n"
     ]
    }
   ],
   "source": [
    "analyzer = SentimentAnalyzer()\n",
    "preds = analyzer.batch_analysis(texts)"
   ]
  },
  {
   "cell_type": "code",
   "execution_count": 16,
   "id": "8330b343",
   "metadata": {},
   "outputs": [],
   "source": [
    "comments_df['prediction'] = [pair[0] for pair in preds]\n",
    "comments_df['confidence'] = [pair[1] for pair in preds]"
   ]
  },
  {
   "cell_type": "code",
   "execution_count": 17,
   "id": "c3c82aa2",
   "metadata": {},
   "outputs": [
    {
     "data": {
      "text/html": [
       "<div>\n",
       "<style scoped>\n",
       "    .dataframe tbody tr th:only-of-type {\n",
       "        vertical-align: middle;\n",
       "    }\n",
       "\n",
       "    .dataframe tbody tr th {\n",
       "        vertical-align: top;\n",
       "    }\n",
       "\n",
       "    .dataframe thead th {\n",
       "        text-align: right;\n",
       "    }\n",
       "</style>\n",
       "<table border=\"1\" class=\"dataframe\">\n",
       "  <thead>\n",
       "    <tr style=\"text-align: right;\">\n",
       "      <th></th>\n",
       "      <th>id</th>\n",
       "      <th>body</th>\n",
       "      <th>date_posted</th>\n",
       "      <th>reddit_id</th>\n",
       "      <th>author_id</th>\n",
       "      <th>post_id</th>\n",
       "      <th>parent_id</th>\n",
       "      <th>prediction</th>\n",
       "      <th>confidence</th>\n",
       "    </tr>\n",
       "  </thead>\n",
       "  <tbody>\n",
       "    <tr>\n",
       "      <th>0</th>\n",
       "      <td>1000</td>\n",
       "      <td>Because not everybody treats every day like it...</td>\n",
       "      <td>2023-01-23</td>\n",
       "      <td>j5l5ofh</td>\n",
       "      <td>91</td>\n",
       "      <td>161</td>\n",
       "      <td>-1</td>\n",
       "      <td>negative</td>\n",
       "      <td>0.351076</td>\n",
       "    </tr>\n",
       "    <tr>\n",
       "      <th>1</th>\n",
       "      <td>1001</td>\n",
       "      <td>I mean Im “alternative” and I dress in colors ...</td>\n",
       "      <td>2023-01-23</td>\n",
       "      <td>j5l4ynl</td>\n",
       "      <td>492</td>\n",
       "      <td>161</td>\n",
       "      <td>-1</td>\n",
       "      <td>positive</td>\n",
       "      <td>0.372173</td>\n",
       "    </tr>\n",
       "    <tr>\n",
       "      <th>2</th>\n",
       "      <td>1002</td>\n",
       "      <td>Because U-M is a machine for inducing depression</td>\n",
       "      <td>2023-01-23</td>\n",
       "      <td>j5kzjyf</td>\n",
       "      <td>330</td>\n",
       "      <td>161</td>\n",
       "      <td>-1</td>\n",
       "      <td>negative</td>\n",
       "      <td>0.387632</td>\n",
       "    </tr>\n",
       "    <tr>\n",
       "      <th>3</th>\n",
       "      <td>1003</td>\n",
       "      <td>It’s a p all around color, it goes with p much...</td>\n",
       "      <td>2023-01-23</td>\n",
       "      <td>j5kywwh</td>\n",
       "      <td>102</td>\n",
       "      <td>161</td>\n",
       "      <td>-1</td>\n",
       "      <td>negative</td>\n",
       "      <td>0.361442</td>\n",
       "    </tr>\n",
       "    <tr>\n",
       "      <th>4</th>\n",
       "      <td>1004</td>\n",
       "      <td>Have you considered that everyone at Umich has...</td>\n",
       "      <td>2023-01-23</td>\n",
       "      <td>j5kyugh</td>\n",
       "      <td>314</td>\n",
       "      <td>161</td>\n",
       "      <td>-1</td>\n",
       "      <td>negative</td>\n",
       "      <td>0.390202</td>\n",
       "    </tr>\n",
       "    <tr>\n",
       "      <th>...</th>\n",
       "      <td>...</td>\n",
       "      <td>...</td>\n",
       "      <td>...</td>\n",
       "      <td>...</td>\n",
       "      <td>...</td>\n",
       "      <td>...</td>\n",
       "      <td>...</td>\n",
       "      <td>...</td>\n",
       "      <td>...</td>\n",
       "    </tr>\n",
       "    <tr>\n",
       "      <th>13182</th>\n",
       "      <td>17179</td>\n",
       "      <td>not this time of year you can't . unless you j...</td>\n",
       "      <td>2023-02-06</td>\n",
       "      <td>j7hk271</td>\n",
       "      <td>232</td>\n",
       "      <td>2508</td>\n",
       "      <td>17165</td>\n",
       "      <td>negative</td>\n",
       "      <td>0.366654</td>\n",
       "    </tr>\n",
       "    <tr>\n",
       "      <th>13183</th>\n",
       "      <td>17180</td>\n",
       "      <td>Grad Library had some very sleep-inducing carr...</td>\n",
       "      <td>2023-02-06</td>\n",
       "      <td>j7ip5h9</td>\n",
       "      <td>3421</td>\n",
       "      <td>2508</td>\n",
       "      <td>17166</td>\n",
       "      <td>positive</td>\n",
       "      <td>0.368972</td>\n",
       "    </tr>\n",
       "    <tr>\n",
       "      <th>13184</th>\n",
       "      <td>17181</td>\n",
       "      <td>do I get a talking cat too?</td>\n",
       "      <td>2023-02-06</td>\n",
       "      <td>j7hksin</td>\n",
       "      <td>765</td>\n",
       "      <td>2508</td>\n",
       "      <td>17171</td>\n",
       "      <td>neutral</td>\n",
       "      <td>0.352055</td>\n",
       "    </tr>\n",
       "    <tr>\n",
       "      <th>13185</th>\n",
       "      <td>17182</td>\n",
       "      <td>I've seen them little shits under furniture an...</td>\n",
       "      <td>2023-02-10</td>\n",
       "      <td>j7ywlu9</td>\n",
       "      <td>2007</td>\n",
       "      <td>2508</td>\n",
       "      <td>17178</td>\n",
       "      <td>negative</td>\n",
       "      <td>0.368039</td>\n",
       "    </tr>\n",
       "    <tr>\n",
       "      <th>13186</th>\n",
       "      <td>17183</td>\n",
       "      <td>you don't own the cat\\n\\nthe cat owns you</td>\n",
       "      <td>2023-02-06</td>\n",
       "      <td>j7hloa5</td>\n",
       "      <td>121</td>\n",
       "      <td>2508</td>\n",
       "      <td>17181</td>\n",
       "      <td>positive</td>\n",
       "      <td>0.373116</td>\n",
       "    </tr>\n",
       "  </tbody>\n",
       "</table>\n",
       "<p>13187 rows × 9 columns</p>\n",
       "</div>"
      ],
      "text/plain": [
       "          id                                               body date_posted  \\\n",
       "0       1000  Because not everybody treats every day like it...  2023-01-23   \n",
       "1       1001  I mean Im “alternative” and I dress in colors ...  2023-01-23   \n",
       "2       1002   Because U-M is a machine for inducing depression  2023-01-23   \n",
       "3       1003  It’s a p all around color, it goes with p much...  2023-01-23   \n",
       "4       1004  Have you considered that everyone at Umich has...  2023-01-23   \n",
       "...      ...                                                ...         ...   \n",
       "13182  17179  not this time of year you can't . unless you j...  2023-02-06   \n",
       "13183  17180  Grad Library had some very sleep-inducing carr...  2023-02-06   \n",
       "13184  17181                        do I get a talking cat too?  2023-02-06   \n",
       "13185  17182  I've seen them little shits under furniture an...  2023-02-10   \n",
       "13186  17183          you don't own the cat\\n\\nthe cat owns you  2023-02-06   \n",
       "\n",
       "      reddit_id  author_id  post_id  parent_id prediction  confidence  \n",
       "0       j5l5ofh         91      161         -1   negative    0.351076  \n",
       "1       j5l4ynl        492      161         -1   positive    0.372173  \n",
       "2       j5kzjyf        330      161         -1   negative    0.387632  \n",
       "3       j5kywwh        102      161         -1   negative    0.361442  \n",
       "4       j5kyugh        314      161         -1   negative    0.390202  \n",
       "...         ...        ...      ...        ...        ...         ...  \n",
       "13182   j7hk271        232     2508      17165   negative    0.366654  \n",
       "13183   j7ip5h9       3421     2508      17166   positive    0.368972  \n",
       "13184   j7hksin        765     2508      17171    neutral    0.352055  \n",
       "13185   j7ywlu9       2007     2508      17178   negative    0.368039  \n",
       "13186   j7hloa5        121     2508      17181   positive    0.373116  \n",
       "\n",
       "[13187 rows x 9 columns]"
      ]
     },
     "execution_count": 17,
     "metadata": {},
     "output_type": "execute_result"
    }
   ],
   "source": [
    "comments_df"
   ]
  },
  {
   "cell_type": "code",
   "execution_count": 19,
   "id": "b92bc683",
   "metadata": {},
   "outputs": [],
   "source": [
    "#comments_df.to_csv('comments_with_predictions.csv', index=False)"
   ]
  },
  {
   "cell_type": "code",
   "execution_count": 18,
   "id": "f8204cb0",
   "metadata": {},
   "outputs": [
    {
     "data": {
      "text/plain": [
       "positive    8305\n",
       "negative    4025\n",
       "neutral      857\n",
       "Name: prediction, dtype: int64"
      ]
     },
     "execution_count": 18,
     "metadata": {},
     "output_type": "execute_result"
    }
   ],
   "source": [
    "comments_df.prediction.value_counts()"
   ]
  }
 ],
 "metadata": {
  "kernelspec": {
   "display_name": "Python 3 (ipykernel)",
   "language": "python",
   "name": "python3"
  },
  "language_info": {
   "codemirror_mode": {
    "name": "ipython",
    "version": 3
   },
   "file_extension": ".py",
   "mimetype": "text/x-python",
   "name": "python",
   "nbconvert_exporter": "python",
   "pygments_lexer": "ipython3",
   "version": "3.9.12"
  }
 },
 "nbformat": 4,
 "nbformat_minor": 5
}

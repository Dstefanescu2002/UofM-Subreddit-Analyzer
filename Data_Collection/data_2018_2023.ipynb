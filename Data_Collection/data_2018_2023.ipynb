{
 "cells": [
  {
   "cell_type": "code",
   "execution_count": 1,
   "id": "661fbefe",
   "metadata": {},
   "outputs": [],
   "source": [
    "import pandas as pd\n",
    "import numpy as np\n",
    "import seaborn as sns\n",
    "from cleantext import clean"
   ]
  },
  {
   "cell_type": "markdown",
   "id": "bd63a800",
   "metadata": {},
   "source": [
    "## Switching to a Different Tool\n",
    "<b>new scraper</b>: timesearch, https://github.com/voussoir/timesearch <br>\n",
    "quickly access in a <b>database view</b>: https://sqlitebrowser.org/dl/#macos\n",
    "- the old scraper (DownloaderForReddit) cannot bypass the 1000 post limit"
   ]
  },
  {
   "cell_type": "markdown",
   "id": "3b121939",
   "metadata": {},
   "source": [
    "#### Submission (Post) Columns\n",
    "- idstr: (string) identifiers for content\n",
    "- created: (string) unix timestamp\n",
    "- title: (string) post title\n",
    "- selftext: (string) post body text\n",
    "- score: (int) post score calculated by upvote-downvote"
   ]
  },
  {
   "cell_type": "markdown",
   "id": "eee8ef01",
   "metadata": {},
   "source": [
    "#### Comment Columns\n",
    "- ...\n",
    "- parent: (string) 'idstr' of the parent comment/reply\n",
    "- submission: (string) 'idstr' of the submission that this comment belongs to\n",
    "- body: (string) comment body text"
   ]
  },
  {
   "cell_type": "code",
   "execution_count": 2,
   "id": "585054fd",
   "metadata": {},
   "outputs": [],
   "source": [
    "post_df = pd.read_csv('submissions.csv', usecols = ['idstr','created','title','selftext','score'], dtype={'created': 'object'})\n",
    "comment_df = pd.read_csv('comments.csv', usecols = ['idstr','created','parent','submission','body','score'], dtype={'created': 'object'})"
   ]
  },
  {
   "cell_type": "code",
   "execution_count": 3,
   "id": "ec5741ca",
   "metadata": {},
   "outputs": [
    {
     "data": {
      "text/html": [
       "<div>\n",
       "<style scoped>\n",
       "    .dataframe tbody tr th:only-of-type {\n",
       "        vertical-align: middle;\n",
       "    }\n",
       "\n",
       "    .dataframe tbody tr th {\n",
       "        vertical-align: top;\n",
       "    }\n",
       "\n",
       "    .dataframe thead th {\n",
       "        text-align: right;\n",
       "    }\n",
       "</style>\n",
       "<table border=\"1\" class=\"dataframe\">\n",
       "  <thead>\n",
       "    <tr style=\"text-align: right;\">\n",
       "      <th></th>\n",
       "      <th>idstr</th>\n",
       "      <th>created</th>\n",
       "      <th>title</th>\n",
       "      <th>selftext</th>\n",
       "      <th>score</th>\n",
       "    </tr>\n",
       "  </thead>\n",
       "  <tbody>\n",
       "    <tr>\n",
       "      <th>7705</th>\n",
       "      <td>t3_f4h76j</td>\n",
       "      <td>1581806996</td>\n",
       "      <td>Online Student Looking for which maker spaces ...</td>\n",
       "      <td>Hello! I recently joined the university as an ...</td>\n",
       "      <td>3</td>\n",
       "    </tr>\n",
       "    <tr>\n",
       "      <th>15461</th>\n",
       "      <td>t3_mjvoyn</td>\n",
       "      <td>1617540770</td>\n",
       "      <td>I wonder if UMich will do the same thing</td>\n",
       "      <td>NaN</td>\n",
       "      <td>11</td>\n",
       "    </tr>\n",
       "    <tr>\n",
       "      <th>6298</th>\n",
       "      <td>t3_e55fni</td>\n",
       "      <td>1575320435</td>\n",
       "      <td>LS&amp;amp;A Course Guide Extension Not Working</td>\n",
       "      <td>I tried adding this Google Chrome extension th...</td>\n",
       "      <td>1</td>\n",
       "    </tr>\n",
       "    <tr>\n",
       "      <th>1022</th>\n",
       "      <td>t3_a5f0p8</td>\n",
       "      <td>1544591016</td>\n",
       "      <td>Ling 209</td>\n",
       "      <td>Anyone here in ling 209. If so, how are you st...</td>\n",
       "      <td>1</td>\n",
       "    </tr>\n",
       "    <tr>\n",
       "      <th>11422</th>\n",
       "      <td>t3_hwf440</td>\n",
       "      <td>1595508797</td>\n",
       "      <td>PSA Regarding Switching out of North Campus Dorms</td>\n",
       "      <td>Spare yourself the trouble of asking. No one i...</td>\n",
       "      <td>53</td>\n",
       "    </tr>\n",
       "  </tbody>\n",
       "</table>\n",
       "</div>"
      ],
      "text/plain": [
       "           idstr     created  \\\n",
       "7705   t3_f4h76j  1581806996   \n",
       "15461  t3_mjvoyn  1617540770   \n",
       "6298   t3_e55fni  1575320435   \n",
       "1022   t3_a5f0p8  1544591016   \n",
       "11422  t3_hwf440  1595508797   \n",
       "\n",
       "                                                   title  \\\n",
       "7705   Online Student Looking for which maker spaces ...   \n",
       "15461           I wonder if UMich will do the same thing   \n",
       "6298         LS&amp;A Course Guide Extension Not Working   \n",
       "1022                                            Ling 209   \n",
       "11422  PSA Regarding Switching out of North Campus Dorms   \n",
       "\n",
       "                                                selftext  score  \n",
       "7705   Hello! I recently joined the university as an ...      3  \n",
       "15461                                                NaN     11  \n",
       "6298   I tried adding this Google Chrome extension th...      1  \n",
       "1022   Anyone here in ling 209. If so, how are you st...      1  \n",
       "11422  Spare yourself the trouble of asking. No one i...     53  "
      ]
     },
     "metadata": {},
     "output_type": "display_data"
    },
    {
     "data": {
      "text/html": [
       "<div>\n",
       "<style scoped>\n",
       "    .dataframe tbody tr th:only-of-type {\n",
       "        vertical-align: middle;\n",
       "    }\n",
       "\n",
       "    .dataframe tbody tr th {\n",
       "        vertical-align: top;\n",
       "    }\n",
       "\n",
       "    .dataframe thead th {\n",
       "        text-align: right;\n",
       "    }\n",
       "</style>\n",
       "<table border=\"1\" class=\"dataframe\">\n",
       "  <thead>\n",
       "    <tr style=\"text-align: right;\">\n",
       "      <th></th>\n",
       "      <th>idstr</th>\n",
       "      <th>created</th>\n",
       "      <th>parent</th>\n",
       "      <th>submission</th>\n",
       "      <th>body</th>\n",
       "      <th>score</th>\n",
       "    </tr>\n",
       "  </thead>\n",
       "  <tbody>\n",
       "    <tr>\n",
       "      <th>136525</th>\n",
       "      <td>t1_h96esps</td>\n",
       "      <td>1629132956</td>\n",
       "      <td>t1_h968qrp</td>\n",
       "      <td>t3_p5ign6</td>\n",
       "      <td>A refresher is always worth it. \\nYou'll find ...</td>\n",
       "      <td>38.0</td>\n",
       "    </tr>\n",
       "    <tr>\n",
       "      <th>147037</th>\n",
       "      <td>t1_hfct49n</td>\n",
       "      <td>1633358559</td>\n",
       "      <td>t3_q0v7zc</td>\n",
       "      <td>t3_q0v7zc</td>\n",
       "      <td>My fav product is back in stock at Trader Joe’s</td>\n",
       "      <td>1.0</td>\n",
       "    </tr>\n",
       "    <tr>\n",
       "      <th>239357</th>\n",
       "      <td>t1_jaomqyb</td>\n",
       "      <td>1677797767</td>\n",
       "      <td>t3_11gb91p</td>\n",
       "      <td>t3_11gb91p</td>\n",
       "      <td>have you tried talking to someone working ther...</td>\n",
       "      <td>2.0</td>\n",
       "    </tr>\n",
       "    <tr>\n",
       "      <th>156495</th>\n",
       "      <td>t1_hnhbj4p</td>\n",
       "      <td>1638811208</td>\n",
       "      <td>t3_racbna</td>\n",
       "      <td>t3_racbna</td>\n",
       "      <td>Which 4, specifically? That is going to be tou...</td>\n",
       "      <td>10.0</td>\n",
       "    </tr>\n",
       "    <tr>\n",
       "      <th>23271</th>\n",
       "      <td>t1_em4ne69</td>\n",
       "      <td>1556622041</td>\n",
       "      <td>t1_em40hi2</td>\n",
       "      <td>t3_bitb63</td>\n",
       "      <td>Hmm, I should definitely look into this.</td>\n",
       "      <td>1.0</td>\n",
       "    </tr>\n",
       "  </tbody>\n",
       "</table>\n",
       "</div>"
      ],
      "text/plain": [
       "             idstr     created      parent  submission  \\\n",
       "136525  t1_h96esps  1629132956  t1_h968qrp   t3_p5ign6   \n",
       "147037  t1_hfct49n  1633358559   t3_q0v7zc   t3_q0v7zc   \n",
       "239357  t1_jaomqyb  1677797767  t3_11gb91p  t3_11gb91p   \n",
       "156495  t1_hnhbj4p  1638811208   t3_racbna   t3_racbna   \n",
       "23271   t1_em4ne69  1556622041  t1_em40hi2   t3_bitb63   \n",
       "\n",
       "                                                     body  score  \n",
       "136525  A refresher is always worth it. \\nYou'll find ...   38.0  \n",
       "147037    My fav product is back in stock at Trader Joe’s    1.0  \n",
       "239357  have you tried talking to someone working ther...    2.0  \n",
       "156495  Which 4, specifically? That is going to be tou...   10.0  \n",
       "23271            Hmm, I should definitely look into this.    1.0  "
      ]
     },
     "metadata": {},
     "output_type": "display_data"
    }
   ],
   "source": [
    "display(post_df.sample(5))\n",
    "display(comment_df.sample(5))"
   ]
  },
  {
   "cell_type": "markdown",
   "id": "a74cd501",
   "metadata": {},
   "source": [
    "## Modifications"
   ]
  },
  {
   "cell_type": "markdown",
   "id": "a839782d",
   "metadata": {},
   "source": [
    "#### Comment Table: may have an anomaly column"
   ]
  },
  {
   "cell_type": "code",
   "execution_count": 4,
   "id": "26fb0834",
   "metadata": {},
   "outputs": [
    {
     "data": {
      "text/html": [
       "<div>\n",
       "<style scoped>\n",
       "    .dataframe tbody tr th:only-of-type {\n",
       "        vertical-align: middle;\n",
       "    }\n",
       "\n",
       "    .dataframe tbody tr th {\n",
       "        vertical-align: top;\n",
       "    }\n",
       "\n",
       "    .dataframe thead th {\n",
       "        text-align: right;\n",
       "    }\n",
       "</style>\n",
       "<table border=\"1\" class=\"dataframe\">\n",
       "  <thead>\n",
       "    <tr style=\"text-align: right;\">\n",
       "      <th></th>\n",
       "      <th>idstr</th>\n",
       "      <th>created</th>\n",
       "      <th>parent</th>\n",
       "      <th>submission</th>\n",
       "      <th>body</th>\n",
       "      <th>score</th>\n",
       "    </tr>\n",
       "  </thead>\n",
       "  <tbody>\n",
       "    <tr>\n",
       "      <th>185762</th>\n",
       "      <td>1</td>\n",
       "      <td>uofm</td>\n",
       "      <td>448</td>\n",
       "      <td>NaN</td>\n",
       "      <td>NaN</td>\n",
       "      <td>NaN</td>\n",
       "    </tr>\n",
       "    <tr>\n",
       "      <th>244177</th>\n",
       "      <td>t1_jdt465f</td>\n",
       "      <td>1679874767</td>\n",
       "      <td>t1_jds8hiw</td>\n",
       "      <td>t3_121lwen</td>\n",
       "      <td>I think violence and retaliatory ethnic cleani...</td>\n",
       "      <td>1.0</td>\n",
       "    </tr>\n",
       "    <tr>\n",
       "      <th>244176</th>\n",
       "      <td>t1_jdt43x2</td>\n",
       "      <td>1679874739</td>\n",
       "      <td>t3_122x93t</td>\n",
       "      <td>t3_122x93t</td>\n",
       "      <td>Little to none</td>\n",
       "      <td>1.0</td>\n",
       "    </tr>\n",
       "    <tr>\n",
       "      <th>244175</th>\n",
       "      <td>t1_jdt3306</td>\n",
       "      <td>1679874256</td>\n",
       "      <td>t1_jdszdv3</td>\n",
       "      <td>t3_123162e</td>\n",
       "      <td>The timing seems bad is all. Maybe if they cou...</td>\n",
       "      <td>1.0</td>\n",
       "    </tr>\n",
       "    <tr>\n",
       "      <th>244174</th>\n",
       "      <td>t1_jdt2wfo</td>\n",
       "      <td>1679874169</td>\n",
       "      <td>t1_jdsqyxu</td>\n",
       "      <td>t3_123162e</td>\n",
       "      <td>They bargained again today.</td>\n",
       "      <td>1.0</td>\n",
       "    </tr>\n",
       "  </tbody>\n",
       "</table>\n",
       "</div>"
      ],
      "text/plain": [
       "             idstr     created      parent  submission  \\\n",
       "185762           1        uofm         448         NaN   \n",
       "244177  t1_jdt465f  1679874767  t1_jds8hiw  t3_121lwen   \n",
       "244176  t1_jdt43x2  1679874739  t3_122x93t  t3_122x93t   \n",
       "244175  t1_jdt3306  1679874256  t1_jdszdv3  t3_123162e   \n",
       "244174  t1_jdt2wfo  1679874169  t1_jdsqyxu  t3_123162e   \n",
       "\n",
       "                                                     body  score  \n",
       "185762                                                NaN    NaN  \n",
       "244177  I think violence and retaliatory ethnic cleani...    1.0  \n",
       "244176                                     Little to none    1.0  \n",
       "244175  The timing seems bad is all. Maybe if they cou...    1.0  \n",
       "244174                        They bargained again today.    1.0  "
      ]
     },
     "execution_count": 4,
     "metadata": {},
     "output_type": "execute_result"
    }
   ],
   "source": [
    "comment_df.sort_values(by='created', ascending=False).head(5)"
   ]
  },
  {
   "cell_type": "code",
   "execution_count": 5,
   "id": "3302a821",
   "metadata": {},
   "outputs": [],
   "source": [
    "# Drop by index\n",
    "comment_df.drop([185762], inplace=True)"
   ]
  },
  {
   "cell_type": "markdown",
   "id": "2a12332f",
   "metadata": {},
   "source": [
    "#### Comment and Submission Tables: convert unix time to UTC"
   ]
  },
  {
   "cell_type": "code",
   "execution_count": 6,
   "id": "c0560a99",
   "metadata": {},
   "outputs": [
    {
     "name": "stdout",
     "output_type": "stream",
     "text": [
      "Earliest post created at 2018-09-01 07:17:52. Latest post created at 2023-03-26 23:10:20.\n"
     ]
    }
   ],
   "source": [
    "# Convert based on seconds elapsed since epoch\n",
    "post_df['created'] = pd.to_datetime(post_df['created'], unit='s')\n",
    "comment_df['created'] = pd.to_datetime(comment_df['created'], unit='s')\n",
    "\n",
    "print('Earliest post created at %s. Latest post created at %s.' % (post_df['created'].min(), post_df['created'].max()))"
   ]
  },
  {
   "cell_type": "markdown",
   "id": "2c5c91a1",
   "metadata": {},
   "source": [
    "#### Comment Table: some early post (2010-ish) got mixed in when testing the scraper"
   ]
  },
  {
   "cell_type": "code",
   "execution_count": 7,
   "id": "93cfc083",
   "metadata": {},
   "outputs": [
    {
     "name": "stdout",
     "output_type": "stream",
     "text": [
      "Earliest comment created at 2010-08-13 22:37:19. Latest comment created at 2023-03-26 23:52:47.\n"
     ]
    }
   ],
   "source": [
    "print('Earliest comment created at %s. Latest comment created at %s.' % (comment_df['created'].min(), comment_df['created'].max()))"
   ]
  },
  {
   "cell_type": "code",
   "execution_count": 8,
   "id": "cc002b8e",
   "metadata": {},
   "outputs": [
    {
     "name": "stdout",
     "output_type": "stream",
     "text": [
      "Earliest comment created at 2018-09-01 09:40:47. Latest comment created at 2023-03-26 23:52:47.\n"
     ]
    }
   ],
   "source": [
    "comment_df = comment_df[comment_df['created'] >= '2018-09-01 07:17:52']\n",
    "print('Earliest comment created at %s. Latest comment created at %s.' % (comment_df['created'].min(), comment_df['created'].max()))"
   ]
  },
  {
   "cell_type": "markdown",
   "id": "40045b63",
   "metadata": {},
   "source": [
    "#### Text content in general: emoji, linebreak, '[deleted]', '[removed]' are not helpful\n",
    "- clean-text, https://github.com/jfilter/clean-text/blob/main/README.md"
   ]
  },
  {
   "cell_type": "code",
   "execution_count": 9,
   "id": "5691d3f2",
   "metadata": {},
   "outputs": [],
   "source": [
    "post_df['selftext'] = post_df['selftext'].replace({'\\[deleted\\]':'', '\\[removed\\]':'', '\\n':'. '}, regex=True)\n",
    "comment_df['body'] = comment_df['body'].replace({'\\[deleted\\]':'', '\\[removed\\]':'', '\\n':'. '}, regex=True)"
   ]
  },
  {
   "cell_type": "code",
   "execution_count": 10,
   "id": "e1ea74fe",
   "metadata": {},
   "outputs": [],
   "source": [
    "post_df['title'] = post_df['title'].apply(lambda s: clean(s, no_emoji=True, lower=False))\n",
    "post_df['selftext'] = post_df['selftext'].apply(lambda s: clean(s, no_emoji=True, lower=False))\n",
    "\n",
    "comment_df['body'] = comment_df['body'].apply(lambda s: clean(s, no_emoji=True, lower=False))"
   ]
  },
  {
   "cell_type": "markdown",
   "id": "080159bb",
   "metadata": {},
   "source": [
    "#### Submission Table: combine 'title' and 'selftext' to serve as a single input for models"
   ]
  },
  {
   "cell_type": "code",
   "execution_count": 11,
   "id": "e711ab7f",
   "metadata": {},
   "outputs": [],
   "source": [
    "# Putting a period in between. \n",
    "post_df['title_text_combined'] = post_df[['title','selftext']].apply(lambda x : '{}. {}'.format(x[0],x[1]), axis=1)"
   ]
  },
  {
   "cell_type": "code",
   "execution_count": 12,
   "id": "1547d2d4",
   "metadata": {},
   "outputs": [
    {
     "data": {
      "text/html": [
       "<div>\n",
       "<style scoped>\n",
       "    .dataframe tbody tr th:only-of-type {\n",
       "        vertical-align: middle;\n",
       "    }\n",
       "\n",
       "    .dataframe tbody tr th {\n",
       "        vertical-align: top;\n",
       "    }\n",
       "\n",
       "    .dataframe thead th {\n",
       "        text-align: right;\n",
       "    }\n",
       "</style>\n",
       "<table border=\"1\" class=\"dataframe\">\n",
       "  <thead>\n",
       "    <tr style=\"text-align: right;\">\n",
       "      <th></th>\n",
       "      <th>idstr</th>\n",
       "      <th>created</th>\n",
       "      <th>title</th>\n",
       "      <th>selftext</th>\n",
       "      <th>score</th>\n",
       "      <th>title_text_combined</th>\n",
       "    </tr>\n",
       "  </thead>\n",
       "  <tbody>\n",
       "    <tr>\n",
       "      <th>0</th>\n",
       "      <td>t3_9c188n</td>\n",
       "      <td>2018-09-01 07:17:52</td>\n",
       "      <td>Prelaw Frats</td>\n",
       "      <td>Hey everyone, I'm hoping to rush a prelaw frat...</td>\n",
       "      <td>0</td>\n",
       "      <td>Prelaw Frats. Hey everyone, I'm hoping to rush...</td>\n",
       "    </tr>\n",
       "    <tr>\n",
       "      <th>1</th>\n",
       "      <td>t3_9c2dxp</td>\n",
       "      <td>2018-09-01 11:30:10</td>\n",
       "      <td>Can you leave lecture early?</td>\n",
       "      <td></td>\n",
       "      <td>8</td>\n",
       "      <td>Can you leave lecture early?.</td>\n",
       "    </tr>\n",
       "    <tr>\n",
       "      <th>2</th>\n",
       "      <td>t3_9c2ui7</td>\n",
       "      <td>2018-09-01 12:57:28</td>\n",
       "      <td>Thanksgiving Recess</td>\n",
       "      <td>I was wondering how strict it was to be in cla...</td>\n",
       "      <td>1</td>\n",
       "      <td>Thanksgiving Recess. I was wondering how stric...</td>\n",
       "    </tr>\n",
       "    <tr>\n",
       "      <th>3</th>\n",
       "      <td>t3_9c2ywe</td>\n",
       "      <td>2018-09-01 13:16:49</td>\n",
       "      <td>Dual degree question</td>\n",
       "      <td></td>\n",
       "      <td>0</td>\n",
       "      <td>Dual degree question.</td>\n",
       "    </tr>\n",
       "    <tr>\n",
       "      <th>4</th>\n",
       "      <td>t3_9c35x9</td>\n",
       "      <td>2018-09-01 13:47:46</td>\n",
       "      <td>LSA</td>\n",
       "      <td></td>\n",
       "      <td>0</td>\n",
       "      <td>LSA.</td>\n",
       "    </tr>\n",
       "  </tbody>\n",
       "</table>\n",
       "</div>"
      ],
      "text/plain": [
       "       idstr             created                         title  \\\n",
       "0  t3_9c188n 2018-09-01 07:17:52                  Prelaw Frats   \n",
       "1  t3_9c2dxp 2018-09-01 11:30:10  Can you leave lecture early?   \n",
       "2  t3_9c2ui7 2018-09-01 12:57:28           Thanksgiving Recess   \n",
       "3  t3_9c2ywe 2018-09-01 13:16:49          Dual degree question   \n",
       "4  t3_9c35x9 2018-09-01 13:47:46                           LSA   \n",
       "\n",
       "                                            selftext  score  \\\n",
       "0  Hey everyone, I'm hoping to rush a prelaw frat...      0   \n",
       "1                                                         8   \n",
       "2  I was wondering how strict it was to be in cla...      1   \n",
       "3                                                         0   \n",
       "4                                                         0   \n",
       "\n",
       "                                 title_text_combined  \n",
       "0  Prelaw Frats. Hey everyone, I'm hoping to rush...  \n",
       "1                     Can you leave lecture early?.   \n",
       "2  Thanksgiving Recess. I was wondering how stric...  \n",
       "3                             Dual degree question.   \n",
       "4                                              LSA.   "
      ]
     },
     "execution_count": 12,
     "metadata": {},
     "output_type": "execute_result"
    }
   ],
   "source": [
    "post_df.head()"
   ]
  },
  {
   "cell_type": "code",
   "execution_count": 13,
   "id": "c3b85ced",
   "metadata": {},
   "outputs": [
    {
     "data": {
      "text/html": [
       "<div>\n",
       "<style scoped>\n",
       "    .dataframe tbody tr th:only-of-type {\n",
       "        vertical-align: middle;\n",
       "    }\n",
       "\n",
       "    .dataframe tbody tr th {\n",
       "        vertical-align: top;\n",
       "    }\n",
       "\n",
       "    .dataframe thead th {\n",
       "        text-align: right;\n",
       "    }\n",
       "</style>\n",
       "<table border=\"1\" class=\"dataframe\">\n",
       "  <thead>\n",
       "    <tr style=\"text-align: right;\">\n",
       "      <th></th>\n",
       "      <th>idstr</th>\n",
       "      <th>created</th>\n",
       "      <th>parent</th>\n",
       "      <th>submission</th>\n",
       "      <th>body</th>\n",
       "      <th>score</th>\n",
       "    </tr>\n",
       "  </thead>\n",
       "  <tbody>\n",
       "    <tr>\n",
       "      <th>4755</th>\n",
       "      <td>t1_e57ddqc</td>\n",
       "      <td>2018-09-01 09:40:47</td>\n",
       "      <td>t1_e55e71k</td>\n",
       "      <td>t3_9bmgmx</td>\n",
       "      <td>this is maybe true but I'll still take a smell...</td>\n",
       "      <td>1.0</td>\n",
       "    </tr>\n",
       "    <tr>\n",
       "      <th>4756</th>\n",
       "      <td>t1_e57gijd</td>\n",
       "      <td>2018-09-01 11:34:08</td>\n",
       "      <td>t3_9c2dxp</td>\n",
       "      <td>t3_9c2dxp</td>\n",
       "      <td>It's not a big deal, just be respectful about ...</td>\n",
       "      <td>56.0</td>\n",
       "    </tr>\n",
       "    <tr>\n",
       "      <th>4757</th>\n",
       "      <td>t1_e57ih7p</td>\n",
       "      <td>2018-09-01 12:28:47</td>\n",
       "      <td>t3_9c2dxp</td>\n",
       "      <td>t3_9c2dxp</td>\n",
       "      <td>They also record 280 lectures online so you ca...</td>\n",
       "      <td>17.0</td>\n",
       "    </tr>\n",
       "    <tr>\n",
       "      <th>4758</th>\n",
       "      <td>t1_e57khfz</td>\n",
       "      <td>2018-09-01 13:13:55</td>\n",
       "      <td>t3_9c2dxp</td>\n",
       "      <td>t3_9c2dxp</td>\n",
       "      <td>No, the principal will find out and put it on ...</td>\n",
       "      <td>90.0</td>\n",
       "    </tr>\n",
       "    <tr>\n",
       "      <th>4759</th>\n",
       "      <td>t1_e57kio1</td>\n",
       "      <td>2018-09-01 13:14:36</td>\n",
       "      <td>t3_9c2dxp</td>\n",
       "      <td>t3_9c2dxp</td>\n",
       "      <td>May also want to let your prof know that you w...</td>\n",
       "      <td>12.0</td>\n",
       "    </tr>\n",
       "  </tbody>\n",
       "</table>\n",
       "</div>"
      ],
      "text/plain": [
       "           idstr             created      parent submission  \\\n",
       "4755  t1_e57ddqc 2018-09-01 09:40:47  t1_e55e71k  t3_9bmgmx   \n",
       "4756  t1_e57gijd 2018-09-01 11:34:08   t3_9c2dxp  t3_9c2dxp   \n",
       "4757  t1_e57ih7p 2018-09-01 12:28:47   t3_9c2dxp  t3_9c2dxp   \n",
       "4758  t1_e57khfz 2018-09-01 13:13:55   t3_9c2dxp  t3_9c2dxp   \n",
       "4759  t1_e57kio1 2018-09-01 13:14:36   t3_9c2dxp  t3_9c2dxp   \n",
       "\n",
       "                                                   body  score  \n",
       "4755  this is maybe true but I'll still take a smell...    1.0  \n",
       "4756  It's not a big deal, just be respectful about ...   56.0  \n",
       "4757  They also record 280 lectures online so you ca...   17.0  \n",
       "4758  No, the principal will find out and put it on ...   90.0  \n",
       "4759  May also want to let your prof know that you w...   12.0  "
      ]
     },
     "execution_count": 13,
     "metadata": {},
     "output_type": "execute_result"
    }
   ],
   "source": [
    "comment_df.head()"
   ]
  },
  {
   "cell_type": "markdown",
   "id": "3b5dbc21",
   "metadata": {},
   "source": [
    "## Final Checks"
   ]
  },
  {
   "cell_type": "code",
   "execution_count": 14,
   "id": "bd6604fa",
   "metadata": {},
   "outputs": [
    {
     "name": "stdout",
     "output_type": "stream",
     "text": [
      "<class 'pandas.core.frame.DataFrame'>\n",
      "RangeIndex: 21327 entries, 0 to 21326\n",
      "Data columns (total 6 columns):\n",
      " #   Column               Non-Null Count  Dtype         \n",
      "---  ------               --------------  -----         \n",
      " 0   idstr                21327 non-null  object        \n",
      " 1   created              21327 non-null  datetime64[ns]\n",
      " 2   title                21327 non-null  object        \n",
      " 3   selftext             21327 non-null  object        \n",
      " 4   score                21327 non-null  int64         \n",
      " 5   title_text_combined  21327 non-null  object        \n",
      "dtypes: datetime64[ns](1), int64(1), object(4)\n",
      "memory usage: 999.8+ KB\n"
     ]
    }
   ],
   "source": [
    "post_df.info()"
   ]
  },
  {
   "cell_type": "code",
   "execution_count": 15,
   "id": "268accd3",
   "metadata": {},
   "outputs": [
    {
     "name": "stdout",
     "output_type": "stream",
     "text": [
      "<class 'pandas.core.frame.DataFrame'>\n",
      "Int64Index: 239422 entries, 4755 to 244177\n",
      "Data columns (total 6 columns):\n",
      " #   Column      Non-Null Count   Dtype         \n",
      "---  ------      --------------   -----         \n",
      " 0   idstr       239422 non-null  object        \n",
      " 1   created     239422 non-null  datetime64[ns]\n",
      " 2   parent      239422 non-null  object        \n",
      " 3   submission  239422 non-null  object        \n",
      " 4   body        239422 non-null  object        \n",
      " 5   score       239421 non-null  float64       \n",
      "dtypes: datetime64[ns](1), float64(1), object(4)\n",
      "memory usage: 12.8+ MB\n"
     ]
    }
   ],
   "source": [
    "comment_df.info()"
   ]
  },
  {
   "cell_type": "markdown",
   "id": "59343f7c",
   "metadata": {},
   "source": [
    "#### Comments with no matching submission in the submission table"
   ]
  },
  {
   "cell_type": "code",
   "execution_count": 16,
   "id": "236921d6",
   "metadata": {},
   "outputs": [
    {
     "data": {
      "text/plain": [
       "True     130277\n",
       "False    109145\n",
       "Name: submission, dtype: int64"
      ]
     },
     "execution_count": 16,
     "metadata": {},
     "output_type": "execute_result"
    }
   ],
   "source": [
    "comment_df.submission.isin(post_df.idstr).value_counts()"
   ]
  },
  {
   "cell_type": "code",
   "execution_count": 17,
   "id": "68cfce60",
   "metadata": {},
   "outputs": [
    {
     "data": {
      "text/html": [
       "<div>\n",
       "<style scoped>\n",
       "    .dataframe tbody tr th:only-of-type {\n",
       "        vertical-align: middle;\n",
       "    }\n",
       "\n",
       "    .dataframe tbody tr th {\n",
       "        vertical-align: top;\n",
       "    }\n",
       "\n",
       "    .dataframe thead th {\n",
       "        text-align: right;\n",
       "    }\n",
       "</style>\n",
       "<table border=\"1\" class=\"dataframe\">\n",
       "  <thead>\n",
       "    <tr style=\"text-align: right;\">\n",
       "      <th></th>\n",
       "      <th>idstr</th>\n",
       "      <th>created</th>\n",
       "      <th>parent</th>\n",
       "      <th>submission</th>\n",
       "      <th>body</th>\n",
       "      <th>score</th>\n",
       "    </tr>\n",
       "  </thead>\n",
       "  <tbody>\n",
       "    <tr>\n",
       "      <th>244162</th>\n",
       "      <td>t1_jdsu9d5</td>\n",
       "      <td>2023-03-26 22:37:00</td>\n",
       "      <td>t1_jdofwyk</td>\n",
       "      <td>t3_121hldu</td>\n",
       "      <td>what's that lol?</td>\n",
       "      <td>1.0</td>\n",
       "    </tr>\n",
       "    <tr>\n",
       "      <th>244161</th>\n",
       "      <td>t1_jdsu6fq</td>\n",
       "      <td>2023-03-26 22:36:24</td>\n",
       "      <td>t1_jds1cwy</td>\n",
       "      <td>t3_121hldu</td>\n",
       "      <td>what's that? Tried looking it up but couldn't ...</td>\n",
       "      <td>1.0</td>\n",
       "    </tr>\n",
       "    <tr>\n",
       "      <th>244136</th>\n",
       "      <td>t1_jds6dsq</td>\n",
       "      <td>2023-03-26 19:45:20</td>\n",
       "      <td>t1_jdq13h3</td>\n",
       "      <td>t3_122ca64</td>\n",
       "      <td>You'd be surprised how much extra funding you ...</td>\n",
       "      <td>1.0</td>\n",
       "    </tr>\n",
       "    <tr>\n",
       "      <th>244133</th>\n",
       "      <td>t1_jds34un</td>\n",
       "      <td>2023-03-26 19:22:34</td>\n",
       "      <td>t3_122ca64</td>\n",
       "      <td>t3_122ca64</td>\n",
       "      <td>Your odds may be better applying for small sch...</td>\n",
       "      <td>1.0</td>\n",
       "    </tr>\n",
       "    <tr>\n",
       "      <th>244082</th>\n",
       "      <td>t1_jdrb6v8</td>\n",
       "      <td>2023-03-26 16:04:51</td>\n",
       "      <td>t3_x0rlho</td>\n",
       "      <td>t3_x0rlho</td>\n",
       "      <td>I am looking for 2 tickets for the CoE graduat...</td>\n",
       "      <td>1.0</td>\n",
       "    </tr>\n",
       "  </tbody>\n",
       "</table>\n",
       "</div>"
      ],
      "text/plain": [
       "             idstr             created      parent  submission  \\\n",
       "244162  t1_jdsu9d5 2023-03-26 22:37:00  t1_jdofwyk  t3_121hldu   \n",
       "244161  t1_jdsu6fq 2023-03-26 22:36:24  t1_jds1cwy  t3_121hldu   \n",
       "244136  t1_jds6dsq 2023-03-26 19:45:20  t1_jdq13h3  t3_122ca64   \n",
       "244133  t1_jds34un 2023-03-26 19:22:34  t3_122ca64  t3_122ca64   \n",
       "244082  t1_jdrb6v8 2023-03-26 16:04:51   t3_x0rlho   t3_x0rlho   \n",
       "\n",
       "                                                     body  score  \n",
       "244162                                   what's that lol?    1.0  \n",
       "244161  what's that? Tried looking it up but couldn't ...    1.0  \n",
       "244136  You'd be surprised how much extra funding you ...    1.0  \n",
       "244133  Your odds may be better applying for small sch...    1.0  \n",
       "244082  I am looking for 2 tickets for the CoE graduat...    1.0  "
      ]
     },
     "execution_count": 17,
     "metadata": {},
     "output_type": "execute_result"
    }
   ],
   "source": [
    "# Take a look at entries at 244136 and 244133: those are actual comments under \"How to ask for a (small amount) scholarship...\"\n",
    "# 244162 and 244161 are simply not found on reddit\n",
    "stray_comment_df = comment_df[~comment_df.submission.isin(post_df.idstr)]\n",
    "stray_comment_df.sort_values(by='created', ascending=False).head(5)"
   ]
  },
  {
   "cell_type": "code",
   "execution_count": 18,
   "id": "ae483696",
   "metadata": {},
   "outputs": [
    {
     "data": {
      "text/html": [
       "<div>\n",
       "<style scoped>\n",
       "    .dataframe tbody tr th:only-of-type {\n",
       "        vertical-align: middle;\n",
       "    }\n",
       "\n",
       "    .dataframe tbody tr th {\n",
       "        vertical-align: top;\n",
       "    }\n",
       "\n",
       "    .dataframe thead th {\n",
       "        text-align: right;\n",
       "    }\n",
       "</style>\n",
       "<table border=\"1\" class=\"dataframe\">\n",
       "  <thead>\n",
       "    <tr style=\"text-align: right;\">\n",
       "      <th></th>\n",
       "      <th>idstr</th>\n",
       "      <th>created</th>\n",
       "      <th>parent</th>\n",
       "      <th>submission</th>\n",
       "      <th>body</th>\n",
       "      <th>score</th>\n",
       "    </tr>\n",
       "  </thead>\n",
       "  <tbody>\n",
       "    <tr>\n",
       "      <th>244055</th>\n",
       "      <td>t1_jdq13h3</td>\n",
       "      <td>2023-03-26 08:04:51</td>\n",
       "      <td>t3_122ca64</td>\n",
       "      <td>t3_122ca64</td>\n",
       "      <td>Lol what. Everyone wants a scholarship dude. T...</td>\n",
       "      <td>22.0</td>\n",
       "    </tr>\n",
       "    <tr>\n",
       "      <th>244059</th>\n",
       "      <td>t1_jdqg1u9</td>\n",
       "      <td>2023-03-26 11:38:13</td>\n",
       "      <td>t3_122ca64</td>\n",
       "      <td>t3_122ca64</td>\n",
       "      <td>I wouldn't say this has 0% chance of working b...</td>\n",
       "      <td>20.0</td>\n",
       "    </tr>\n",
       "    <tr>\n",
       "      <th>244061</th>\n",
       "      <td>t1_jdqjc5l</td>\n",
       "      <td>2023-03-26 12:15:41</td>\n",
       "      <td>t3_122ca64</td>\n",
       "      <td>t3_122ca64</td>\n",
       "      <td>You can ask but I wouldn't use this reason as ...</td>\n",
       "      <td>3.0</td>\n",
       "    </tr>\n",
       "    <tr>\n",
       "      <th>244066</th>\n",
       "      <td>t1_jdqsfek</td>\n",
       "      <td>2023-03-26 13:42:22</td>\n",
       "      <td>t3_122ca64</td>\n",
       "      <td>t3_122ca64</td>\n",
       "      <td>I tried something similar, I asked if any of m...</td>\n",
       "      <td>3.0</td>\n",
       "    </tr>\n",
       "    <tr>\n",
       "      <th>244069</th>\n",
       "      <td>t1_jdqtxnh</td>\n",
       "      <td>2023-03-26 13:55:01</td>\n",
       "      <td>t3_122ca64</td>\n",
       "      <td>t3_122ca64</td>\n",
       "      <td>Sadly not gonna happen. Depending on the lengt...</td>\n",
       "      <td>2.0</td>\n",
       "    </tr>\n",
       "    <tr>\n",
       "      <th>244133</th>\n",
       "      <td>t1_jds34un</td>\n",
       "      <td>2023-03-26 19:22:34</td>\n",
       "      <td>t3_122ca64</td>\n",
       "      <td>t3_122ca64</td>\n",
       "      <td>Your odds may be better applying for small sch...</td>\n",
       "      <td>1.0</td>\n",
       "    </tr>\n",
       "    <tr>\n",
       "      <th>244136</th>\n",
       "      <td>t1_jds6dsq</td>\n",
       "      <td>2023-03-26 19:45:20</td>\n",
       "      <td>t1_jdq13h3</td>\n",
       "      <td>t3_122ca64</td>\n",
       "      <td>You'd be surprised how much extra funding you ...</td>\n",
       "      <td>1.0</td>\n",
       "    </tr>\n",
       "  </tbody>\n",
       "</table>\n",
       "</div>"
      ],
      "text/plain": [
       "             idstr             created      parent  submission  \\\n",
       "244055  t1_jdq13h3 2023-03-26 08:04:51  t3_122ca64  t3_122ca64   \n",
       "244059  t1_jdqg1u9 2023-03-26 11:38:13  t3_122ca64  t3_122ca64   \n",
       "244061  t1_jdqjc5l 2023-03-26 12:15:41  t3_122ca64  t3_122ca64   \n",
       "244066  t1_jdqsfek 2023-03-26 13:42:22  t3_122ca64  t3_122ca64   \n",
       "244069  t1_jdqtxnh 2023-03-26 13:55:01  t3_122ca64  t3_122ca64   \n",
       "244133  t1_jds34un 2023-03-26 19:22:34  t3_122ca64  t3_122ca64   \n",
       "244136  t1_jds6dsq 2023-03-26 19:45:20  t1_jdq13h3  t3_122ca64   \n",
       "\n",
       "                                                     body  score  \n",
       "244055  Lol what. Everyone wants a scholarship dude. T...   22.0  \n",
       "244059  I wouldn't say this has 0% chance of working b...   20.0  \n",
       "244061  You can ask but I wouldn't use this reason as ...    3.0  \n",
       "244066  I tried something similar, I asked if any of m...    3.0  \n",
       "244069  Sadly not gonna happen. Depending on the lengt...    2.0  \n",
       "244133  Your odds may be better applying for small sch...    1.0  \n",
       "244136  You'd be surprised how much extra funding you ...    1.0  "
      ]
     },
     "execution_count": 18,
     "metadata": {},
     "output_type": "execute_result"
    }
   ],
   "source": [
    "# Other comments under the same post are not matched either\n",
    "stray_comment_df[stray_comment_df.submission == 't3_122ca64']"
   ]
  },
  {
   "cell_type": "code",
   "execution_count": 19,
   "id": "7effec77",
   "metadata": {},
   "outputs": [
    {
     "data": {
      "text/html": [
       "<div>\n",
       "<style scoped>\n",
       "    .dataframe tbody tr th:only-of-type {\n",
       "        vertical-align: middle;\n",
       "    }\n",
       "\n",
       "    .dataframe tbody tr th {\n",
       "        vertical-align: top;\n",
       "    }\n",
       "\n",
       "    .dataframe thead th {\n",
       "        text-align: right;\n",
       "    }\n",
       "</style>\n",
       "<table border=\"1\" class=\"dataframe\">\n",
       "  <thead>\n",
       "    <tr style=\"text-align: right;\">\n",
       "      <th></th>\n",
       "      <th>idstr</th>\n",
       "      <th>created</th>\n",
       "      <th>title</th>\n",
       "      <th>selftext</th>\n",
       "      <th>score</th>\n",
       "      <th>title_text_combined</th>\n",
       "    </tr>\n",
       "  </thead>\n",
       "  <tbody>\n",
       "  </tbody>\n",
       "</table>\n",
       "</div>"
      ],
      "text/plain": [
       "Empty DataFrame\n",
       "Columns: [idstr, created, title, selftext, score, title_text_combined]\n",
       "Index: []"
      ]
     },
     "execution_count": 19,
     "metadata": {},
     "output_type": "execute_result"
    }
   ],
   "source": [
    "# The original post has not been scraped by the scraper\n",
    "post_df[post_df.title.str.contains('scholarship for a')]"
   ]
  },
  {
   "cell_type": "markdown",
   "id": "65aa2abe",
   "metadata": {},
   "source": [
    "#### Option 1: Proceed with comments that can be matched to its submission for analysis\n",
    "#### **Option 2: Use all comments as usual and only take advantage of the structure when it is available"
   ]
  },
  {
   "cell_type": "code",
   "execution_count": 20,
   "id": "9367d96c",
   "metadata": {},
   "outputs": [],
   "source": [
    "not_stray_comment_df = comment_df[comment_df.submission.isin(post_df.idstr)].copy()"
   ]
  },
  {
   "cell_type": "code",
   "execution_count": 21,
   "id": "93cf67cb",
   "metadata": {},
   "outputs": [
    {
     "data": {
      "text/plain": [
       "True"
      ]
     },
     "execution_count": 21,
     "metadata": {},
     "output_type": "execute_result"
    }
   ],
   "source": [
    "not_stray_comment_df.idstr.nunique() == len(not_stray_comment_df)"
   ]
  },
  {
   "cell_type": "code",
   "execution_count": 22,
   "id": "e5dc1b5c",
   "metadata": {},
   "outputs": [
    {
     "data": {
      "text/plain": [
       "True"
      ]
     },
     "execution_count": 22,
     "metadata": {},
     "output_type": "execute_result"
    }
   ],
   "source": [
    "post_df.idstr.nunique() == len(post_df)"
   ]
  },
  {
   "cell_type": "markdown",
   "id": "64f8cb30",
   "metadata": {},
   "source": [
    "#### Export"
   ]
  },
  {
   "cell_type": "code",
   "execution_count": 26,
   "id": "16e2766a",
   "metadata": {},
   "outputs": [],
   "source": [
    "post_df.to_csv('posts.csv', index=False)\n",
    "comment_df.to_csv('comments.csv', index=False)"
   ]
  },
  {
   "cell_type": "code",
   "execution_count": null,
   "id": "e6134524",
   "metadata": {},
   "outputs": [],
   "source": []
  }
 ],
 "metadata": {
  "kernelspec": {
   "display_name": "Python 3 (ipykernel)",
   "language": "python",
   "name": "python3"
  },
  "language_info": {
   "codemirror_mode": {
    "name": "ipython",
    "version": 3
   },
   "file_extension": ".py",
   "mimetype": "text/x-python",
   "name": "python",
   "nbconvert_exporter": "python",
   "pygments_lexer": "ipython3",
   "version": "3.10.10"
  },
  "vscode": {
   "interpreter": {
    "hash": "c0131f037897c358a9a268dfd2e11505808df673ecd6e283ac185a0b749caaaf"
   }
  }
 },
 "nbformat": 4,
 "nbformat_minor": 5
}

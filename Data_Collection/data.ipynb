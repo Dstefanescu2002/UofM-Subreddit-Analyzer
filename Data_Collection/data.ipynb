{
 "cells": [
  {
   "cell_type": "code",
   "execution_count": 57,
   "id": "661fbefe",
   "metadata": {},
   "outputs": [],
   "source": [
    "import pandas as pd\n",
    "import numpy as np\n",
    "import sqlite3\n",
    "import seaborn as sns"
   ]
  },
  {
   "cell_type": "code",
   "execution_count": 58,
   "id": "91d25270",
   "metadata": {},
   "outputs": [
    {
     "name": "stdout",
     "output_type": "stream",
     "text": [
      "[('version',), ('reddit_object_list',), ('reddit_object',), ('download_session',), ('reddit_object_list_association',), ('user',), ('subreddit',), ('download_task',), ('post',), ('comment',), ('content',), ('alembic_version',)]\n"
     ]
    }
   ],
   "source": [
    "con = sqlite3.connect('dfr.db')\n",
    "cur = con.cursor()\n",
    "\n",
    "# Reading table names\n",
    "table_list = [a for a in cur.execute(\"SELECT name FROM sqlite_master WHERE type = 'table'\")]\n",
    "print(table_list)\n",
    "\n",
    "# Get tables into dataframes\n",
    "post_df = pd.read_sql_query('SELECT * FROM post', con)\n",
    "comment_df = pd.read_sql_query('SELECT * FROM comment', con)\n",
    "\n",
    "con.close()"
   ]
  },
  {
   "cell_type": "code",
   "execution_count": 59,
   "id": "585054fd",
   "metadata": {},
   "outputs": [
    {
     "data": {
      "text/plain": [
       "Index(['id', 'title', 'date_posted', 'domain', 'score', 'nsfw', 'reddit_id',\n",
       "       'url', 'is_self', 'text', 'text_html', 'extracted', 'extraction_date',\n",
       "       'extraction_error', 'error_message', 'retry_attempts', 'author_id',\n",
       "       'subreddit_id', 'significant_reddit_object_id', 'download_session_id'],\n",
       "      dtype='object')"
      ]
     },
     "execution_count": 59,
     "metadata": {},
     "output_type": "execute_result"
    }
   ],
   "source": [
    "post_df.columns"
   ]
  },
  {
   "cell_type": "code",
   "execution_count": 60,
   "id": "2ebcd224",
   "metadata": {},
   "outputs": [
    {
     "data": {
      "text/plain": [
       "EECS 496                                                   3\n",
       "Summer Sublease                                            2\n",
       "LING 111                                                   2\n",
       "U-M Uniqname & Account…without decision?                   1\n",
       "LSA Internship Scholarship Availability?                   1\n",
       "                                                          ..\n",
       "How much time a day do you guys study?                     1\n",
       "co-op security features                                    1\n",
       "thinking about transferring but idk if i’m overreacting    1\n",
       "Ah yes EECS Piazza Literature                              1\n",
       "Boring campus                                              1\n",
       "Name: title, Length: 1508, dtype: int64"
      ]
     },
     "execution_count": 60,
     "metadata": {},
     "output_type": "execute_result"
    }
   ],
   "source": [
    "# Checks out to be unique\n",
    "post_df.title.value_counts()"
   ]
  },
  {
   "cell_type": "markdown",
   "id": "a74cd501",
   "metadata": {},
   "source": [
    "# Basic Modifications"
   ]
  },
  {
   "cell_type": "markdown",
   "id": "b618f623",
   "metadata": {},
   "source": [
    "### * Remove irrelevant columns"
   ]
  },
  {
   "cell_type": "code",
   "execution_count": 61,
   "id": "26fb0834",
   "metadata": {},
   "outputs": [],
   "source": [
    "post_df = post_df.drop(\n",
    "    columns=['url',\n",
    "             'score',\n",
    "             'nsfw',\n",
    "             'is_self',\n",
    "             'domain',\n",
    "             'reddit_id',\n",
    "             'text_html',\n",
    "             'extracted',\n",
    "             'extraction_date',\n",
    "             'extraction_error',\n",
    "             'error_message',\n",
    "             'retry_attempts',\n",
    "             'subreddit_id',\n",
    "             'significant_reddit_object_id',\n",
    "             'download_session_id']\n",
    ")\n",
    "\n",
    "comment_df = comment_df.drop(\n",
    "    columns=['body_html',\n",
    "             'score',\n",
    "             'date_added',\n",
    "             'reddit_id',\n",
    "             'extracted',\n",
    "             'extraction_date',\n",
    "             'has_content',\n",
    "             'extraction_error',\n",
    "             'error_message',\n",
    "             'retry_attempts',\n",
    "             'subreddit_id',\n",
    "             'download_session_id'\n",
    "             ]\n",
    ")"
   ]
  },
  {
   "cell_type": "markdown",
   "id": "1f9ac174",
   "metadata": {},
   "source": [
    "### * Convert date time to timestamp format"
   ]
  },
  {
   "cell_type": "code",
   "execution_count": 62,
   "id": "5494e962",
   "metadata": {},
   "outputs": [],
   "source": [
    "post_df.date_posted = post_df.date_posted.apply(lambda x: pd.to_datetime(x[:10]))\n",
    "comment_df.date_posted = comment_df.date_posted.apply(lambda x: pd.to_datetime(x[:10]))"
   ]
  },
  {
   "cell_type": "code",
   "execution_count": 63,
   "id": "f3b7e70c",
   "metadata": {},
   "outputs": [
    {
     "name": "stdout",
     "output_type": "stream",
     "text": [
      "2022-12-23 00:00:00\n",
      "2023-03-05 00:00:00\n"
     ]
    }
   ],
   "source": [
    "print(post_df.date_posted.min())\n",
    "print(post_df.date_posted.max())"
   ]
  },
  {
   "cell_type": "code",
   "execution_count": 64,
   "id": "bc81563f",
   "metadata": {},
   "outputs": [
    {
     "name": "stdout",
     "output_type": "stream",
     "text": [
      "2022-12-23 00:00:00\n",
      "2023-03-05 00:00:00\n"
     ]
    }
   ],
   "source": [
    "print(comment_df.date_posted.min())\n",
    "print(comment_df.date_posted.max())"
   ]
  },
  {
   "cell_type": "code",
   "execution_count": 65,
   "id": "44cce1ba",
   "metadata": {},
   "outputs": [],
   "source": [
    "post_counts = post_df.set_index('date_posted').resample('1W').title.count()"
   ]
  },
  {
   "cell_type": "code",
   "execution_count": 66,
   "id": "490cdacc",
   "metadata": {},
   "outputs": [
    {
     "data": {
      "text/plain": [
       "date_posted\n",
       "2022-12-25     34\n",
       "2023-01-01    114\n",
       "2023-01-08    202\n",
       "2023-01-15    164\n",
       "2023-01-22    136\n",
       "2023-01-29    167\n",
       "2023-02-05    173\n",
       "2023-02-12    140\n",
       "2023-02-19    144\n",
       "2023-02-26    139\n",
       "2023-03-05     99\n",
       "Freq: W-SUN, Name: title, dtype: int64"
      ]
     },
     "execution_count": 66,
     "metadata": {},
     "output_type": "execute_result"
    }
   ],
   "source": [
    "# The number of posts collected each week\n",
    "post_counts"
   ]
  },
  {
   "cell_type": "code",
   "execution_count": 67,
   "id": "7c94a8f1",
   "metadata": {},
   "outputs": [],
   "source": [
    "comment_counts = comment_df.set_index('date_posted').resample('1W').body.count()"
   ]
  },
  {
   "cell_type": "code",
   "execution_count": 68,
   "id": "2575bb58",
   "metadata": {},
   "outputs": [
    {
     "data": {
      "text/plain": [
       "date_posted\n",
       "2022-12-25     302\n",
       "2023-01-01     943\n",
       "2023-01-08    1021\n",
       "2023-01-15    1205\n",
       "2023-01-22    1287\n",
       "2023-01-29    1500\n",
       "2023-02-05    1615\n",
       "2023-02-12    1394\n",
       "2023-02-19    1463\n",
       "2023-02-26    1410\n",
       "2023-03-05    1047\n",
       "Freq: W-SUN, Name: body, dtype: int64"
      ]
     },
     "execution_count": 68,
     "metadata": {},
     "output_type": "execute_result"
    }
   ],
   "source": [
    "# The number of comments collected each week\n",
    "comment_counts"
   ]
  },
  {
   "cell_type": "markdown",
   "id": "4b41fb20",
   "metadata": {},
   "source": [
    "### Posts have two text fields, 'title' and 'text', combine them"
   ]
  },
  {
   "cell_type": "code",
   "execution_count": 69,
   "id": "e711ab7f",
   "metadata": {},
   "outputs": [],
   "source": [
    "# Putting a period in between. \n",
    "# Assuming that having an extra punctuation (e.g. '?.') is less harmful than missing a punctuation.\n",
    "post_df['title_text_combined'] = post_df[['title','text']].apply(lambda x : '{}. {}'.format(x[0],x[1]), axis=1)"
   ]
  },
  {
   "cell_type": "markdown",
   "id": "467e501e",
   "metadata": {},
   "source": [
    "### New columns for sentiment_label and entities"
   ]
  },
  {
   "cell_type": "code",
   "execution_count": 70,
   "id": "b8d316bd",
   "metadata": {},
   "outputs": [],
   "source": [
    "post_df = post_df.reindex(columns = post_df.columns.tolist() + ['sentiment_labels','entities'])\n",
    "comment_df = comment_df.reindex(columns = comment_df.columns.tolist() + ['sentiment_labels','entities'])"
   ]
  },
  {
   "cell_type": "code",
   "execution_count": 71,
   "id": "842388e6",
   "metadata": {},
   "outputs": [
    {
     "data": {
      "text/html": [
       "<div>\n",
       "<style scoped>\n",
       "    .dataframe tbody tr th:only-of-type {\n",
       "        vertical-align: middle;\n",
       "    }\n",
       "\n",
       "    .dataframe tbody tr th {\n",
       "        vertical-align: top;\n",
       "    }\n",
       "\n",
       "    .dataframe thead th {\n",
       "        text-align: right;\n",
       "    }\n",
       "</style>\n",
       "<table border=\"1\" class=\"dataframe\">\n",
       "  <thead>\n",
       "    <tr style=\"text-align: right;\">\n",
       "      <th></th>\n",
       "      <th>id</th>\n",
       "      <th>title</th>\n",
       "      <th>date_posted</th>\n",
       "      <th>text</th>\n",
       "      <th>author_id</th>\n",
       "      <th>title_text_combined</th>\n",
       "      <th>sentiment_labels</th>\n",
       "      <th>entities</th>\n",
       "    </tr>\n",
       "  </thead>\n",
       "  <tbody>\n",
       "    <tr>\n",
       "      <th>0</th>\n",
       "      <td>1000</td>\n",
       "      <td>W23 Math Advice (Math 465, 451, 472)</td>\n",
       "      <td>2022-12-24</td>\n",
       "      <td>Hello! I will be taking a bunch of math + CS c...</td>\n",
       "      <td>96</td>\n",
       "      <td>W23 Math Advice (Math 465, 451, 472). Hello! I...</td>\n",
       "      <td>NaN</td>\n",
       "      <td>NaN</td>\n",
       "    </tr>\n",
       "    <tr>\n",
       "      <th>1</th>\n",
       "      <td>1001</td>\n",
       "      <td>EECS 370, 270 and 281/301</td>\n",
       "      <td>2022-12-23</td>\n",
       "      <td>I'm EE thinking of doing embedded systems. I'm...</td>\n",
       "      <td>2389</td>\n",
       "      <td>EECS 370, 270 and 281/301. I'm EE thinking of ...</td>\n",
       "      <td>NaN</td>\n",
       "      <td>NaN</td>\n",
       "    </tr>\n",
       "    <tr>\n",
       "      <th>2</th>\n",
       "      <td>1002</td>\n",
       "      <td>How important is physics 140 for 240?</td>\n",
       "      <td>2022-12-23</td>\n",
       "      <td>It's been a while since I touched physics 140 ...</td>\n",
       "      <td>592</td>\n",
       "      <td>How important is physics 140 for 240?. It's be...</td>\n",
       "      <td>NaN</td>\n",
       "      <td>NaN</td>\n",
       "    </tr>\n",
       "    <tr>\n",
       "      <th>3</th>\n",
       "      <td>1003</td>\n",
       "      <td>Classic Post-Exam EECS Piazza Moment</td>\n",
       "      <td>2022-12-23</td>\n",
       "      <td>None</td>\n",
       "      <td>2399</td>\n",
       "      <td>Classic Post-Exam EECS Piazza Moment. None</td>\n",
       "      <td>NaN</td>\n",
       "      <td>NaN</td>\n",
       "    </tr>\n",
       "    <tr>\n",
       "      <th>4</th>\n",
       "      <td>1004</td>\n",
       "      <td>got my first C</td>\n",
       "      <td>2022-12-23</td>\n",
       "      <td>we just got EECS 281 grades back and i just go...</td>\n",
       "      <td>2400</td>\n",
       "      <td>got my first C. we just got EECS 281 grades ba...</td>\n",
       "      <td>NaN</td>\n",
       "      <td>NaN</td>\n",
       "    </tr>\n",
       "    <tr>\n",
       "      <th>...</th>\n",
       "      <td>...</td>\n",
       "      <td>...</td>\n",
       "      <td>...</td>\n",
       "      <td>...</td>\n",
       "      <td>...</td>\n",
       "      <td>...</td>\n",
       "      <td>...</td>\n",
       "      <td>...</td>\n",
       "    </tr>\n",
       "    <tr>\n",
       "      <th>1507</th>\n",
       "      <td>2507</td>\n",
       "      <td>Switch Major School of Kinesiology</td>\n",
       "      <td>2023-02-06</td>\n",
       "      <td>I am currently a kines student. Am I allowed t...</td>\n",
       "      <td>3416</td>\n",
       "      <td>Switch Major School of Kinesiology. I am curre...</td>\n",
       "      <td>NaN</td>\n",
       "      <td>NaN</td>\n",
       "    </tr>\n",
       "    <tr>\n",
       "      <th>1508</th>\n",
       "      <td>2508</td>\n",
       "      <td>best spots to take a nap on central?</td>\n",
       "      <td>2023-02-06</td>\n",
       "      <td>i live on north campus so i stay on central fo...</td>\n",
       "      <td>3417</td>\n",
       "      <td>best spots to take a nap on central?. i live o...</td>\n",
       "      <td>NaN</td>\n",
       "      <td>NaN</td>\n",
       "    </tr>\n",
       "    <tr>\n",
       "      <th>1509</th>\n",
       "      <td>2509</td>\n",
       "      <td>Ross finance club rankings</td>\n",
       "      <td>2023-01-18</td>\n",
       "      <td>To those looking to navigate finance club recr...</td>\n",
       "      <td>3422</td>\n",
       "      <td>Ross finance club rankings. To those looking t...</td>\n",
       "      <td>NaN</td>\n",
       "      <td>NaN</td>\n",
       "    </tr>\n",
       "    <tr>\n",
       "      <th>1510</th>\n",
       "      <td>2510</td>\n",
       "      <td>Selling Airpods (2nd Gen)</td>\n",
       "      <td>2023-01-16</td>\n",
       "      <td>Brand new, box opened (bought for $136 at tech...</td>\n",
       "      <td>89</td>\n",
       "      <td>Selling Airpods (2nd Gen). Brand new, box open...</td>\n",
       "      <td>NaN</td>\n",
       "      <td>NaN</td>\n",
       "    </tr>\n",
       "    <tr>\n",
       "      <th>1511</th>\n",
       "      <td>2511</td>\n",
       "      <td>Boring campus</td>\n",
       "      <td>2023-01-16</td>\n",
       "      <td>Guys, has anyone felt boring since the fall ‘2...</td>\n",
       "      <td>3423</td>\n",
       "      <td>Boring campus. Guys, has anyone felt boring si...</td>\n",
       "      <td>NaN</td>\n",
       "      <td>NaN</td>\n",
       "    </tr>\n",
       "  </tbody>\n",
       "</table>\n",
       "<p>1512 rows × 8 columns</p>\n",
       "</div>"
      ],
      "text/plain": [
       "        id                                  title date_posted  \\\n",
       "0     1000   W23 Math Advice (Math 465, 451, 472)  2022-12-24   \n",
       "1     1001              EECS 370, 270 and 281/301  2022-12-23   \n",
       "2     1002  How important is physics 140 for 240?  2022-12-23   \n",
       "3     1003   Classic Post-Exam EECS Piazza Moment  2022-12-23   \n",
       "4     1004                         got my first C  2022-12-23   \n",
       "...    ...                                    ...         ...   \n",
       "1507  2507     Switch Major School of Kinesiology  2023-02-06   \n",
       "1508  2508   best spots to take a nap on central?  2023-02-06   \n",
       "1509  2509             Ross finance club rankings  2023-01-18   \n",
       "1510  2510              Selling Airpods (2nd Gen)  2023-01-16   \n",
       "1511  2511                          Boring campus  2023-01-16   \n",
       "\n",
       "                                                   text  author_id  \\\n",
       "0     Hello! I will be taking a bunch of math + CS c...         96   \n",
       "1     I'm EE thinking of doing embedded systems. I'm...       2389   \n",
       "2     It's been a while since I touched physics 140 ...        592   \n",
       "3                                                  None       2399   \n",
       "4     we just got EECS 281 grades back and i just go...       2400   \n",
       "...                                                 ...        ...   \n",
       "1507  I am currently a kines student. Am I allowed t...       3416   \n",
       "1508  i live on north campus so i stay on central fo...       3417   \n",
       "1509  To those looking to navigate finance club recr...       3422   \n",
       "1510  Brand new, box opened (bought for $136 at tech...         89   \n",
       "1511  Guys, has anyone felt boring since the fall ‘2...       3423   \n",
       "\n",
       "                                    title_text_combined  sentiment_labels  \\\n",
       "0     W23 Math Advice (Math 465, 451, 472). Hello! I...               NaN   \n",
       "1     EECS 370, 270 and 281/301. I'm EE thinking of ...               NaN   \n",
       "2     How important is physics 140 for 240?. It's be...               NaN   \n",
       "3            Classic Post-Exam EECS Piazza Moment. None               NaN   \n",
       "4     got my first C. we just got EECS 281 grades ba...               NaN   \n",
       "...                                                 ...               ...   \n",
       "1507  Switch Major School of Kinesiology. I am curre...               NaN   \n",
       "1508  best spots to take a nap on central?. i live o...               NaN   \n",
       "1509  Ross finance club rankings. To those looking t...               NaN   \n",
       "1510  Selling Airpods (2nd Gen). Brand new, box open...               NaN   \n",
       "1511  Boring campus. Guys, has anyone felt boring si...               NaN   \n",
       "\n",
       "      entities  \n",
       "0          NaN  \n",
       "1          NaN  \n",
       "2          NaN  \n",
       "3          NaN  \n",
       "4          NaN  \n",
       "...        ...  \n",
       "1507       NaN  \n",
       "1508       NaN  \n",
       "1509       NaN  \n",
       "1510       NaN  \n",
       "1511       NaN  \n",
       "\n",
       "[1512 rows x 8 columns]"
      ]
     },
     "execution_count": 71,
     "metadata": {},
     "output_type": "execute_result"
    }
   ],
   "source": [
    "post_df"
   ]
  },
  {
   "cell_type": "code",
   "execution_count": 72,
   "id": "97379b39",
   "metadata": {},
   "outputs": [
    {
     "data": {
      "text/html": [
       "<div>\n",
       "<style scoped>\n",
       "    .dataframe tbody tr th:only-of-type {\n",
       "        vertical-align: middle;\n",
       "    }\n",
       "\n",
       "    .dataframe tbody tr th {\n",
       "        vertical-align: top;\n",
       "    }\n",
       "\n",
       "    .dataframe thead th {\n",
       "        text-align: right;\n",
       "    }\n",
       "</style>\n",
       "<table border=\"1\" class=\"dataframe\">\n",
       "  <thead>\n",
       "    <tr style=\"text-align: right;\">\n",
       "      <th></th>\n",
       "      <th>id</th>\n",
       "      <th>body</th>\n",
       "      <th>date_posted</th>\n",
       "      <th>author_id</th>\n",
       "      <th>post_id</th>\n",
       "      <th>parent_id</th>\n",
       "      <th>sentiment_labels</th>\n",
       "      <th>entities</th>\n",
       "    </tr>\n",
       "  </thead>\n",
       "  <tbody>\n",
       "    <tr>\n",
       "      <th>0</th>\n",
       "      <td>1000</td>\n",
       "      <td>Because not everybody treats every day like it...</td>\n",
       "      <td>2023-01-23</td>\n",
       "      <td>91</td>\n",
       "      <td>161</td>\n",
       "      <td>NaN</td>\n",
       "      <td>NaN</td>\n",
       "      <td>NaN</td>\n",
       "    </tr>\n",
       "    <tr>\n",
       "      <th>1</th>\n",
       "      <td>1001</td>\n",
       "      <td>I mean Im “alternative” and I dress in colors ...</td>\n",
       "      <td>2023-01-23</td>\n",
       "      <td>492</td>\n",
       "      <td>161</td>\n",
       "      <td>NaN</td>\n",
       "      <td>NaN</td>\n",
       "      <td>NaN</td>\n",
       "    </tr>\n",
       "    <tr>\n",
       "      <th>2</th>\n",
       "      <td>1002</td>\n",
       "      <td>Because U-M is a machine for inducing depression</td>\n",
       "      <td>2023-01-23</td>\n",
       "      <td>330</td>\n",
       "      <td>161</td>\n",
       "      <td>NaN</td>\n",
       "      <td>NaN</td>\n",
       "      <td>NaN</td>\n",
       "    </tr>\n",
       "    <tr>\n",
       "      <th>3</th>\n",
       "      <td>1003</td>\n",
       "      <td>It’s a p all around color, it goes with p much...</td>\n",
       "      <td>2023-01-23</td>\n",
       "      <td>102</td>\n",
       "      <td>161</td>\n",
       "      <td>NaN</td>\n",
       "      <td>NaN</td>\n",
       "      <td>NaN</td>\n",
       "    </tr>\n",
       "    <tr>\n",
       "      <th>4</th>\n",
       "      <td>1004</td>\n",
       "      <td>Have you considered that everyone at Umich has...</td>\n",
       "      <td>2023-01-23</td>\n",
       "      <td>314</td>\n",
       "      <td>161</td>\n",
       "      <td>NaN</td>\n",
       "      <td>NaN</td>\n",
       "      <td>NaN</td>\n",
       "    </tr>\n",
       "    <tr>\n",
       "      <th>...</th>\n",
       "      <td>...</td>\n",
       "      <td>...</td>\n",
       "      <td>...</td>\n",
       "      <td>...</td>\n",
       "      <td>...</td>\n",
       "      <td>...</td>\n",
       "      <td>...</td>\n",
       "      <td>...</td>\n",
       "    </tr>\n",
       "    <tr>\n",
       "      <th>13182</th>\n",
       "      <td>17179</td>\n",
       "      <td>not this time of year you can't . unless you j...</td>\n",
       "      <td>2023-02-06</td>\n",
       "      <td>232</td>\n",
       "      <td>2508</td>\n",
       "      <td>17165.0</td>\n",
       "      <td>NaN</td>\n",
       "      <td>NaN</td>\n",
       "    </tr>\n",
       "    <tr>\n",
       "      <th>13183</th>\n",
       "      <td>17180</td>\n",
       "      <td>Grad Library had some very sleep-inducing carr...</td>\n",
       "      <td>2023-02-06</td>\n",
       "      <td>3421</td>\n",
       "      <td>2508</td>\n",
       "      <td>17166.0</td>\n",
       "      <td>NaN</td>\n",
       "      <td>NaN</td>\n",
       "    </tr>\n",
       "    <tr>\n",
       "      <th>13184</th>\n",
       "      <td>17181</td>\n",
       "      <td>do I get a talking cat too?</td>\n",
       "      <td>2023-02-06</td>\n",
       "      <td>765</td>\n",
       "      <td>2508</td>\n",
       "      <td>17171.0</td>\n",
       "      <td>NaN</td>\n",
       "      <td>NaN</td>\n",
       "    </tr>\n",
       "    <tr>\n",
       "      <th>13185</th>\n",
       "      <td>17182</td>\n",
       "      <td>I've seen them little shits under furniture an...</td>\n",
       "      <td>2023-02-10</td>\n",
       "      <td>2007</td>\n",
       "      <td>2508</td>\n",
       "      <td>17178.0</td>\n",
       "      <td>NaN</td>\n",
       "      <td>NaN</td>\n",
       "    </tr>\n",
       "    <tr>\n",
       "      <th>13186</th>\n",
       "      <td>17183</td>\n",
       "      <td>you don't own the cat\\n\\nthe cat owns you</td>\n",
       "      <td>2023-02-06</td>\n",
       "      <td>121</td>\n",
       "      <td>2508</td>\n",
       "      <td>17181.0</td>\n",
       "      <td>NaN</td>\n",
       "      <td>NaN</td>\n",
       "    </tr>\n",
       "  </tbody>\n",
       "</table>\n",
       "<p>13187 rows × 8 columns</p>\n",
       "</div>"
      ],
      "text/plain": [
       "          id                                               body date_posted  \\\n",
       "0       1000  Because not everybody treats every day like it...  2023-01-23   \n",
       "1       1001  I mean Im “alternative” and I dress in colors ...  2023-01-23   \n",
       "2       1002   Because U-M is a machine for inducing depression  2023-01-23   \n",
       "3       1003  It’s a p all around color, it goes with p much...  2023-01-23   \n",
       "4       1004  Have you considered that everyone at Umich has...  2023-01-23   \n",
       "...      ...                                                ...         ...   \n",
       "13182  17179  not this time of year you can't . unless you j...  2023-02-06   \n",
       "13183  17180  Grad Library had some very sleep-inducing carr...  2023-02-06   \n",
       "13184  17181                        do I get a talking cat too?  2023-02-06   \n",
       "13185  17182  I've seen them little shits under furniture an...  2023-02-10   \n",
       "13186  17183          you don't own the cat\\n\\nthe cat owns you  2023-02-06   \n",
       "\n",
       "       author_id  post_id  parent_id  sentiment_labels  entities  \n",
       "0             91      161        NaN               NaN       NaN  \n",
       "1            492      161        NaN               NaN       NaN  \n",
       "2            330      161        NaN               NaN       NaN  \n",
       "3            102      161        NaN               NaN       NaN  \n",
       "4            314      161        NaN               NaN       NaN  \n",
       "...          ...      ...        ...               ...       ...  \n",
       "13182        232     2508    17165.0               NaN       NaN  \n",
       "13183       3421     2508    17166.0               NaN       NaN  \n",
       "13184        765     2508    17171.0               NaN       NaN  \n",
       "13185       2007     2508    17178.0               NaN       NaN  \n",
       "13186        121     2508    17181.0               NaN       NaN  \n",
       "\n",
       "[13187 rows x 8 columns]"
      ]
     },
     "execution_count": 72,
     "metadata": {},
     "output_type": "execute_result"
    }
   ],
   "source": [
    "comment_df"
   ]
  },
  {
   "cell_type": "markdown",
   "id": "8984b34e",
   "metadata": {},
   "source": [
    "### parent_id needs to be integer to match the id column"
   ]
  },
  {
   "cell_type": "code",
   "execution_count": 73,
   "id": "c0501ab7",
   "metadata": {},
   "outputs": [],
   "source": [
    "comment_df.parent_id = comment_df.parent_id.fillna(-1).astype('int64')"
   ]
  },
  {
   "cell_type": "code",
   "execution_count": 74,
   "id": "25d24b1d",
   "metadata": {},
   "outputs": [
    {
     "name": "stdout",
     "output_type": "stream",
     "text": [
      "<class 'pandas.core.frame.DataFrame'>\n",
      "RangeIndex: 13187 entries, 0 to 13186\n",
      "Data columns (total 8 columns):\n",
      " #   Column            Non-Null Count  Dtype         \n",
      "---  ------            --------------  -----         \n",
      " 0   id                13187 non-null  int64         \n",
      " 1   body              13187 non-null  object        \n",
      " 2   date_posted       13187 non-null  datetime64[ns]\n",
      " 3   author_id         13187 non-null  int64         \n",
      " 4   post_id           13187 non-null  int64         \n",
      " 5   parent_id         13187 non-null  int64         \n",
      " 6   sentiment_labels  0 non-null      float64       \n",
      " 7   entities          0 non-null      float64       \n",
      "dtypes: datetime64[ns](1), float64(2), int64(4), object(1)\n",
      "memory usage: 824.3+ KB\n"
     ]
    }
   ],
   "source": [
    "comment_df.info()"
   ]
  },
  {
   "cell_type": "code",
   "execution_count": 75,
   "id": "8b8d5c2b",
   "metadata": {},
   "outputs": [
    {
     "name": "stdout",
     "output_type": "stream",
     "text": [
      "<class 'pandas.core.frame.DataFrame'>\n",
      "RangeIndex: 1512 entries, 0 to 1511\n",
      "Data columns (total 8 columns):\n",
      " #   Column               Non-Null Count  Dtype         \n",
      "---  ------               --------------  -----         \n",
      " 0   id                   1512 non-null   int64         \n",
      " 1   title                1512 non-null   object        \n",
      " 2   date_posted          1512 non-null   datetime64[ns]\n",
      " 3   text                 1253 non-null   object        \n",
      " 4   author_id            1512 non-null   int64         \n",
      " 5   title_text_combined  1512 non-null   object        \n",
      " 6   sentiment_labels     0 non-null      float64       \n",
      " 7   entities             0 non-null      float64       \n",
      "dtypes: datetime64[ns](1), float64(2), int64(2), object(3)\n",
      "memory usage: 94.6+ KB\n"
     ]
    }
   ],
   "source": [
    "post_df.info()"
   ]
  },
  {
   "cell_type": "code",
   "execution_count": 76,
   "id": "e9b400e7",
   "metadata": {},
   "outputs": [],
   "source": [
    "#post_df.to_csv('posts.csv', index=False)\n",
    "#comment_df.to_csv('comments.csv', index=False)"
   ]
  },
  {
   "cell_type": "markdown",
   "id": "437c06e4",
   "metadata": {},
   "source": [
    "### Samples for manual labeling"
   ]
  },
  {
   "cell_type": "code",
   "execution_count": 77,
   "id": "6e4f4068",
   "metadata": {},
   "outputs": [],
   "source": [
    "post_sample = post_df.sample(450)\n",
    "comment_sample = comment_df.sample(450)"
   ]
  },
  {
   "cell_type": "code",
   "execution_count": 78,
   "id": "7e514455",
   "metadata": {},
   "outputs": [],
   "source": [
    "subsamples = np.array_split(post_sample, 3)"
   ]
  },
  {
   "cell_type": "code",
   "execution_count": 79,
   "id": "5d3ac922",
   "metadata": {},
   "outputs": [
    {
     "data": {
      "text/plain": [
       "True"
      ]
     },
     "execution_count": 79,
     "metadata": {},
     "output_type": "execute_result"
    }
   ],
   "source": [
    "len(subsamples[0]) == len(subsamples[2]) "
   ]
  },
  {
   "cell_type": "code",
   "execution_count": 80,
   "id": "d9e6fc5b",
   "metadata": {},
   "outputs": [],
   "source": [
    "#subsamples[0].to_csv('charlie_manual.csv', index=False)\n",
    "#subsamples[1].to_csv('daniel_manual.csv', index=False)\n",
    "#subsamples[2].to_csv('dillan_manual.csv', index=False)"
   ]
  }
 ],
 "metadata": {
  "kernelspec": {
   "display_name": "base",
   "language": "python",
   "name": "python3"
  },
  "language_info": {
   "codemirror_mode": {
    "name": "ipython",
    "version": 3
   },
   "file_extension": ".py",
   "mimetype": "text/x-python",
   "name": "python",
   "nbconvert_exporter": "python",
   "pygments_lexer": "ipython3",
   "version": "3.10.6 | packaged by conda-forge | (main, Aug 22 2022, 20:41:22) [Clang 13.0.1 ]"
  },
  "vscode": {
   "interpreter": {
    "hash": "c0131f037897c358a9a268dfd2e11505808df673ecd6e283ac185a0b749caaaf"
   }
  }
 },
 "nbformat": 4,
 "nbformat_minor": 5
}

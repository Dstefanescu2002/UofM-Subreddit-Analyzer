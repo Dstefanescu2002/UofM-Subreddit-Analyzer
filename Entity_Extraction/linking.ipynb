{
 "cells": [
  {
   "cell_type": "code",
   "execution_count": 42,
   "metadata": {},
   "outputs": [
    {
     "name": "stdout",
     "output_type": "stream",
     "text": [
      "The autoreload extension is already loaded. To reload it, use:\n",
      "  %reload_ext autoreload\n"
     ]
    }
   ],
   "source": [
    "%load_ext autoreload\n",
    "%autoreload 2"
   ]
  },
  {
   "cell_type": "code",
   "execution_count": 43,
   "metadata": {},
   "outputs": [],
   "source": [
    "import os\n",
    "from tqdm import tqdm\n",
    "import pandas as pd\n",
    "from linking import link\n",
    "import json\n",
    "\n",
    "directory = \"..\\\\data_2018_2023\"\n",
    "\n",
    "posts = pd.read_csv(os.path.join(directory, \"posts.csv\"))\n",
    "comments = pd.read_csv(os.path.join(directory, \"comments.csv\"))\n",
    "\n",
    "\n",
    "\n"
   ]
  },
  {
   "cell_type": "code",
   "execution_count": 48,
   "metadata": {},
   "outputs": [
    {
     "name": "stdout",
     "output_type": "stream",
     "text": [
      "Posts with multiple entities:  707\n",
      "Total posts with entities:  3183\n",
      "Percent of posts with multiple entities:  22.211749921457745\n",
      "\n",
      "Posts with multiple entities:  3269\n",
      "Total posts with entities:  10377\n",
      "Percent of posts with multiple entities:  31.502360990652406\n",
      "\n"
     ]
    }
   ],
   "source": [
    "from entity_extraction import EntityExtractor\n",
    "entity_extractor = EntityExtractor()\n",
    "\n",
    "# get the first entity in each post/comment from the entity extractor\n",
    "posts[\"entity\"] = entity_extractor.batch_extract(posts[\"title_text_combined\"],first_only=True,stats_enabled=True)\n",
    "comments[\"entity\"] = entity_extractor.batch_extract(comments[\"body\"].astype(str),first_only=True,stats_enabled=True)"
   ]
  },
  {
   "cell_type": "code",
   "execution_count": 45,
   "metadata": {},
   "outputs": [
    {
     "data": {
      "text/html": [
       "<div>\n",
       "<style scoped>\n",
       "    .dataframe tbody tr th:only-of-type {\n",
       "        vertical-align: middle;\n",
       "    }\n",
       "\n",
       "    .dataframe tbody tr th {\n",
       "        vertical-align: top;\n",
       "    }\n",
       "\n",
       "    .dataframe thead th {\n",
       "        text-align: right;\n",
       "    }\n",
       "</style>\n",
       "<table border=\"1\" class=\"dataframe\">\n",
       "  <thead>\n",
       "    <tr style=\"text-align: right;\">\n",
       "      <th></th>\n",
       "      <th>idstr</th>\n",
       "      <th>created</th>\n",
       "      <th>parent</th>\n",
       "      <th>submission</th>\n",
       "      <th>body</th>\n",
       "      <th>score</th>\n",
       "      <th>entity</th>\n",
       "    </tr>\n",
       "  </thead>\n",
       "  <tbody>\n",
       "    <tr>\n",
       "      <th>0</th>\n",
       "      <td>t1_e57ddqc</td>\n",
       "      <td>2018-09-01 09:40:47</td>\n",
       "      <td>t1_e55e71k</td>\n",
       "      <td>t3_9bmgmx</td>\n",
       "      <td>this is maybe true but I'll still take a smell...</td>\n",
       "      <td>1.0</td>\n",
       "      <td>NONE</td>\n",
       "    </tr>\n",
       "    <tr>\n",
       "      <th>1</th>\n",
       "      <td>t1_e57gijd</td>\n",
       "      <td>2018-09-01 11:34:08</td>\n",
       "      <td>t3_9c2dxp</td>\n",
       "      <td>t3_9c2dxp</td>\n",
       "      <td>It's not a big deal, just be respectful about ...</td>\n",
       "      <td>56.0</td>\n",
       "      <td>NONE</td>\n",
       "    </tr>\n",
       "    <tr>\n",
       "      <th>2</th>\n",
       "      <td>t1_e57ih7p</td>\n",
       "      <td>2018-09-01 12:28:47</td>\n",
       "      <td>t3_9c2dxp</td>\n",
       "      <td>t3_9c2dxp</td>\n",
       "      <td>They also record 280 lectures online so you ca...</td>\n",
       "      <td>17.0</td>\n",
       "      <td>NONE</td>\n",
       "    </tr>\n",
       "    <tr>\n",
       "      <th>3</th>\n",
       "      <td>t1_e57khfz</td>\n",
       "      <td>2018-09-01 13:13:55</td>\n",
       "      <td>t3_9c2dxp</td>\n",
       "      <td>t3_9c2dxp</td>\n",
       "      <td>No, the principal will find out and put it on ...</td>\n",
       "      <td>90.0</td>\n",
       "      <td>NONE</td>\n",
       "    </tr>\n",
       "    <tr>\n",
       "      <th>4</th>\n",
       "      <td>t1_e57kio1</td>\n",
       "      <td>2018-09-01 13:14:36</td>\n",
       "      <td>t3_9c2dxp</td>\n",
       "      <td>t3_9c2dxp</td>\n",
       "      <td>May also want to let your prof know that you w...</td>\n",
       "      <td>12.0</td>\n",
       "      <td>NONE</td>\n",
       "    </tr>\n",
       "  </tbody>\n",
       "</table>\n",
       "</div>"
      ],
      "text/plain": [
       "        idstr              created      parent submission  \\\n",
       "0  t1_e57ddqc  2018-09-01 09:40:47  t1_e55e71k  t3_9bmgmx   \n",
       "1  t1_e57gijd  2018-09-01 11:34:08   t3_9c2dxp  t3_9c2dxp   \n",
       "2  t1_e57ih7p  2018-09-01 12:28:47   t3_9c2dxp  t3_9c2dxp   \n",
       "3  t1_e57khfz  2018-09-01 13:13:55   t3_9c2dxp  t3_9c2dxp   \n",
       "4  t1_e57kio1  2018-09-01 13:14:36   t3_9c2dxp  t3_9c2dxp   \n",
       "\n",
       "                                                body  score entity  \n",
       "0  this is maybe true but I'll still take a smell...    1.0   NONE  \n",
       "1  It's not a big deal, just be respectful about ...   56.0   NONE  \n",
       "2  They also record 280 lectures online so you ca...   17.0   NONE  \n",
       "3  No, the principal will find out and put it on ...   90.0   NONE  \n",
       "4  May also want to let your prof know that you w...   12.0   NONE  "
      ]
     },
     "execution_count": 45,
     "metadata": {},
     "output_type": "execute_result"
    }
   ],
   "source": [
    "\n",
    "post_ids = posts[[\"idstr\",\"entity\"]].values\n",
    "comment_ids = comments[[\"parent\",\"idstr\",\"entity\"]].values\n",
    "\n",
    "linking = link(post_ids,comment_ids) # create dictionary with comment structure\n",
    "json_file = open(\"linking.json\", \"w\")\n",
    "json.dump(linking, json_file, indent=4)\n",
    "\n",
    "comments[\"entity\"] = comment_ids[:,2] # replace entities with the linked entities\n",
    "comments.head()"
   ]
  }
 ],
 "metadata": {
  "kernelspec": {
   "display_name": "Python 3",
   "language": "python",
   "name": "python3"
  },
  "language_info": {
   "codemirror_mode": {
    "name": "ipython",
    "version": 3
   },
   "file_extension": ".py",
   "mimetype": "text/x-python",
   "name": "python",
   "nbconvert_exporter": "python",
   "pygments_lexer": "ipython3",
   "version": "3.9.13"
  },
  "orig_nbformat": 4
 },
 "nbformat": 4,
 "nbformat_minor": 2
}

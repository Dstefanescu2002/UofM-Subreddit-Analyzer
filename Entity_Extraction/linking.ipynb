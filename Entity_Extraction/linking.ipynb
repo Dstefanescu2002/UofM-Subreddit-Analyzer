{
 "cells": [
  {
   "cell_type": "code",
   "execution_count": 1,
   "metadata": {},
   "outputs": [],
   "source": [
    "%load_ext autoreload\n",
    "%autoreload 2"
   ]
  },
  {
   "cell_type": "code",
   "execution_count": 10,
   "metadata": {},
   "outputs": [],
   "source": [
    "import os\n",
    "from tqdm import tqdm\n",
    "import pandas as pd\n",
    "from linking import link\n",
    "import json\n",
    "\n",
    "directory = \"../Labeled_Sentiment/\"\n",
    "\n",
    "posts = pd.read_csv(os.path.join(directory, \"posts_with_sentiment.csv\"))\n",
    "comments = pd.read_csv(os.path.join(directory, \"comments_with_sentiment.csv\"))\n",
    "\n",
    "\n",
    "\n"
   ]
  },
  {
   "cell_type": "code",
   "execution_count": 17,
   "metadata": {},
   "outputs": [
    {
     "name": "stdout",
     "output_type": "stream",
     "text": [
      "Posts with multiple entities:  896\n",
      "Total posts with entities:  3376\n",
      "Percent of posts with multiple entities:  26.540284360189574\n",
      "\n",
      "Posts with multiple entities:  5589\n",
      "Total posts with entities:  15071\n",
      "Percent of posts with multiple entities:  37.08446685687745\n",
      "\n"
     ]
    }
   ],
   "source": [
    "from entity_extraction import EntityExtractor\n",
    "entity_extractor = EntityExtractor()\n",
    "\n",
    "# get the first entity in each post/comment from the entity extractor\n",
    "posts[\"entity\"] = entity_extractor.batch_extract(posts[\"body\"],first_only=True,stats_enabled=True)\n",
    "comments[\"entity\"] = entity_extractor.batch_extract(comments[\"body\"].astype(str),first_only=True,stats_enabled=True)"
   ]
  },
  {
   "cell_type": "code",
   "execution_count": 20,
   "metadata": {},
   "outputs": [
    {
     "data": {
      "text/html": [
       "<div>\n",
       "<style scoped>\n",
       "    .dataframe tbody tr th:only-of-type {\n",
       "        vertical-align: middle;\n",
       "    }\n",
       "\n",
       "    .dataframe tbody tr th {\n",
       "        vertical-align: top;\n",
       "    }\n",
       "\n",
       "    .dataframe thead th {\n",
       "        text-align: right;\n",
       "    }\n",
       "</style>\n",
       "<table border=\"1\" class=\"dataframe\">\n",
       "  <thead>\n",
       "    <tr style=\"text-align: right;\">\n",
       "      <th></th>\n",
       "      <th>idstr</th>\n",
       "      <th>created</th>\n",
       "      <th>parent</th>\n",
       "      <th>submission</th>\n",
       "      <th>body</th>\n",
       "      <th>score</th>\n",
       "      <th>predicted_label</th>\n",
       "      <th>confidence</th>\n",
       "      <th>entity</th>\n",
       "    </tr>\n",
       "  </thead>\n",
       "  <tbody>\n",
       "    <tr>\n",
       "      <th>0</th>\n",
       "      <td>t1_fkvzrtb</td>\n",
       "      <td>2020-03-19 01:10:44</td>\n",
       "      <td>t3_fkzxge</td>\n",
       "      <td>t3_fkzxge</td>\n",
       "      <td>This is a great idea!!! Thanks for starting this.</td>\n",
       "      <td>14.0</td>\n",
       "      <td>positive</td>\n",
       "      <td>0.989029</td>\n",
       "      <td>COMM 431</td>\n",
       "    </tr>\n",
       "    <tr>\n",
       "      <th>1</th>\n",
       "      <td>t1_fkvzyub</td>\n",
       "      <td>2020-03-19 01:12:43</td>\n",
       "      <td>t1_fkvypyl</td>\n",
       "      <td>t3_fkw1nj</td>\n",
       "      <td>To me, the problem was that they didn't tell u...</td>\n",
       "      <td>4.0</td>\n",
       "      <td>negative</td>\n",
       "      <td>0.662670</td>\n",
       "      <td>NONE</td>\n",
       "    </tr>\n",
       "    <tr>\n",
       "      <th>2</th>\n",
       "      <td>t1_fkw04uf</td>\n",
       "      <td>2020-03-19 01:14:27</td>\n",
       "      <td>t1_fkvs07g</td>\n",
       "      <td>t3_fkw1nj</td>\n",
       "      <td>Plus there were people who may have left campu...</td>\n",
       "      <td>2.0</td>\n",
       "      <td>negative</td>\n",
       "      <td>0.575662</td>\n",
       "      <td>NONE</td>\n",
       "    </tr>\n",
       "    <tr>\n",
       "      <th>3</th>\n",
       "      <td>t1_fkw0fg1</td>\n",
       "      <td>2020-03-19 01:17:31</td>\n",
       "      <td>t1_fkvzyub</td>\n",
       "      <td>t3_fkw1nj</td>\n",
       "      <td>I think it was pretty clear that when they say...</td>\n",
       "      <td>8.0</td>\n",
       "      <td>neutral</td>\n",
       "      <td>0.581127</td>\n",
       "      <td>NONE</td>\n",
       "    </tr>\n",
       "    <tr>\n",
       "      <th>4</th>\n",
       "      <td>t1_fkw0gqm</td>\n",
       "      <td>2020-03-19 01:17:54</td>\n",
       "      <td>t1_fkw04uf</td>\n",
       "      <td>t3_fkw1nj</td>\n",
       "      <td>Yeah that's ass for those people, I sympathize...</td>\n",
       "      <td>1.0</td>\n",
       "      <td>negative</td>\n",
       "      <td>0.880160</td>\n",
       "      <td>NONE</td>\n",
       "    </tr>\n",
       "  </tbody>\n",
       "</table>\n",
       "</div>"
      ],
      "text/plain": [
       "        idstr              created      parent submission  \\\n",
       "0  t1_fkvzrtb  2020-03-19 01:10:44   t3_fkzxge  t3_fkzxge   \n",
       "1  t1_fkvzyub  2020-03-19 01:12:43  t1_fkvypyl  t3_fkw1nj   \n",
       "2  t1_fkw04uf  2020-03-19 01:14:27  t1_fkvs07g  t3_fkw1nj   \n",
       "3  t1_fkw0fg1  2020-03-19 01:17:31  t1_fkvzyub  t3_fkw1nj   \n",
       "4  t1_fkw0gqm  2020-03-19 01:17:54  t1_fkw04uf  t3_fkw1nj   \n",
       "\n",
       "                                                body  score predicted_label  \\\n",
       "0  This is a great idea!!! Thanks for starting this.   14.0        positive   \n",
       "1  To me, the problem was that they didn't tell u...    4.0        negative   \n",
       "2  Plus there were people who may have left campu...    2.0        negative   \n",
       "3  I think it was pretty clear that when they say...    8.0         neutral   \n",
       "4  Yeah that's ass for those people, I sympathize...    1.0        negative   \n",
       "\n",
       "   confidence    entity  \n",
       "0    0.989029  COMM 431  \n",
       "1    0.662670      NONE  \n",
       "2    0.575662      NONE  \n",
       "3    0.581127      NONE  \n",
       "4    0.880160      NONE  "
      ]
     },
     "execution_count": 20,
     "metadata": {},
     "output_type": "execute_result"
    }
   ],
   "source": [
    "\n",
    "post_ids = posts[[\"idstr\",\"entity\"]].values\n",
    "comment_ids = comments[[\"parent\",\"idstr\",\"entity\"]].values\n",
    "\n",
    "linking = link(post_ids,comment_ids) # create dictionary with comment structure\n",
    "json_file = open(\"linking.json\", \"w\")\n",
    "json.dump(linking, json_file, indent=4)\n",
    "\n",
    "comments[\"entity\"] = comment_ids[:,2] # replace entities with the linked entities\n",
    "comments.to_csv('entities.csv')\n",
    "comments.head()"
   ]
  }
 ],
 "metadata": {
  "kernelspec": {
   "display_name": "Python 3",
   "language": "python",
   "name": "python3"
  },
  "language_info": {
   "codemirror_mode": {
    "name": "ipython",
    "version": 3
   },
   "file_extension": ".py",
   "mimetype": "text/x-python",
   "name": "python",
   "nbconvert_exporter": "python",
   "pygments_lexer": "ipython3",
   "version": "3.9.6"
  },
  "orig_nbformat": 4,
  "vscode": {
   "interpreter": {
    "hash": "aee8b7b246df8f9039afb4144a1f6fd8d2ca17a180786b69acc140d282b71a49"
   }
  }
 },
 "nbformat": 4,
 "nbformat_minor": 2
}

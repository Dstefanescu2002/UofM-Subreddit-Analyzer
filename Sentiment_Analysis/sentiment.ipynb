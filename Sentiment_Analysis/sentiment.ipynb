{
 "cells": [
  {
   "cell_type": "code",
   "execution_count": 3,
   "metadata": {},
   "outputs": [
    {
     "name": "stdout",
     "output_type": "stream",
     "text": [
      "The autoreload extension is already loaded. To reload it, use:\n",
      "  %reload_ext autoreload\n"
     ]
    }
   ],
   "source": [
    "%load_ext autoreload\n",
    "%autoreload 2"
   ]
  },
  {
   "cell_type": "code",
   "execution_count": 4,
   "metadata": {},
   "outputs": [
    {
     "name": "stderr",
     "output_type": "stream",
     "text": [
      "150it [00:00, 26785.83it/s]<?, ?it/s]\n",
      "150it [00:00, 46689.84it/s]\n",
      "150it [00:00, 29598.49it/s]\n",
      "100%|██████████| 3/3 [00:00<00:00, 66.87it/s]\n"
     ]
    }
   ],
   "source": [
    "import os\n",
    "from tqdm import tqdm\n",
    "import pandas as pd\n",
    "directory = '../Labelled_Data'\n",
    " \n",
    "posts = []\n",
    "labels = []\n",
    "for filename in tqdm(os.listdir(directory)):\n",
    "    f = os.path.join(directory, filename)\n",
    "    if os.path.isfile(f):\n",
    "        parser_df = pd.read_csv(f)\n",
    "        for index, row in tqdm(parser_df.iterrows()):\n",
    "            posts.append(row['title_text_combined'])\n",
    "            labels.append(row['sentiment_labels'])"
   ]
  },
  {
   "cell_type": "code",
   "execution_count": 5,
   "metadata": {},
   "outputs": [
    {
     "name": "stderr",
     "output_type": "stream",
     "text": [
      "/Users/danielstefanescu/miniforge3/lib/python3.10/site-packages/tqdm/auto.py:22: TqdmWarning: IProgress not found. Please update jupyter and ipywidgets. See https://ipywidgets.readthedocs.io/en/stable/user_install.html\n",
      "  from .autonotebook import tqdm as notebook_tqdm\n",
      "Some weights of the model checkpoint at cardiffnlp/twitter-roberta-base-sentiment-latest were not used when initializing RobertaForSequenceClassification: ['roberta.pooler.dense.weight', 'roberta.pooler.dense.bias']\n",
      "- This IS expected if you are initializing RobertaForSequenceClassification from the checkpoint of a model trained on another task or with another architecture (e.g. initializing a BertForSequenceClassification model from a BertForPreTraining model).\n",
      "- This IS NOT expected if you are initializing RobertaForSequenceClassification from the checkpoint of a model that you expect to be exactly identical (initializing a BertForSequenceClassification model from a BertForSequenceClassification model).\n",
      "59it [00:23,  2.54it/s]"
     ]
    },
    {
     "name": "stdout",
     "output_type": "stream",
     "text": [
      "Sentiment Analysis Failed on post #59\n"
     ]
    },
    {
     "name": "stderr",
     "output_type": "stream",
     "text": [
      "68it [00:26,  3.21it/s]"
     ]
    },
    {
     "name": "stdout",
     "output_type": "stream",
     "text": [
      "Sentiment Analysis Failed on post #68\n",
      "Sentiment Analysis Failed on post #69\n"
     ]
    },
    {
     "name": "stderr",
     "output_type": "stream",
     "text": [
      "186it [00:59, 10.06it/s]"
     ]
    },
    {
     "name": "stdout",
     "output_type": "stream",
     "text": [
      "Sentiment Analysis Failed on post #184\n"
     ]
    },
    {
     "name": "stderr",
     "output_type": "stream",
     "text": [
      "209it [01:02,  8.47it/s]"
     ]
    },
    {
     "name": "stdout",
     "output_type": "stream",
     "text": [
      "Sentiment Analysis Failed on post #207\n"
     ]
    },
    {
     "name": "stderr",
     "output_type": "stream",
     "text": [
      "242it [01:08,  6.25it/s]"
     ]
    },
    {
     "name": "stdout",
     "output_type": "stream",
     "text": [
      "Sentiment Analysis Failed on post #240\n"
     ]
    },
    {
     "name": "stderr",
     "output_type": "stream",
     "text": [
      "322it [01:32,  5.22it/s]"
     ]
    },
    {
     "name": "stdout",
     "output_type": "stream",
     "text": [
      "Sentiment Analysis Failed on post #320\n"
     ]
    },
    {
     "name": "stderr",
     "output_type": "stream",
     "text": [
      "332it [01:34,  7.40it/s]"
     ]
    },
    {
     "name": "stdout",
     "output_type": "stream",
     "text": [
      "Sentiment Analysis Failed on post #330\n"
     ]
    },
    {
     "name": "stderr",
     "output_type": "stream",
     "text": [
      "450it [01:55,  3.90it/s]\n"
     ]
    }
   ],
   "source": [
    "from sentiment_analysis import SentimentAnalyzer\n",
    "sentiment_analyzer = SentimentAnalyzer()\n",
    "pred_labels = sentiment_analyzer.batch_analysis(posts)\n"
   ]
  },
  {
   "cell_type": "code",
   "execution_count": 7,
   "metadata": {},
   "outputs": [
    {
     "name": "stdout",
     "output_type": "stream",
     "text": [
      "Charlie Accuracy: (0.5866666666666667, 150)\n",
      "Daniel Accuracy: (0.76, 150)\n",
      "Dillan Accuract: (0.7266666666666667, 150)\n",
      "Overall Accuracy (0.0 Confidence): (0.6911111111111111, 450)\n",
      "Overall Accuracy (.75 Confidence): (0.8356164383561644, 219)\n",
      "Neutral Count (Pred): 299\n",
      "Neutral Count (Labelled): 254\n"
     ]
    }
   ],
   "source": [
    "print (\"Charlie Accuracy:\", sentiment_analyzer.calculate_accuracy(pred_labels[:150], labels[:150]))\n",
    "print (\"Daniel Accuracy:\", sentiment_analyzer.calculate_accuracy(pred_labels[150:300], labels[150:300]))\n",
    "print (\"Dillan Accuract:\", sentiment_analyzer.calculate_accuracy(pred_labels[300:], labels[300:]))\n",
    "\n",
    "print (\"Overall Accuracy (0.0 Confidence):\", sentiment_analyzer.calculate_accuracy(pred_labels, labels))\n",
    "print (\"Overall Accuracy (.75 Confidence):\", sentiment_analyzer.calculate_accuracy(pred_labels, labels, 0.75))\n",
    "\n",
    "print (\"Neutral Count (Pred):\", len([i for i in pred_labels if i[0] == 'neutral']))\n",
    "print (\"Neutral Count (Labelled):\", len([i for i in labels if i == 0]))"
   ]
  }
 ],
 "metadata": {
  "kernelspec": {
   "display_name": "base",
   "language": "python",
   "name": "python3"
  },
  "language_info": {
   "codemirror_mode": {
    "name": "ipython",
    "version": 3
   },
   "file_extension": ".py",
   "mimetype": "text/x-python",
   "name": "python",
   "nbconvert_exporter": "python",
   "pygments_lexer": "ipython3",
   "version": "3.10.6 | packaged by conda-forge | (main, Aug 22 2022, 20:41:22) [Clang 13.0.1 ]"
  },
  "orig_nbformat": 4,
  "vscode": {
   "interpreter": {
    "hash": "c0131f037897c358a9a268dfd2e11505808df673ecd6e283ac185a0b749caaaf"
   }
  }
 },
 "nbformat": 4,
 "nbformat_minor": 2
}

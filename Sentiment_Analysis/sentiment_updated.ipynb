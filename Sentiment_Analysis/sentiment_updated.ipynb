{
 "cells": [
  {
   "cell_type": "markdown",
   "id": "2ed470a1",
   "metadata": {},
   "source": [
    "Reference: https://huggingface.co/cardiffnlp/twitter-roberta-base-sentiment-latest"
   ]
  },
  {
   "cell_type": "code",
   "execution_count": 1,
   "id": "ccd94037",
   "metadata": {},
   "outputs": [
    {
     "name": "stderr",
     "output_type": "stream",
     "text": [
      "/Library/Frameworks/Python.framework/Versions/3.10/lib/python3.10/site-packages/tqdm/auto.py:21: TqdmWarning: IProgress not found. Please update jupyter and ipywidgets. See https://ipywidgets.readthedocs.io/en/stable/user_install.html\n",
      "  from .autonotebook import tqdm as notebook_tqdm\n"
     ]
    }
   ],
   "source": [
    "import os\n",
    "from transformers import AutoModelForSequenceClassification\n",
    "from transformers import TFAutoModelForSequenceClassification\n",
    "from transformers import AutoTokenizer, AutoConfig\n",
    "from sklearn.metrics import confusion_matrix, ConfusionMatrixDisplay\n",
    "import numpy as np\n",
    "import pandas as pd\n",
    "from scipy.special import softmax"
   ]
  },
  {
   "cell_type": "code",
   "execution_count": 2,
   "id": "e9842f63",
   "metadata": {},
   "outputs": [],
   "source": [
    "RAW_COMMENT_PATH = 'data_2018_2023/comments.csv'\n",
    "RAW_POST_PATH = 'data_2018_2023/posts.csv'\n",
    "\n",
    "CHARLIE_LABEL_PATH = 'manual/charlie_comments.csv'\n",
    "DANIEL_LABEL_PATH = 'manual/daniel_comments.csv'\n",
    "DILLAN_LABEL_PATH = 'manual/dillan_comments.csv'\n",
    "\n",
    "COMMENT_OUTPUT_DIR = 'full_data_batch_label/labeled_comments'\n",
    "POST_OUTPUT_DIR = 'full_data_batch_label/labeled_posts'"
   ]
  },
  {
   "cell_type": "code",
   "execution_count": 3,
   "id": "6ffee184",
   "metadata": {},
   "outputs": [],
   "source": [
    "def make_prediction(batch_idx, text_idx, text, tokenizer, model):\n",
    "    '''Acquire sentiment prediction for a single text.'''\n",
    "    try:\n",
    "        encoded_input = tokenizer(text, return_tensors='pt')\n",
    "        output = model(**encoded_input)\n",
    "        scores = output[0][0].detach().numpy()\n",
    "        scores = softmax(scores)\n",
    "        ranking = np.argsort(scores)\n",
    "        ranking = ranking[::-1]\n",
    "        pred_idx = np.argmax(scores)\n",
    "    except:\n",
    "        print('Failed to predict sentiment for batch %i text %i!' % (batch_idx, text_idx))\n",
    "        return ('error', 0)\n",
    "    \n",
    "    return (config.id2label[pred_idx], scores[pred_idx])\n",
    "\n",
    "\n",
    "def make_batch_prediction(batch_idx, output_filename, batch, tokenizer, model):\n",
    "    '''Acquire sentiment prediction for a batch of texts'''\n",
    "    text_list = list(batch.body)\n",
    "    prediction_list = [make_prediction(batch_idx, text_idx, text, tokenizer, model) for text_idx, text in enumerate(text_list)]\n",
    "    \n",
    "    batch['predicted_label'] = [pair[0] for pair in prediction_list]\n",
    "    batch['confidence'] = [pair[1] for pair in prediction_list]\n",
    "    batch.to_csv(output_filename, index=False)\n",
    "    \n",
    "    print(batch.predicted_label.value_counts(normalize=True))"
   ]
  },
  {
   "cell_type": "markdown",
   "id": "7f77a402",
   "metadata": {},
   "source": [
    "### Model setup"
   ]
  },
  {
   "cell_type": "code",
   "execution_count": 4,
   "id": "2f16ef8d",
   "metadata": {},
   "outputs": [
    {
     "name": "stderr",
     "output_type": "stream",
     "text": [
      "Some weights of the model checkpoint at cardiffnlp/twitter-roberta-base-sentiment-latest were not used when initializing RobertaForSequenceClassification: ['roberta.pooler.dense.weight', 'roberta.pooler.dense.bias']\n",
      "- This IS expected if you are initializing RobertaForSequenceClassification from the checkpoint of a model trained on another task or with another architecture (e.g. initializing a BertForSequenceClassification model from a BertForPreTraining model).\n",
      "- This IS NOT expected if you are initializing RobertaForSequenceClassification from the checkpoint of a model that you expect to be exactly identical (initializing a BertForSequenceClassification model from a BertForSequenceClassification model).\n"
     ]
    }
   ],
   "source": [
    "MODEL = f\"cardiffnlp/twitter-roberta-base-sentiment-latest\"\n",
    "tokenizer = AutoTokenizer.from_pretrained(MODEL)\n",
    "config = AutoConfig.from_pretrained(MODEL)\n",
    "\n",
    "# PT\n",
    "model = AutoModelForSequenceClassification.from_pretrained(MODEL)"
   ]
  },
  {
   "cell_type": "code",
   "execution_count": 13,
   "id": "9a1bd247",
   "metadata": {},
   "outputs": [
    {
     "data": {
      "text/plain": [
       "array([0.22169703, 0.6094966 , 0.1688064 ], dtype=float32)"
      ]
     },
     "execution_count": 13,
     "metadata": {},
     "output_type": "execute_result"
    }
   ],
   "source": [
    "# Example prediction task\n",
    "\n",
    "text = \"bro relax\"\n",
    "encoded_input = tokenizer(text, return_tensors='pt')\n",
    "output = model(**encoded_input)\n",
    "scores = output[0][0].detach().numpy()\n",
    "scores = softmax(scores)\n",
    "ranking = np.argsort(scores)\n",
    "ranking = ranking[::-1]\n",
    "scores"
   ]
  },
  {
   "cell_type": "code",
   "execution_count": 14,
   "id": "612b0fa6",
   "metadata": {},
   "outputs": [
    {
     "name": "stdout",
     "output_type": "stream",
     "text": [
      "1) neutral 0.6095\n",
      "2) negative 0.2217\n",
      "3) positive 0.1688\n"
     ]
    }
   ],
   "source": [
    "for i in range(scores.shape[0]):\n",
    "    l = config.id2label[ranking[i]]\n",
    "    s = scores[ranking[i]]\n",
    "    print(f\"{i+1}) {l} {np.round(float(s), 4)}\")"
   ]
  },
  {
   "cell_type": "markdown",
   "id": "1ab0ab75",
   "metadata": {},
   "source": [
    "### Input Data Setup\n",
    "Load data for the main prediction task"
   ]
  },
  {
   "cell_type": "code",
   "execution_count": 7,
   "id": "79429bc9",
   "metadata": {},
   "outputs": [],
   "source": [
    "# Predicting sentiment for the full dataset\n",
    "main_comment_df = pd.read_csv(RAW_COMMENT_PATH)\n",
    "main_post_df = pd.read_csv(RAW_POST_PATH)\n",
    "\n",
    "main_comment_df.body = main_comment_df.body.fillna('')\n",
    "main_post_df.title_text_combined = main_post_df.title_text_combined.fillna('')\n",
    "\n",
    "# Rename the text field in post df to be consistent with comment df\n",
    "main_post_df.rename({'title_text_combined': 'body'}, axis=1, inplace=True)\n",
    "\n",
    "# Split into 40 or 4 batches as checkpoints to recover from interruptions\n",
    "comment_batches = np.array_split(main_comment_df, 40)\n",
    "post_batches = np.array_split(main_post_df, 4)"
   ]
  },
  {
   "cell_type": "code",
   "execution_count": 8,
   "id": "daae8a69",
   "metadata": {},
   "outputs": [
    {
     "data": {
      "text/html": [
       "<div>\n",
       "<style scoped>\n",
       "    .dataframe tbody tr th:only-of-type {\n",
       "        vertical-align: middle;\n",
       "    }\n",
       "\n",
       "    .dataframe tbody tr th {\n",
       "        vertical-align: top;\n",
       "    }\n",
       "\n",
       "    .dataframe thead th {\n",
       "        text-align: right;\n",
       "    }\n",
       "</style>\n",
       "<table border=\"1\" class=\"dataframe\">\n",
       "  <thead>\n",
       "    <tr style=\"text-align: right;\">\n",
       "      <th></th>\n",
       "      <th>idstr</th>\n",
       "      <th>created</th>\n",
       "      <th>parent</th>\n",
       "      <th>submission</th>\n",
       "      <th>body</th>\n",
       "      <th>score</th>\n",
       "    </tr>\n",
       "  </thead>\n",
       "  <tbody>\n",
       "    <tr>\n",
       "      <th>0</th>\n",
       "      <td>t1_e57ddqc</td>\n",
       "      <td>2018-09-01 09:40:47</td>\n",
       "      <td>t1_e55e71k</td>\n",
       "      <td>t3_9bmgmx</td>\n",
       "      <td>this is maybe true but I'll still take a smell...</td>\n",
       "      <td>1.0</td>\n",
       "    </tr>\n",
       "    <tr>\n",
       "      <th>1</th>\n",
       "      <td>t1_e57gijd</td>\n",
       "      <td>2018-09-01 11:34:08</td>\n",
       "      <td>t3_9c2dxp</td>\n",
       "      <td>t3_9c2dxp</td>\n",
       "      <td>It's not a big deal, just be respectful about ...</td>\n",
       "      <td>56.0</td>\n",
       "    </tr>\n",
       "    <tr>\n",
       "      <th>2</th>\n",
       "      <td>t1_e57ih7p</td>\n",
       "      <td>2018-09-01 12:28:47</td>\n",
       "      <td>t3_9c2dxp</td>\n",
       "      <td>t3_9c2dxp</td>\n",
       "      <td>They also record 280 lectures online so you ca...</td>\n",
       "      <td>17.0</td>\n",
       "    </tr>\n",
       "    <tr>\n",
       "      <th>3</th>\n",
       "      <td>t1_e57khfz</td>\n",
       "      <td>2018-09-01 13:13:55</td>\n",
       "      <td>t3_9c2dxp</td>\n",
       "      <td>t3_9c2dxp</td>\n",
       "      <td>No, the principal will find out and put it on ...</td>\n",
       "      <td>90.0</td>\n",
       "    </tr>\n",
       "    <tr>\n",
       "      <th>4</th>\n",
       "      <td>t1_e57kio1</td>\n",
       "      <td>2018-09-01 13:14:36</td>\n",
       "      <td>t3_9c2dxp</td>\n",
       "      <td>t3_9c2dxp</td>\n",
       "      <td>May also want to let your prof know that you w...</td>\n",
       "      <td>12.0</td>\n",
       "    </tr>\n",
       "  </tbody>\n",
       "</table>\n",
       "</div>"
      ],
      "text/plain": [
       "        idstr              created      parent submission  \\\n",
       "0  t1_e57ddqc  2018-09-01 09:40:47  t1_e55e71k  t3_9bmgmx   \n",
       "1  t1_e57gijd  2018-09-01 11:34:08   t3_9c2dxp  t3_9c2dxp   \n",
       "2  t1_e57ih7p  2018-09-01 12:28:47   t3_9c2dxp  t3_9c2dxp   \n",
       "3  t1_e57khfz  2018-09-01 13:13:55   t3_9c2dxp  t3_9c2dxp   \n",
       "4  t1_e57kio1  2018-09-01 13:14:36   t3_9c2dxp  t3_9c2dxp   \n",
       "\n",
       "                                                body  score  \n",
       "0  this is maybe true but I'll still take a smell...    1.0  \n",
       "1  It's not a big deal, just be respectful about ...   56.0  \n",
       "2  They also record 280 lectures online so you ca...   17.0  \n",
       "3  No, the principal will find out and put it on ...   90.0  \n",
       "4  May also want to let your prof know that you w...   12.0  "
      ]
     },
     "execution_count": 8,
     "metadata": {},
     "output_type": "execute_result"
    }
   ],
   "source": [
    "main_comment_df.head()"
   ]
  },
  {
   "cell_type": "markdown",
   "id": "661bb5b8",
   "metadata": {},
   "source": [
    "Or load manually annotated subset for model validation"
   ]
  },
  {
   "cell_type": "code",
   "execution_count": 27,
   "id": "01a98d7a",
   "metadata": {},
   "outputs": [
    {
     "data": {
      "text/html": [
       "<div>\n",
       "<style scoped>\n",
       "    .dataframe tbody tr th:only-of-type {\n",
       "        vertical-align: middle;\n",
       "    }\n",
       "\n",
       "    .dataframe tbody tr th {\n",
       "        vertical-align: top;\n",
       "    }\n",
       "\n",
       "    .dataframe thead th {\n",
       "        text-align: right;\n",
       "    }\n",
       "</style>\n",
       "<table border=\"1\" class=\"dataframe\">\n",
       "  <thead>\n",
       "    <tr style=\"text-align: right;\">\n",
       "      <th></th>\n",
       "      <th>charlie_label</th>\n",
       "      <th>dillan_label</th>\n",
       "      <th>daniel_label</th>\n",
       "    </tr>\n",
       "  </thead>\n",
       "  <tbody>\n",
       "    <tr>\n",
       "      <th>0</th>\n",
       "      <td>1</td>\n",
       "      <td>1</td>\n",
       "      <td>1</td>\n",
       "    </tr>\n",
       "    <tr>\n",
       "      <th>1</th>\n",
       "      <td>-1</td>\n",
       "      <td>-1</td>\n",
       "      <td>-1</td>\n",
       "    </tr>\n",
       "    <tr>\n",
       "      <th>2</th>\n",
       "      <td>1</td>\n",
       "      <td>-1</td>\n",
       "      <td>1</td>\n",
       "    </tr>\n",
       "    <tr>\n",
       "      <th>3</th>\n",
       "      <td>1</td>\n",
       "      <td>1</td>\n",
       "      <td>-1</td>\n",
       "    </tr>\n",
       "    <tr>\n",
       "      <th>4</th>\n",
       "      <td>1</td>\n",
       "      <td>1</td>\n",
       "      <td>0</td>\n",
       "    </tr>\n",
       "  </tbody>\n",
       "</table>\n",
       "</div>"
      ],
      "text/plain": [
       "   charlie_label  dillan_label daniel_label\n",
       "0              1             1            1\n",
       "1             -1            -1           -1\n",
       "2              1            -1            1\n",
       "3              1             1           -1\n",
       "4              1             1            0"
      ]
     },
     "execution_count": 27,
     "metadata": {},
     "output_type": "execute_result"
    }
   ],
   "source": [
    "# Predicting sentiment for round 2 manual labels\n",
    "charlie_label_df = pd.read_csv(CHARLIE_LABEL_PATH)\n",
    "dillan_label_df = pd.read_csv(DILLAN_LABEL_PATH)\n",
    "daniel_label_df = pd.read_csv(DANIEL_LABEL_PATH)\n",
    "\n",
    "comparison = pd.DataFrame()\n",
    "comparison['charlie_label'] = charlie_label_df.sentiment_label\n",
    "comparison['dillan_label'] = dillan_label_df.sentiment_label\n",
    "comparison['daniel_label'] = daniel_label_df.sentiment_label\n",
    "comparison.head()"
   ]
  },
  {
   "cell_type": "markdown",
   "id": "9ecae6f5",
   "metadata": {},
   "source": [
    "### Prediction Loop"
   ]
  },
  {
   "cell_type": "markdown",
   "id": "cfbc9104",
   "metadata": {},
   "source": [
    "#### 1. Manual label validation"
   ]
  },
  {
   "cell_type": "code",
   "execution_count": 28,
   "id": "d00a4dd2",
   "metadata": {},
   "outputs": [
    {
     "name": "stdout",
     "output_type": "stream",
     "text": [
      "Failed to predict sentiment for batch 0 text 310!\n"
     ]
    },
    {
     "data": {
      "text/html": [
       "<div>\n",
       "<style scoped>\n",
       "    .dataframe tbody tr th:only-of-type {\n",
       "        vertical-align: middle;\n",
       "    }\n",
       "\n",
       "    .dataframe tbody tr th {\n",
       "        vertical-align: top;\n",
       "    }\n",
       "\n",
       "    .dataframe thead th {\n",
       "        text-align: right;\n",
       "    }\n",
       "</style>\n",
       "<table border=\"1\" class=\"dataframe\">\n",
       "  <thead>\n",
       "    <tr style=\"text-align: right;\">\n",
       "      <th></th>\n",
       "      <th>charlie_label</th>\n",
       "      <th>dillan_label</th>\n",
       "      <th>daniel_label</th>\n",
       "      <th>body</th>\n",
       "      <th>model_label</th>\n",
       "      <th>model_confidence</th>\n",
       "    </tr>\n",
       "  </thead>\n",
       "  <tbody>\n",
       "    <tr>\n",
       "      <th>0</th>\n",
       "      <td>1</td>\n",
       "      <td>1</td>\n",
       "      <td>1</td>\n",
       "      <td>congrats on passing!!!!!!! this is something t...</td>\n",
       "      <td>1</td>\n",
       "      <td>0.974098</td>\n",
       "    </tr>\n",
       "    <tr>\n",
       "      <th>1</th>\n",
       "      <td>-1</td>\n",
       "      <td>-1</td>\n",
       "      <td>-1</td>\n",
       "      <td>bro…relax</td>\n",
       "      <td>0</td>\n",
       "      <td>0.690845</td>\n",
       "    </tr>\n",
       "    <tr>\n",
       "      <th>2</th>\n",
       "      <td>1</td>\n",
       "      <td>-1</td>\n",
       "      <td>1</td>\n",
       "      <td>I had the same problem coming in as a freshman...</td>\n",
       "      <td>1</td>\n",
       "      <td>0.376017</td>\n",
       "    </tr>\n",
       "    <tr>\n",
       "      <th>3</th>\n",
       "      <td>1</td>\n",
       "      <td>1</td>\n",
       "      <td>-1</td>\n",
       "      <td>Well, can’t give ya comfort because I think th...</td>\n",
       "      <td>0</td>\n",
       "      <td>0.558477</td>\n",
       "    </tr>\n",
       "    <tr>\n",
       "      <th>4</th>\n",
       "      <td>1</td>\n",
       "      <td>1</td>\n",
       "      <td>0</td>\n",
       "      <td>Grades don’t really matter. I graduated years ...</td>\n",
       "      <td>0</td>\n",
       "      <td>0.478843</td>\n",
       "    </tr>\n",
       "  </tbody>\n",
       "</table>\n",
       "</div>"
      ],
      "text/plain": [
       "   charlie_label  dillan_label daniel_label  \\\n",
       "0              1             1            1   \n",
       "1             -1            -1           -1   \n",
       "2              1            -1            1   \n",
       "3              1             1           -1   \n",
       "4              1             1            0   \n",
       "\n",
       "                                                body  model_label  \\\n",
       "0  congrats on passing!!!!!!! this is something t...            1   \n",
       "1                                          bro…relax            0   \n",
       "2  I had the same problem coming in as a freshman...            1   \n",
       "3  Well, can’t give ya comfort because I think th...            0   \n",
       "4  Grades don’t really matter. I graduated years ...            0   \n",
       "\n",
       "   model_confidence  \n",
       "0          0.974098  \n",
       "1          0.690845  \n",
       "2          0.376017  \n",
       "3          0.558477  \n",
       "4          0.478843  "
      ]
     },
     "execution_count": 28,
     "metadata": {},
     "output_type": "execute_result"
    }
   ],
   "source": [
    "validation_texts = charlie_label_df.body.fillna('')\n",
    "comparison['body'] = validation_texts\n",
    "\n",
    "output = [make_prediction(0, idx, text, tokenizer, model) for idx, text in enumerate(validation_texts)]\n",
    "comparison['model_label'] = [pair[0] for pair in output]\n",
    "comparison['model_label'] = comparison['model_label'].replace({'positive': 1, 'negative': -1, 'neutral': 0, 'error': 0})\n",
    "comparison['model_confidence'] = [pair[1] for pair in output]\n",
    "comparison.head()"
   ]
  },
  {
   "cell_type": "code",
   "execution_count": 9,
   "id": "ff00cd84",
   "metadata": {},
   "outputs": [
    {
     "data": {
      "text/html": [
       "<div>\n",
       "<style scoped>\n",
       "    .dataframe tbody tr th:only-of-type {\n",
       "        vertical-align: middle;\n",
       "    }\n",
       "\n",
       "    .dataframe tbody tr th {\n",
       "        vertical-align: top;\n",
       "    }\n",
       "\n",
       "    .dataframe thead th {\n",
       "        text-align: right;\n",
       "    }\n",
       "</style>\n",
       "<table border=\"1\" class=\"dataframe\">\n",
       "  <thead>\n",
       "    <tr style=\"text-align: right;\">\n",
       "      <th></th>\n",
       "      <th>level_of_match</th>\n",
       "      <th>number_of_match</th>\n",
       "    </tr>\n",
       "  </thead>\n",
       "  <tbody>\n",
       "    <tr>\n",
       "      <th>0</th>\n",
       "      <td>3</td>\n",
       "      <td>221</td>\n",
       "    </tr>\n",
       "    <tr>\n",
       "      <th>1</th>\n",
       "      <td>2</td>\n",
       "      <td>95</td>\n",
       "    </tr>\n",
       "    <tr>\n",
       "      <th>2</th>\n",
       "      <td>1</td>\n",
       "      <td>71</td>\n",
       "    </tr>\n",
       "    <tr>\n",
       "      <th>3</th>\n",
       "      <td>0</td>\n",
       "      <td>46</td>\n",
       "    </tr>\n",
       "  </tbody>\n",
       "</table>\n",
       "</div>"
      ],
      "text/plain": [
       "   level_of_match  number_of_match\n",
       "0               3              221\n",
       "1               2               95\n",
       "2               1               71\n",
       "3               0               46"
      ]
     },
     "execution_count": 9,
     "metadata": {},
     "output_type": "execute_result"
    }
   ],
   "source": [
    "# Counting the number of annotators that the model agrees with for each text\n",
    "accuracy = (comparison.charlie_label == comparison.model_label).astype(int) + (comparison.dillan_label == comparison.model_label).astype(int) + (comparison.daniel_label == comparison.model_label.astype(str)).astype(int)\n",
    "accuracy = pd.DataFrame(accuracy.value_counts()).reset_index()\n",
    "accuracy.columns = ['level_of_match', 'number_of_match']\n",
    "accuracy"
   ]
  },
  {
   "cell_type": "code",
   "execution_count": 29,
   "id": "f4d24887",
   "metadata": {},
   "outputs": [
    {
     "name": "stdout",
     "output_type": "stream",
     "text": [
      "<class 'pandas.core.frame.DataFrame'>\n",
      "RangeIndex: 433 entries, 0 to 432\n",
      "Data columns (total 6 columns):\n",
      " #   Column            Non-Null Count  Dtype  \n",
      "---  ------            --------------  -----  \n",
      " 0   charlie_label     433 non-null    int64  \n",
      " 1   dillan_label      433 non-null    int64  \n",
      " 2   daniel_label      433 non-null    object \n",
      " 3   body              433 non-null    object \n",
      " 4   model_label       433 non-null    int64  \n",
      " 5   model_confidence  433 non-null    float64\n",
      "dtypes: float64(1), int64(3), object(2)\n",
      "memory usage: 20.4+ KB\n"
     ]
    }
   ],
   "source": [
    "comparison.info()"
   ]
  },
  {
   "cell_type": "code",
   "execution_count": 38,
   "id": "12ef85df",
   "metadata": {},
   "outputs": [
    {
     "data": {
      "text/html": [
       "<div>\n",
       "<style scoped>\n",
       "    .dataframe tbody tr th:only-of-type {\n",
       "        vertical-align: middle;\n",
       "    }\n",
       "\n",
       "    .dataframe tbody tr th {\n",
       "        vertical-align: top;\n",
       "    }\n",
       "\n",
       "    .dataframe thead th {\n",
       "        text-align: right;\n",
       "    }\n",
       "</style>\n",
       "<table border=\"1\" class=\"dataframe\">\n",
       "  <thead>\n",
       "    <tr style=\"text-align: right;\">\n",
       "      <th></th>\n",
       "      <th>charlie_label</th>\n",
       "      <th>dillan_label</th>\n",
       "      <th>daniel_label</th>\n",
       "      <th>body</th>\n",
       "      <th>model_label</th>\n",
       "      <th>model_confidence</th>\n",
       "      <th>consensus</th>\n",
       "    </tr>\n",
       "  </thead>\n",
       "  <tbody>\n",
       "    <tr>\n",
       "      <th>12</th>\n",
       "      <td>1</td>\n",
       "      <td>-1</td>\n",
       "      <td>0</td>\n",
       "      <td>Same bro, just got an internship offer 2 days ...</td>\n",
       "      <td>1</td>\n",
       "      <td>0.827566</td>\n",
       "      <td>1</td>\n",
       "    </tr>\n",
       "    <tr>\n",
       "      <th>20</th>\n",
       "      <td>-1</td>\n",
       "      <td>0</td>\n",
       "      <td>1</td>\n",
       "      <td>By definition a C grade is passing and indicat...</td>\n",
       "      <td>1</td>\n",
       "      <td>0.856058</td>\n",
       "      <td>1</td>\n",
       "    </tr>\n",
       "    <tr>\n",
       "      <th>95</th>\n",
       "      <td>1</td>\n",
       "      <td>0</td>\n",
       "      <td>-1</td>\n",
       "      <td>Good.  If we don’t respect not guilty verdicts...</td>\n",
       "      <td>-1</td>\n",
       "      <td>0.678503</td>\n",
       "      <td>-1</td>\n",
       "    </tr>\n",
       "    <tr>\n",
       "      <th>214</th>\n",
       "      <td>-1</td>\n",
       "      <td>1</td>\n",
       "      <td>0</td>\n",
       "      <td>Negative 60k? School for profit</td>\n",
       "      <td>0</td>\n",
       "      <td>0.577416</td>\n",
       "      <td>0</td>\n",
       "    </tr>\n",
       "    <tr>\n",
       "      <th>261</th>\n",
       "      <td>1</td>\n",
       "      <td>-1</td>\n",
       "      <td>0</td>\n",
       "      <td>I wouldn’t say its super hard, I and many of m...</td>\n",
       "      <td>0</td>\n",
       "      <td>0.600051</td>\n",
       "      <td>0</td>\n",
       "    </tr>\n",
       "    <tr>\n",
       "      <th>267</th>\n",
       "      <td>1</td>\n",
       "      <td>-1</td>\n",
       "      <td>0</td>\n",
       "      <td>Dunno why ppl downvoted but yea u should defin...</td>\n",
       "      <td>0</td>\n",
       "      <td>0.565983</td>\n",
       "      <td>0</td>\n",
       "    </tr>\n",
       "    <tr>\n",
       "      <th>279</th>\n",
       "      <td>1</td>\n",
       "      <td>0</td>\n",
       "      <td>-1</td>\n",
       "      <td>He doesn't have debt anyway (I'm jealous) but ...</td>\n",
       "      <td>0</td>\n",
       "      <td>0.517729</td>\n",
       "      <td>0</td>\n",
       "    </tr>\n",
       "    <tr>\n",
       "      <th>402</th>\n",
       "      <td>1</td>\n",
       "      <td>-1</td>\n",
       "      <td>0</td>\n",
       "      <td>Someone in one of the /r/Michigan posts said a...</td>\n",
       "      <td>-1</td>\n",
       "      <td>0.663015</td>\n",
       "      <td>-1</td>\n",
       "    </tr>\n",
       "    <tr>\n",
       "      <th>417</th>\n",
       "      <td>-1</td>\n",
       "      <td>1</td>\n",
       "      <td>0</td>\n",
       "      <td>prof Beaumont apologized to the class today fo...</td>\n",
       "      <td>0</td>\n",
       "      <td>0.591617</td>\n",
       "      <td>0</td>\n",
       "    </tr>\n",
       "  </tbody>\n",
       "</table>\n",
       "</div>"
      ],
      "text/plain": [
       "    charlie_label dillan_label daniel_label  \\\n",
       "12              1           -1            0   \n",
       "20             -1            0            1   \n",
       "95              1            0           -1   \n",
       "214            -1            1            0   \n",
       "261             1           -1            0   \n",
       "267             1           -1            0   \n",
       "279             1            0           -1   \n",
       "402             1           -1            0   \n",
       "417            -1            1            0   \n",
       "\n",
       "                                                  body model_label  \\\n",
       "12   Same bro, just got an internship offer 2 days ...           1   \n",
       "20   By definition a C grade is passing and indicat...           1   \n",
       "95   Good.  If we don’t respect not guilty verdicts...          -1   \n",
       "214                    Negative 60k? School for profit           0   \n",
       "261  I wouldn’t say its super hard, I and many of m...           0   \n",
       "267  Dunno why ppl downvoted but yea u should defin...           0   \n",
       "279  He doesn't have debt anyway (I'm jealous) but ...           0   \n",
       "402  Someone in one of the /r/Michigan posts said a...          -1   \n",
       "417  prof Beaumont apologized to the class today fo...           0   \n",
       "\n",
       "     model_confidence consensus  \n",
       "12           0.827566         1  \n",
       "20           0.856058         1  \n",
       "95           0.678503        -1  \n",
       "214          0.577416         0  \n",
       "261          0.600051         0  \n",
       "267          0.565983         0  \n",
       "279          0.517729         0  \n",
       "402          0.663015        -1  \n",
       "417          0.591617         0  "
      ]
     },
     "execution_count": 38,
     "metadata": {},
     "output_type": "execute_result"
    }
   ],
   "source": [
    "comparison.charlie_label = comparison.charlie_label.astype(str)\n",
    "comparison.dillan_label = comparison.dillan_label.astype(str)\n",
    "comparison.model_label = comparison.model_label.astype(str)\n",
    "temp = comparison[comparison.charlie_label != comparison.dillan_label]\n",
    "temp = temp[temp.charlie_label != temp.daniel_label]\n",
    "temp = temp[temp.daniel_label != temp.dillan_label]\n",
    "temp"
   ]
  },
  {
   "cell_type": "code",
   "execution_count": 39,
   "id": "d7bc8903",
   "metadata": {},
   "outputs": [],
   "source": [
    "def get_consensus(row):\n",
    "    # Any form of majority vote\n",
    "    if row.charlie_label == row.dillan_label:\n",
    "        return row.charlie_label\n",
    "    elif row.dillan_label == row.daniel_label:\n",
    "        return row.dillan_label\n",
    "    elif row.charlie_label == row.daniel_label:\n",
    "        return row.daniel_label\n",
    "    else:\n",
    "        # Model takes a free win if none of us agree\n",
    "        return row.model_label"
   ]
  },
  {
   "cell_type": "code",
   "execution_count": 40,
   "id": "89a58694",
   "metadata": {},
   "outputs": [
    {
     "data": {
      "text/html": [
       "<div>\n",
       "<style scoped>\n",
       "    .dataframe tbody tr th:only-of-type {\n",
       "        vertical-align: middle;\n",
       "    }\n",
       "\n",
       "    .dataframe tbody tr th {\n",
       "        vertical-align: top;\n",
       "    }\n",
       "\n",
       "    .dataframe thead th {\n",
       "        text-align: right;\n",
       "    }\n",
       "</style>\n",
       "<table border=\"1\" class=\"dataframe\">\n",
       "  <thead>\n",
       "    <tr style=\"text-align: right;\">\n",
       "      <th></th>\n",
       "      <th>charlie_label</th>\n",
       "      <th>dillan_label</th>\n",
       "      <th>daniel_label</th>\n",
       "      <th>body</th>\n",
       "      <th>model_label</th>\n",
       "      <th>model_confidence</th>\n",
       "      <th>consensus</th>\n",
       "    </tr>\n",
       "  </thead>\n",
       "  <tbody>\n",
       "    <tr>\n",
       "      <th>0</th>\n",
       "      <td>1</td>\n",
       "      <td>1</td>\n",
       "      <td>1</td>\n",
       "      <td>congrats on passing!!!!!!! this is something t...</td>\n",
       "      <td>1</td>\n",
       "      <td>0.974098</td>\n",
       "      <td>1</td>\n",
       "    </tr>\n",
       "    <tr>\n",
       "      <th>1</th>\n",
       "      <td>-1</td>\n",
       "      <td>-1</td>\n",
       "      <td>-1</td>\n",
       "      <td>bro…relax</td>\n",
       "      <td>0</td>\n",
       "      <td>0.690845</td>\n",
       "      <td>-1</td>\n",
       "    </tr>\n",
       "    <tr>\n",
       "      <th>2</th>\n",
       "      <td>1</td>\n",
       "      <td>-1</td>\n",
       "      <td>1</td>\n",
       "      <td>I had the same problem coming in as a freshman...</td>\n",
       "      <td>1</td>\n",
       "      <td>0.376017</td>\n",
       "      <td>1</td>\n",
       "    </tr>\n",
       "    <tr>\n",
       "      <th>3</th>\n",
       "      <td>1</td>\n",
       "      <td>1</td>\n",
       "      <td>-1</td>\n",
       "      <td>Well, can’t give ya comfort because I think th...</td>\n",
       "      <td>0</td>\n",
       "      <td>0.558477</td>\n",
       "      <td>1</td>\n",
       "    </tr>\n",
       "    <tr>\n",
       "      <th>4</th>\n",
       "      <td>1</td>\n",
       "      <td>1</td>\n",
       "      <td>0</td>\n",
       "      <td>Grades don’t really matter. I graduated years ...</td>\n",
       "      <td>0</td>\n",
       "      <td>0.478843</td>\n",
       "      <td>1</td>\n",
       "    </tr>\n",
       "    <tr>\n",
       "      <th>...</th>\n",
       "      <td>...</td>\n",
       "      <td>...</td>\n",
       "      <td>...</td>\n",
       "      <td>...</td>\n",
       "      <td>...</td>\n",
       "      <td>...</td>\n",
       "      <td>...</td>\n",
       "    </tr>\n",
       "    <tr>\n",
       "      <th>428</th>\n",
       "      <td>0</td>\n",
       "      <td>1</td>\n",
       "      <td>0</td>\n",
       "      <td>It wasn’t a hard assignment, I started at 10:3...</td>\n",
       "      <td>1</td>\n",
       "      <td>0.629152</td>\n",
       "      <td>0</td>\n",
       "    </tr>\n",
       "    <tr>\n",
       "      <th>429</th>\n",
       "      <td>1</td>\n",
       "      <td>1</td>\n",
       "      <td>1</td>\n",
       "      <td>Don’t be scared!!! If you can get through 280 ...</td>\n",
       "      <td>1</td>\n",
       "      <td>0.910908</td>\n",
       "      <td>1</td>\n",
       "    </tr>\n",
       "    <tr>\n",
       "      <th>430</th>\n",
       "      <td>-1</td>\n",
       "      <td>0</td>\n",
       "      <td>0</td>\n",
       "      <td>Just bomb that part of hw and it's just less t...</td>\n",
       "      <td>-1</td>\n",
       "      <td>0.693472</td>\n",
       "      <td>0</td>\n",
       "    </tr>\n",
       "    <tr>\n",
       "      <th>431</th>\n",
       "      <td>0</td>\n",
       "      <td>-1</td>\n",
       "      <td>0</td>\n",
       "      <td>it takes 15 minutes to read the instructions, ...</td>\n",
       "      <td>-1</td>\n",
       "      <td>0.559133</td>\n",
       "      <td>0</td>\n",
       "    </tr>\n",
       "    <tr>\n",
       "      <th>432</th>\n",
       "      <td>0</td>\n",
       "      <td>-1</td>\n",
       "      <td>-1</td>\n",
       "      <td>no i dont think you do</td>\n",
       "      <td>0</td>\n",
       "      <td>0.514990</td>\n",
       "      <td>-1</td>\n",
       "    </tr>\n",
       "  </tbody>\n",
       "</table>\n",
       "<p>433 rows × 7 columns</p>\n",
       "</div>"
      ],
      "text/plain": [
       "    charlie_label dillan_label daniel_label  \\\n",
       "0               1            1            1   \n",
       "1              -1           -1           -1   \n",
       "2               1           -1            1   \n",
       "3               1            1           -1   \n",
       "4               1            1            0   \n",
       "..            ...          ...          ...   \n",
       "428             0            1            0   \n",
       "429             1            1            1   \n",
       "430            -1            0            0   \n",
       "431             0           -1            0   \n",
       "432             0           -1           -1   \n",
       "\n",
       "                                                  body model_label  \\\n",
       "0    congrats on passing!!!!!!! this is something t...           1   \n",
       "1                                            bro…relax           0   \n",
       "2    I had the same problem coming in as a freshman...           1   \n",
       "3    Well, can’t give ya comfort because I think th...           0   \n",
       "4    Grades don’t really matter. I graduated years ...           0   \n",
       "..                                                 ...         ...   \n",
       "428  It wasn’t a hard assignment, I started at 10:3...           1   \n",
       "429  Don’t be scared!!! If you can get through 280 ...           1   \n",
       "430  Just bomb that part of hw and it's just less t...          -1   \n",
       "431  it takes 15 minutes to read the instructions, ...          -1   \n",
       "432                             no i dont think you do           0   \n",
       "\n",
       "     model_confidence consensus  \n",
       "0            0.974098         1  \n",
       "1            0.690845        -1  \n",
       "2            0.376017         1  \n",
       "3            0.558477         1  \n",
       "4            0.478843         1  \n",
       "..                ...       ...  \n",
       "428          0.629152         0  \n",
       "429          0.910908         1  \n",
       "430          0.693472         0  \n",
       "431          0.559133         0  \n",
       "432          0.514990        -1  \n",
       "\n",
       "[433 rows x 7 columns]"
      ]
     },
     "execution_count": 40,
     "metadata": {},
     "output_type": "execute_result"
    }
   ],
   "source": [
    "comparison['consensus'] = comparison.apply(lambda r: get_consensus(r), axis=1)\n",
    "comparison"
   ]
  },
  {
   "cell_type": "code",
   "execution_count": 41,
   "id": "75b2493c",
   "metadata": {},
   "outputs": [
    {
     "name": "stdout",
     "output_type": "stream",
     "text": [
      "<class 'pandas.core.frame.DataFrame'>\n",
      "RangeIndex: 433 entries, 0 to 432\n",
      "Data columns (total 7 columns):\n",
      " #   Column            Non-Null Count  Dtype  \n",
      "---  ------            --------------  -----  \n",
      " 0   charlie_label     433 non-null    object \n",
      " 1   dillan_label      433 non-null    object \n",
      " 2   daniel_label      433 non-null    object \n",
      " 3   body              433 non-null    object \n",
      " 4   model_label       433 non-null    object \n",
      " 5   model_confidence  433 non-null    float64\n",
      " 6   consensus         433 non-null    object \n",
      "dtypes: float64(1), object(6)\n",
      "memory usage: 23.8+ KB\n"
     ]
    }
   ],
   "source": [
    "comparison.info()"
   ]
  },
  {
   "cell_type": "code",
   "execution_count": 42,
   "id": "7fb790ef",
   "metadata": {},
   "outputs": [
    {
     "data": {
      "text/plain": [
       "<sklearn.metrics._plot.confusion_matrix.ConfusionMatrixDisplay at 0x12e15d840>"
      ]
     },
     "execution_count": 42,
     "metadata": {},
     "output_type": "execute_result"
    },
    {
     "data": {
      "image/png": "[encoded data removed]",
      "text/plain": [
       "<Figure size 640x480 with 2 Axes>"
      ]
     },
     "metadata": {},
     "output_type": "display_data"
    }
   ],
   "source": [
    "ConfusionMatrixDisplay.from_predictions(comparison.consensus, comparison.model_label, normalize='true')"
   ]
  },
  {
   "cell_type": "markdown",
   "id": "43c1116a",
   "metadata": {},
   "source": [
    "<b>Validation Results\n",
    "* Total number of observations: 433\n",
    "* Percentage of model predictions that matches at least two human labels: 0.73\n",
    "* Percentage of model predictions that matches at least one human label: 0.89"
   ]
  },
  {
   "cell_type": "markdown",
   "id": "f2f0c0c4",
   "metadata": {},
   "source": [
    "======================================================================================================\n",
    "#### 2. Full dataset prediction"
   ]
  },
  {
   "cell_type": "markdown",
   "id": "c9b844a2",
   "metadata": {},
   "source": [
    "<b>Comments Sentiment Predictions\n",
    "* Rough estimation of sentiment distribution: Neutral-50%, Positive-25%, Negative-25%, Error-0.1%"
   ]
  },
  {
   "cell_type": "code",
   "execution_count": null,
   "id": "8ea9e506",
   "metadata": {},
   "outputs": [],
   "source": [
    "for idx, batch in enumerate(comment_batches):\n",
    "    output_filename = os.path.join(COMMENT_OUTPUT_DIR, 'batch_%i.csv' % idx)\n",
    "    make_batch_prediction(idx, output_filename, batch, tokenizer, model)"
   ]
  },
  {
   "cell_type": "markdown",
   "id": "8efdb7ed",
   "metadata": {},
   "source": [
    "<b>Posts Sentiment Predictions\n",
    "* Rough estimation of sentiment distribution: Neutral-73%, Positive-9%, Negative-18%, Error-0.5%"
   ]
  },
  {
   "cell_type": "code",
   "execution_count": null,
   "id": "1868f4ae",
   "metadata": {},
   "outputs": [],
   "source": [
    "for idx, batch in enumerate(post_batches):\n",
    "    output_filename = os.path.join(POST_OUTPUT_DIR, 'batch_%i.csv' % idx)\n",
    "    make_batch_prediction(idx, output_filename, batch, tokenizer, model)"
   ]
  }
 ],
 "metadata": {
  "kernelspec": {
   "display_name": "Python 3 (ipykernel)",
   "language": "python",
   "name": "python3"
  },
  "language_info": {
   "codemirror_mode": {
    "name": "ipython",
    "version": 3
   },
   "file_extension": ".py",
   "mimetype": "text/x-python",
   "name": "python",
   "nbconvert_exporter": "python",
   "pygments_lexer": "ipython3",
   "version": "3.10.10"
  }
 },
 "nbformat": 4,
 "nbformat_minor": 5
}

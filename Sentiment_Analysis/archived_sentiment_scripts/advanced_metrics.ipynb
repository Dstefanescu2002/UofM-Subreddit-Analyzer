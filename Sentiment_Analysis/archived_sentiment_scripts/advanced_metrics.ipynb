{
 "cells": [
  {
   "cell_type": "code",
   "execution_count": 1,
   "id": "dc2f8b7b",
   "metadata": {},
   "outputs": [],
   "source": [
    "import pandas as pd\n",
    "import numpy as np\n",
    "from sklearn.metrics import ConfusionMatrixDisplay"
   ]
  },
  {
   "cell_type": "code",
   "execution_count": 2,
   "id": "e955041b",
   "metadata": {},
   "outputs": [],
   "source": [
    "# Example data: all mistakes were made with low confidence, all correct predictions have high confidence\n",
    "# default accuracy: 0.5\n",
    "example_pred_labels = [(-1, 0.23), (-1, 0.23), (0, 0.23), (1, 0.23), (-1, 0.23), \n",
    "                       (0, 0.83), (0, 0.83), (1, 0.83), (-1, 0.83), (-1, 0.83)]\n",
    "example_pred_labels_only = [-1, -1, 0, 1, -1, 0, 0, 1, -1, -1]\n",
    "example_correct_labels = [0, 1, 1, -1, 0, 0, 0, 1, -1, -1]"
   ]
  },
  {
   "cell_type": "markdown",
   "id": "a1bc96fa",
   "metadata": {},
   "source": [
    "#### 1.1 Adjusted Accuracy\n",
    "low confidence mistakes slightly boosts the final 'accuracy' <br>\n",
    "high confidence mistakes inflict extra penalty on the final 'accuracy' <br>\n",
    "(the other way around for correct predictions)"
   ]
  },
  {
   "cell_type": "code",
   "execution_count": 3,
   "id": "6f3308c2",
   "metadata": {},
   "outputs": [],
   "source": [
    "def calculate_adjusted_accuracy(pred_labels, correct_labels, confidence_min=0):\n",
    "    num_correct = 0\n",
    "    for idx, pair in enumerate(pred_labels): \n",
    "        if pair[0] != correct_labels[idx]:\n",
    "            num_correct += (0.5-pair[1])\n",
    "        else:\n",
    "            num_correct += 1 + (pair[1] - 0.5)\n",
    "    return num_correct / len(correct_labels)"
   ]
  },
  {
   "cell_type": "code",
   "execution_count": 4,
   "id": "7e08d95a",
   "metadata": {},
   "outputs": [
    {
     "data": {
      "text/plain": [
       "0.8"
      ]
     },
     "execution_count": 4,
     "metadata": {},
     "output_type": "execute_result"
    }
   ],
   "source": [
    "calculate_adjusted_accuracy(example_pred_labels, example_correct_labels)"
   ]
  },
  {
   "cell_type": "markdown",
   "id": "8046a211",
   "metadata": {},
   "source": [
    "#### 1.2 Alternative: multiple ROC plots\n",
    "which takes probability into consideration. But we have to think about whether the confidence output represents actual probability.\n",
    "\n",
    "https://towardsdatascience.com/multiclass-classification-evaluation-with-roc-curves-and-roc-auc-294fd4617e3a"
   ]
  },
  {
   "cell_type": "markdown",
   "id": "c43e2cb3",
   "metadata": {},
   "source": [
    "#### 2 Confusion Matrix"
   ]
  },
  {
   "cell_type": "code",
   "execution_count": 5,
   "id": "8cde868d",
   "metadata": {},
   "outputs": [
    {
     "data": {
      "text/plain": [
       "<sklearn.metrics._plot.confusion_matrix.ConfusionMatrixDisplay at 0x103321ff0>"
      ]
     },
     "execution_count": 5,
     "metadata": {},
     "output_type": "execute_result"
    },
    {
     "data": {
      "image/png": "[encoded data removed]",
      "text/plain": [
       "<Figure size 640x480 with 2 Axes>"
      ]
     },
     "metadata": {},
     "output_type": "display_data"
    }
   ],
   "source": [
    "# normalize='true': row adds up to 1\n",
    "# remove the normalize parameter: raw counts\n",
    "ConfusionMatrixDisplay.from_predictions(example_correct_labels, example_pred_labels_only, normalize='true')"
   ]
  }
 ],
 "metadata": {
  "kernelspec": {
   "display_name": "base",
   "language": "python",
   "name": "python3"
  },
  "language_info": {
   "codemirror_mode": {
    "name": "ipython",
    "version": 3
   },
   "file_extension": ".py",
   "mimetype": "text/x-python",
   "name": "python",
   "nbconvert_exporter": "python",
   "pygments_lexer": "ipython3",
   "version": "3.10.6"
  },
  "vscode": {
   "interpreter": {
    "hash": "c0131f037897c358a9a268dfd2e11505808df673ecd6e283ac185a0b749caaaf"
   }
  }
 },
 "nbformat": 4,
 "nbformat_minor": 5
}

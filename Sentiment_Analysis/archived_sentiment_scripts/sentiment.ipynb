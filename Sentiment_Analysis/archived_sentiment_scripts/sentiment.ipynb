{
 "cells": [
  {
   "cell_type": "code",
   "execution_count": 6,
   "metadata": {},
   "outputs": [],
   "source": [
    "%load_ext autoreload\n",
    "%autoreload 2"
   ]
  },
  {
   "cell_type": "code",
   "execution_count": 4,
   "metadata": {},
   "outputs": [
    {
     "name": "stderr",
     "output_type": "stream",
     "text": [
      "150it [00:00, 27012.39it/s]<?, ?it/s]\n",
      "150it [00:00, 28940.87it/s]\n",
      "150it [00:00, 28079.34it/s]\n",
      "100%|██████████| 3/3 [00:00<00:00, 64.83it/s]\n"
     ]
    }
   ],
   "source": [
    "import os\n",
    "from tqdm import tqdm\n",
    "import pandas as pd\n",
    "directory = '../Labelled_Data'\n",
    " \n",
    "posts = []\n",
    "labels = []\n",
    "for filename in tqdm(os.listdir(directory)):\n",
    "    f = os.path.join(directory, filename)\n",
    "    if os.path.isfile(f):\n",
    "        parser_df = pd.read_csv(f)\n",
    "        for index, row in tqdm(parser_df.iterrows()):\n",
    "            posts.append(row['title_text_combined'])\n",
    "            labels.append(row['sentiment_labels'])"
   ]
  },
  {
   "cell_type": "code",
   "execution_count": 5,
   "metadata": {},
   "outputs": [
    {
     "name": "stderr",
     "output_type": "stream",
     "text": [
      "Some weights of the model checkpoint at cardiffnlp/twitter-roberta-base-sentiment-latest were not used when initializing RobertaForSequenceClassification: ['roberta.pooler.dense.bias', 'roberta.pooler.dense.weight']\n",
      "- This IS expected if you are initializing RobertaForSequenceClassification from the checkpoint of a model trained on another task or with another architecture (e.g. initializing a BertForSequenceClassification model from a BertForPreTraining model).\n",
      "- This IS NOT expected if you are initializing RobertaForSequenceClassification from the checkpoint of a model that you expect to be exactly identical (initializing a BertForSequenceClassification model from a BertForSequenceClassification model).\n",
      "44it [00:28,  3.61it/s]"
     ]
    },
    {
     "name": "stdout",
     "output_type": "stream",
     "text": [
      "Sentiment Analysis Failed on post #43\n"
     ]
    },
    {
     "name": "stderr",
     "output_type": "stream",
     "text": [
      "61it [00:32,  5.33it/s]"
     ]
    },
    {
     "name": "stdout",
     "output_type": "stream",
     "text": [
      "Sentiment Analysis Failed on post #59\n"
     ]
    },
    {
     "name": "stderr",
     "output_type": "stream",
     "text": [
      "68it [00:35,  2.55it/s]"
     ]
    },
    {
     "name": "stdout",
     "output_type": "stream",
     "text": [
      "Sentiment Analysis Failed on post #68\n",
      "Sentiment Analysis Failed on post #69\n"
     ]
    },
    {
     "name": "stderr",
     "output_type": "stream",
     "text": [
      "184it [01:14,  5.61it/s]"
     ]
    },
    {
     "name": "stdout",
     "output_type": "stream",
     "text": [
      "Sentiment Analysis Failed on post #184\n"
     ]
    },
    {
     "name": "stderr",
     "output_type": "stream",
     "text": [
      "209it [01:20,  6.79it/s]"
     ]
    },
    {
     "name": "stdout",
     "output_type": "stream",
     "text": [
      "Sentiment Analysis Failed on post #207\n"
     ]
    },
    {
     "name": "stderr",
     "output_type": "stream",
     "text": [
      "242it [01:34,  2.69it/s]"
     ]
    },
    {
     "name": "stdout",
     "output_type": "stream",
     "text": [
      "Sentiment Analysis Failed on post #240\n"
     ]
    },
    {
     "name": "stderr",
     "output_type": "stream",
     "text": [
      "320it [02:19,  1.31s/it]"
     ]
    },
    {
     "name": "stdout",
     "output_type": "stream",
     "text": [
      "Sentiment Analysis Failed on post #320\n"
     ]
    },
    {
     "name": "stderr",
     "output_type": "stream",
     "text": [
      "332it [02:23,  4.15it/s]"
     ]
    },
    {
     "name": "stdout",
     "output_type": "stream",
     "text": [
      "Sentiment Analysis Failed on post #330\n"
     ]
    },
    {
     "name": "stderr",
     "output_type": "stream",
     "text": [
      "450it [02:52,  2.61it/s]\n"
     ]
    }
   ],
   "source": [
    "from sentiment_analysis import SentimentAnalyzer\n",
    "sentiment_analyzer = SentimentAnalyzer()\n",
    "pred_labels = sentiment_analyzer.batch_analysis(posts)\n"
   ]
  },
  {
   "cell_type": "code",
   "execution_count": 28,
   "metadata": {},
   "outputs": [
    {
     "name": "stdout",
     "output_type": "stream",
     "text": [
      "Charlie Accuracy: (0.5866666666666667, 150)\n",
      "Daniel Accuracy: (0.76, 150)\n",
      "Dillan Accuract: (0.7266666666666667, 150)\n",
      "Overall Accuracy (0.0 Confidence): (0.6911111111111111, 450)\n",
      "Overall Accuracy (.75 Confidence): (0.8394495412844036, 218)\n",
      "Neutral Count (Pred): 0\n",
      "Neutral Count (Labelled): 254\n"
     ]
    }
   ],
   "source": [
    "print (\"Charlie Accuracy:\", sentiment_analyzer.calculate_accuracy(pred_labels[:150], labels[:150]))\n",
    "print (\"Daniel Accuracy:\", sentiment_analyzer.calculate_accuracy(pred_labels[150:300], labels[150:300]))\n",
    "print (\"Dillan Accuract:\", sentiment_analyzer.calculate_accuracy(pred_labels[300:], labels[300:]))\n",
    "\n",
    "print (\"Overall Accuracy (0.0 Confidence):\", sentiment_analyzer.calculate_accuracy(pred_labels, labels))\n",
    "print (\"Overall Accuracy (.75 Confidence):\", sentiment_analyzer.calculate_accuracy(pred_labels, labels, 0.75))\n",
    "\n",
    "print (\"Neutral Count (Pred):\", len([i for i in pred_labels if i[0] == 'neutral']))\n",
    "print (\"Neutral Count (Labelled):\", len([i for i in labels if i == 0]))"
   ]
  },
  {
   "cell_type": "code",
   "execution_count": 29,
   "metadata": {},
   "outputs": [
    {
     "data": {
      "text/plain": [
       "<sklearn.metrics._plot.confusion_matrix.ConfusionMatrixDisplay at 0x2c7028040>"
      ]
     },
     "execution_count": 29,
     "metadata": {},
     "output_type": "execute_result"
    },
    {
     "data": {
      "image/png": "[encoded data removed]",
      "text/plain": [
       "<Figure size 640x480 with 2 Axes>"
      ]
     },
     "metadata": {},
     "output_type": "display_data"
    }
   ],
   "source": [
    "from sklearn.metrics import ConfusionMatrixDisplay\n",
    "ConfusionMatrixDisplay.from_predictions([x[0] for x in pred_labels], labels, normalize='true')"
   ]
  },
  {
   "cell_type": "code",
   "execution_count": 30,
   "metadata": {},
   "outputs": [
    {
     "data": {
      "text/plain": [
       "0.834313507411215"
      ]
     },
     "execution_count": 30,
     "metadata": {},
     "output_type": "execute_result"
    }
   ],
   "source": [
    "sentiment_analyzer.calculate_adjusted_accuracy(pred_labels, labels)"
   ]
  },
  {
   "attachments": {},
   "cell_type": "markdown",
   "metadata": {},
   "source": [
    "Cross-labelling Accuracy Analysis"
   ]
  },
  {
   "cell_type": "code",
   "execution_count": 7,
   "metadata": {},
   "outputs": [
    {
     "name": "stderr",
     "output_type": "stream",
     "text": [
      "433it [00:00, 52837.59it/s]<?, ?it/s]\n",
      "433it [00:00, 55074.41it/s]\n",
      "433it [00:00, 58601.97it/s]\n",
      "100%|██████████| 3/3 [00:00<00:00, 81.05it/s]\n"
     ]
    }
   ],
   "source": [
    "import os\n",
    "from tqdm import tqdm\n",
    "import pandas as pd\n",
    "directory = '../Cross_Labelled_Data/Comments'\n",
    " \n",
    "comments = []\n",
    "cross_labels = []\n",
    "first_file = True\n",
    "for filename in tqdm(os.listdir(directory)):\n",
    "    f = os.path.join(directory, filename)\n",
    "    if os.path.isfile(f):\n",
    "        parser_df = pd.read_csv(f)\n",
    "        for index, row in tqdm(parser_df.iterrows()):\n",
    "            if first_file:\n",
    "                comments.append(row['body'])\n",
    "                cross_labels.append([])\n",
    "            cross_labels[index].append(row['sentiment_label'])\n",
    "    first_file = False"
   ]
  },
  {
   "cell_type": "code",
   "execution_count": 10,
   "metadata": {},
   "outputs": [
    {
     "name": "stderr",
     "output_type": "stream",
     "text": [
      "/Users/danielstefanescu/miniforge3/lib/python3.10/site-packages/tqdm/auto.py:22: TqdmWarning: IProgress not found. Please update jupyter and ipywidgets. See https://ipywidgets.readthedocs.io/en/stable/user_install.html\n",
      "  from .autonotebook import tqdm as notebook_tqdm\n",
      "Some weights of the model checkpoint at cardiffnlp/twitter-roberta-base-sentiment-latest were not used when initializing RobertaForSequenceClassification: ['roberta.pooler.dense.bias', 'roberta.pooler.dense.weight']\n",
      "- This IS expected if you are initializing RobertaForSequenceClassification from the checkpoint of a model trained on another task or with another architecture (e.g. initializing a BertForSequenceClassification model from a BertForPreTraining model).\n",
      "- This IS NOT expected if you are initializing RobertaForSequenceClassification from the checkpoint of a model that you expect to be exactly identical (initializing a BertForSequenceClassification model from a BertForSequenceClassification model).\n",
      "310it [00:49,  4.88it/s]"
     ]
    },
    {
     "name": "stdout",
     "output_type": "stream",
     "text": [
      "Sentiment Analysis Failed on post #310\n"
     ]
    },
    {
     "name": "stderr",
     "output_type": "stream",
     "text": [
      "433it [01:03,  6.78it/s]\n"
     ]
    }
   ],
   "source": [
    "from sentiment_analysis import SentimentAnalyzer\n",
    "sentiment_analyzer = SentimentAnalyzer()\n",
    "pred_labels = sentiment_analyzer.batch_analysis(comments)"
   ]
  },
  {
   "cell_type": "code",
   "execution_count": 18,
   "metadata": {},
   "outputs": [
    {
     "name": "stdout",
     "output_type": "stream",
     "text": [
      "Negative-Acc: 0.8616352201257862, Neutral-Acc: 0.8056872037914692, Positive-Acc: 0.873015873015873\n",
      "Cross Accuracy: 0.836027713625866\n"
     ]
    }
   ],
   "source": [
    "print (\"Cross Accuracy:\", sentiment_analyzer.calculate_cross_accuracy(pred_labels, cross_labels))"
   ]
  }
 ],
 "metadata": {
  "kernelspec": {
   "display_name": "base",
   "language": "python",
   "name": "python3"
  },
  "language_info": {
   "codemirror_mode": {
    "name": "ipython",
    "version": 3
   },
   "file_extension": ".py",
   "mimetype": "text/x-python",
   "name": "python",
   "nbconvert_exporter": "python",
   "pygments_lexer": "ipython3",
   "version": "3.10.6 | packaged by conda-forge | (main, Aug 22 2022, 20:41:22) [Clang 13.0.1 ]"
  },
  "orig_nbformat": 4,
  "vscode": {
   "interpreter": {
    "hash": "c0131f037897c358a9a268dfd2e11505808df673ecd6e283ac185a0b749caaaf"
   }
  }
 },
 "nbformat": 4,
 "nbformat_minor": 2
}
